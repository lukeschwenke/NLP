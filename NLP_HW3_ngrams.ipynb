{
 "cells": [
  {
   "cell_type": "markdown",
   "metadata": {},
   "source": [
    "## NLP Assignment #3 - Luke Schwenke"
   ]
  },
  {
   "cell_type": "code",
   "execution_count": 165,
   "metadata": {},
   "outputs": [],
   "source": [
    "import pandas as pd\n",
    "import nltk\n",
    "from nltk.util import ngrams\n",
    "from nltk.tokenize import word_tokenize\n",
    "from scipy.spatial.distance import jaccard\n",
    "from nltk import TweetTokenizer\n",
    "from nltk.stem import WordNetLemmatizer\n",
    "\n",
    "pd.set_option('display.max_rows', 100)\n",
    "pd.set_option('display.max_columns', None)\n",
    "pd.set_option('display.max_colwidth', 500)"
   ]
  },
  {
   "cell_type": "markdown",
   "metadata": {},
   "source": [
    "### Determine which news articles (news_df) are similar to each other and which tweets (tweets_df) are more similar to each other.  In order to accomplish this you need to create n-grams and compare the similarity of the text using Jaccard distance."
   ]
  },
  {
   "cell_type": "markdown",
   "metadata": {},
   "source": [
    "#### Read news data"
   ]
  },
  {
   "cell_type": "code",
   "execution_count": 166,
   "metadata": {},
   "outputs": [
    {
     "name": "stdout",
     "output_type": "stream",
     "text": [
      "Sample contains 1,018 news articles\n"
     ]
    },
    {
     "data": {
      "text/html": [
       "<div>\n",
       "<style scoped>\n",
       "    .dataframe tbody tr th:only-of-type {\n",
       "        vertical-align: middle;\n",
       "    }\n",
       "\n",
       "    .dataframe tbody tr th {\n",
       "        vertical-align: top;\n",
       "    }\n",
       "\n",
       "    .dataframe thead th {\n",
       "        text-align: right;\n",
       "    }\n",
       "</style>\n",
       "<table border=\"1\" class=\"dataframe\">\n",
       "  <thead>\n",
       "    <tr style=\"text-align: right;\">\n",
       "      <th></th>\n",
       "      <th>url</th>\n",
       "      <th>date</th>\n",
       "      <th>language</th>\n",
       "      <th>title</th>\n",
       "      <th>text</th>\n",
       "    </tr>\n",
       "  </thead>\n",
       "  <tbody>\n",
       "    <tr>\n",
       "      <th>0</th>\n",
       "      <td>https://auto.hindustantimes.com/lml-bikes/dealers/bodh-gaya</td>\n",
       "      <td>2022-01-21</td>\n",
       "      <td>en</td>\n",
       "      <td>Lml Bikes Car Dealers - Lml Bikes Showrooms in India</td>\n",
       "      <td>Lml Bikes Car Dealers - Lml Bikes Showrooms in India Explore  Friday, 21 January 2022 Log in/Sign up SearchNotificationsTop SectionsAuto NewsCar NewsBike NewsLatestAuto NewsPhotosVideosElectric VehiclesTrendingMy ReadsOffersnewFind carsFind bikesCompare carsCompare bikesEMI calculatorDealersExplore AutoAbout UsContact UsSITEMAPRSSTerms of UsePrivacy PolicyCopyright © HT Media Limited All rights reserved.HomeOffersnewFind carsFind bikesCompare carsCompare bikesEMI calculatorDealersCar NewsBik...</td>\n",
       "    </tr>\n",
       "    <tr>\n",
       "      <th>1</th>\n",
       "      <td>https://auto.hindustantimes.com/pure-ev-bikes/dealers/avadi</td>\n",
       "      <td>2022-01-21</td>\n",
       "      <td>en</td>\n",
       "      <td>Pure Ev Bikes Car Dealers - Pure Ev Bikes Showrooms in India</td>\n",
       "      <td>Pure Ev Bikes Car Dealers - Pure Ev Bikes Showrooms in India Explore  Friday, 21 January 2022 Log in/Sign up SearchNotificationsTop SectionsAuto NewsCar NewsBike NewsLatestAuto NewsPhotosVideosElectric VehiclesTrendingMy ReadsOffersnewFind carsFind bikesCompare carsCompare bikesEMI calculatorDealersExplore AutoAbout UsContact UsSITEMAPRSSTerms of UsePrivacy PolicyCopyright © HT Media Limited All rights reserved.HomeOffersnewFind carsFind bikesCompare carsCompare bikesEMI calculatorDealersCar...</td>\n",
       "    </tr>\n",
       "  </tbody>\n",
       "</table>\n",
       "</div>"
      ],
      "text/plain": [
       "                                                           url       date  \\\n",
       "0  https://auto.hindustantimes.com/lml-bikes/dealers/bodh-gaya 2022-01-21   \n",
       "1  https://auto.hindustantimes.com/pure-ev-bikes/dealers/avadi 2022-01-21   \n",
       "\n",
       "  language                                                         title  \\\n",
       "0       en          Lml Bikes Car Dealers - Lml Bikes Showrooms in India   \n",
       "1       en  Pure Ev Bikes Car Dealers - Pure Ev Bikes Showrooms in India   \n",
       "\n",
       "                                                                                                                                                                                                                                                                                                                                                                                                                                                                                                                  text  \n",
       "0  Lml Bikes Car Dealers - Lml Bikes Showrooms in India Explore  Friday, 21 January 2022 Log in/Sign up SearchNotificationsTop SectionsAuto NewsCar NewsBike NewsLatestAuto NewsPhotosVideosElectric VehiclesTrendingMy ReadsOffersnewFind carsFind bikesCompare carsCompare bikesEMI calculatorDealersExplore AutoAbout UsContact UsSITEMAPRSSTerms of UsePrivacy PolicyCopyright © HT Media Limited All rights reserved.HomeOffersnewFind carsFind bikesCompare carsCompare bikesEMI calculatorDealersCar NewsBik...  \n",
       "1  Pure Ev Bikes Car Dealers - Pure Ev Bikes Showrooms in India Explore  Friday, 21 January 2022 Log in/Sign up SearchNotificationsTop SectionsAuto NewsCar NewsBike NewsLatestAuto NewsPhotosVideosElectric VehiclesTrendingMy ReadsOffersnewFind carsFind bikesCompare carsCompare bikesEMI calculatorDealersExplore AutoAbout UsContact UsSITEMAPRSSTerms of UsePrivacy PolicyCopyright © HT Media Limited All rights reserved.HomeOffersnewFind carsFind bikesCompare carsCompare bikesEMI calculatorDealersCar...  "
      ]
     },
     "execution_count": 166,
     "metadata": {},
     "output_type": "execute_result"
    }
   ],
   "source": [
    "news_path = 'https://storage.googleapis.com/msca-bdp-data-open/news/nlp_a_3_news.json'\n",
    "news_df = pd.read_json(news_path, orient='records', lines=True, encoding='utf-8')\n",
    "\n",
    "print(f'Sample contains {news_df.shape[0]:,.0f} news articles')\n",
    "news_df.head(2)"
   ]
  },
  {
   "cell_type": "markdown",
   "metadata": {},
   "source": [
    "#### Read Tweets data"
   ]
  },
  {
   "cell_type": "code",
   "execution_count": 167,
   "metadata": {},
   "outputs": [
    {
     "name": "stdout",
     "output_type": "stream",
     "text": [
      "Sample contains 1,020 tweets\n"
     ]
    },
    {
     "data": {
      "text/html": [
       "<div>\n",
       "<style scoped>\n",
       "    .dataframe tbody tr th:only-of-type {\n",
       "        vertical-align: middle;\n",
       "    }\n",
       "\n",
       "    .dataframe tbody tr th {\n",
       "        vertical-align: top;\n",
       "    }\n",
       "\n",
       "    .dataframe thead th {\n",
       "        text-align: right;\n",
       "    }\n",
       "</style>\n",
       "<table border=\"1\" class=\"dataframe\">\n",
       "  <thead>\n",
       "    <tr style=\"text-align: right;\">\n",
       "      <th></th>\n",
       "      <th>id</th>\n",
       "      <th>lang</th>\n",
       "      <th>date</th>\n",
       "      <th>name</th>\n",
       "      <th>retweeted</th>\n",
       "      <th>text</th>\n",
       "    </tr>\n",
       "  </thead>\n",
       "  <tbody>\n",
       "    <tr>\n",
       "      <th>0</th>\n",
       "      <td>1491880241782005777</td>\n",
       "      <td>en</td>\n",
       "      <td>2022-02-10</td>\n",
       "      <td>Sir Botalot dropping the Mike!</td>\n",
       "      <td></td>\n",
       "      <td>@singervehicles Will you do a straight swap for my Renault Twingo 1.2 Extreme? \\n\\nThat is awesome! 🔥</td>\n",
       "    </tr>\n",
       "    <tr>\n",
       "      <th>1</th>\n",
       "      <td>1501237946590142469</td>\n",
       "      <td>en</td>\n",
       "      <td>2022-03-08</td>\n",
       "      <td>Sabrina Ghio</td>\n",
       "      <td>RT</td>\n",
       "      <td>Australian GP Qualifying, Melbourne, 8th March 1997. #F1 The Grid ⬇️\\n\\nRow 3:\\n5. Eddie Irvine (Ferrari) +2.512s\\n6. Mika Hakkinen (McLaren-Mercedes) +2.602s\\n\\nRow 4:\\n7. Johnny Herbert (Sauber-Petronas) +2.918s\\n8. Jean Alesi (Benetton-Renault) +3.224s https://t.co/i4IC4LzVVN</td>\n",
       "    </tr>\n",
       "  </tbody>\n",
       "</table>\n",
       "</div>"
      ],
      "text/plain": [
       "                    id lang       date                            name  \\\n",
       "0  1491880241782005777   en 2022-02-10  Sir Botalot dropping the Mike!   \n",
       "1  1501237946590142469   en 2022-03-08                    Sabrina Ghio   \n",
       "\n",
       "  retweeted  \\\n",
       "0             \n",
       "1        RT   \n",
       "\n",
       "                                                                                                                                                                                                                                                                                      text  \n",
       "0                                                                                                                                                                                    @singervehicles Will you do a straight swap for my Renault Twingo 1.2 Extreme? \\n\\nThat is awesome! 🔥  \n",
       "1  Australian GP Qualifying, Melbourne, 8th March 1997. #F1 The Grid ⬇️\\n\\nRow 3:\\n5. Eddie Irvine (Ferrari) +2.512s\\n6. Mika Hakkinen (McLaren-Mercedes) +2.602s\\n\\nRow 4:\\n7. Johnny Herbert (Sauber-Petronas) +2.918s\\n8. Jean Alesi (Benetton-Renault) +3.224s https://t.co/i4IC4LzVVN  "
      ]
     },
     "execution_count": 167,
     "metadata": {},
     "output_type": "execute_result"
    }
   ],
   "source": [
    "tweets_path = 'https://storage.googleapis.com/msca-bdp-data-open/tweets/nlp_a_3_tweets.json'\n",
    "tweets_df = pd.read_json(tweets_path, orient='records', lines=True)\n",
    "print(f'Sample contains {tweets_df.shape[0]:,.0f} tweets')\n",
    "tweets_df.head(2)"
   ]
  },
  {
   "cell_type": "markdown",
   "metadata": {},
   "source": [
    "### Cleaning / Preparation"
   ]
  },
  {
   "cell_type": "code",
   "execution_count": 168,
   "metadata": {},
   "outputs": [
    {
     "name": "stderr",
     "output_type": "stream",
     "text": [
      "[nltk_data] Downloading package stopwords to\n",
      "[nltk_data]     /Users/lmschwenke/nltk_data...\n",
      "[nltk_data]   Package stopwords is already up-to-date!\n"
     ]
    }
   ],
   "source": [
    "nltk.download('stopwords')\n",
    "stop_words = set(stopwords.words('english'))\n",
    "\n",
    "import re\n",
    "def clean_text(text):\n",
    "    # Remove mentions\n",
    "    text = re.sub(r'@[A-Za-z0-9_]+', '', text)\n",
    "    # Remove hashtags (but keep the text after #)\n",
    "    text = re.sub(r'#', '', text)\n",
    "    # Remove RT (retweet symbol)\n",
    "    text = re.sub(r'RT[\\s]+', '', text)\n",
    "    # Remove hyperlinks\n",
    "    text = re.sub(r'https?:\\/\\/\\S+', '', text)\n",
    "    # Remove newline characters\n",
    "    text = re.sub(r'\\n', ' ', text)\n",
    "    # Remove carriage return characters\n",
    "    text = re.sub(r'\\r', '', text)\n",
    "    # Remove \"&amp;\"\n",
    "    text = re.sub(r'&amp;', '', text)\n",
    "    # Remove other special characters and numbers\n",
    "    text = re.sub(r'[^A-Za-z\\s]', '', text)\n",
    "    # Optionally, remove single characters (mostly left from removing mentions and hashtags)\n",
    "    text = re.sub(r'\\s+[a-zA-Z]\\s+', ' ', text)\n",
    "    # Convert multiple spaces to a single space\n",
    "    text = re.sub(r'\\s+', ' ', text)\n",
    "    # Optionally, convert to lowercase\n",
    "    text = text.lower()\n",
    "    # Remove stopwords\n",
    "    text = ' '.join([word for word in text.split() if word not in stop_words])\n",
    "    \n",
    "    return text.strip()"
   ]
  },
  {
   "cell_type": "code",
   "execution_count": 169,
   "metadata": {},
   "outputs": [],
   "source": [
    "tweets_df['text_clean'] = tweets_df['text'].apply(clean_text)\n",
    "news_df['text_clean'] = news_df['text'].apply(clean_text)\n",
    "news_df['title_clean'] = news_df['title'].apply(clean_text)"
   ]
  },
  {
   "cell_type": "code",
   "execution_count": 170,
   "metadata": {},
   "outputs": [
    {
     "data": {
      "text/plain": [
       "'straight swap renault twingo extreme awesome'"
      ]
     },
     "execution_count": 170,
     "metadata": {},
     "output_type": "execute_result"
    }
   ],
   "source": [
    "# Examine a cleaned sample tweet\n",
    "tweets_df['text_clean'][0]"
   ]
  },
  {
   "cell_type": "code",
   "execution_count": 171,
   "metadata": {},
   "outputs": [
    {
     "data": {
      "text/plain": [
       "'lml bikes car dealers lml bikes showrooms india explore friday january log insign searchnotification'"
      ]
     },
     "execution_count": 171,
     "metadata": {},
     "output_type": "execute_result"
    }
   ],
   "source": [
    "# Examine a cleaned sample news article\n",
    "news_df['text_clean'][0][0:100]"
   ]
  },
  {
   "cell_type": "code",
   "execution_count": 172,
   "metadata": {},
   "outputs": [
    {
     "data": {
      "text/plain": [
       "'lml bikes car dealers lml bikes showrooms india'"
      ]
     },
     "execution_count": 172,
     "metadata": {},
     "output_type": "execute_result"
    }
   ],
   "source": [
    "news_df['title_clean'][0]"
   ]
  },
  {
   "cell_type": "code",
   "execution_count": 173,
   "metadata": {},
   "outputs": [],
   "source": [
    "# Create clean dataset copies\n",
    "news_df_c = news_df\n",
    "tweets_df_c = tweets_df"
   ]
  },
  {
   "cell_type": "markdown",
   "metadata": {},
   "source": [
    "### Define a function that will create n number of ngram columns"
   ]
  },
  {
   "cell_type": "code",
   "execution_count": 174,
   "metadata": {},
   "outputs": [],
   "source": [
    "def create_ngrams(text, n=10):\n",
    "    n_grams = list(nltk.ngrams(text, n))\n",
    "    return n_grams"
   ]
  },
  {
   "cell_type": "markdown",
   "metadata": {},
   "source": [
    "## Section #1: Tweets"
   ]
  },
  {
   "cell_type": "markdown",
   "metadata": {},
   "source": [
    "### Start by tokenizing the tweets"
   ]
  },
  {
   "cell_type": "code",
   "execution_count": 175,
   "metadata": {},
   "outputs": [],
   "source": [
    "def tweet_tokenize(text):\n",
    "    tokenizer = TweetTokenizer()\n",
    "    tokens = tokenizer.tokenize(text)\n",
    "    return tokens"
   ]
  },
  {
   "cell_type": "markdown",
   "metadata": {},
   "source": [
    "### Lemmatize the tokens to the root word"
   ]
  },
  {
   "cell_type": "code",
   "execution_count": 176,
   "metadata": {},
   "outputs": [
    {
     "data": {
      "text/html": [
       "<div>\n",
       "<style scoped>\n",
       "    .dataframe tbody tr th:only-of-type {\n",
       "        vertical-align: middle;\n",
       "    }\n",
       "\n",
       "    .dataframe tbody tr th {\n",
       "        vertical-align: top;\n",
       "    }\n",
       "\n",
       "    .dataframe thead th {\n",
       "        text-align: right;\n",
       "    }\n",
       "</style>\n",
       "<table border=\"1\" class=\"dataframe\">\n",
       "  <thead>\n",
       "    <tr style=\"text-align: right;\">\n",
       "      <th></th>\n",
       "      <th>id</th>\n",
       "      <th>lang</th>\n",
       "      <th>date</th>\n",
       "      <th>name</th>\n",
       "      <th>retweeted</th>\n",
       "      <th>text</th>\n",
       "      <th>text_clean</th>\n",
       "      <th>tokens</th>\n",
       "    </tr>\n",
       "  </thead>\n",
       "  <tbody>\n",
       "    <tr>\n",
       "      <th>0</th>\n",
       "      <td>1491880241782005777</td>\n",
       "      <td>en</td>\n",
       "      <td>2022-02-10</td>\n",
       "      <td>Sir Botalot dropping the Mike!</td>\n",
       "      <td></td>\n",
       "      <td>@singervehicles Will you do a straight swap for my Renault Twingo 1.2 Extreme? \\n\\nThat is awesome! 🔥</td>\n",
       "      <td>straight swap renault twingo extreme awesome</td>\n",
       "      <td>[straight, swap, renault, twingo, extreme, awesome]</td>\n",
       "    </tr>\n",
       "    <tr>\n",
       "      <th>1</th>\n",
       "      <td>1501237946590142469</td>\n",
       "      <td>en</td>\n",
       "      <td>2022-03-08</td>\n",
       "      <td>Sabrina Ghio</td>\n",
       "      <td>RT</td>\n",
       "      <td>Australian GP Qualifying, Melbourne, 8th March 1997. #F1 The Grid ⬇️\\n\\nRow 3:\\n5. Eddie Irvine (Ferrari) +2.512s\\n6. Mika Hakkinen (McLaren-Mercedes) +2.602s\\n\\nRow 4:\\n7. Johnny Herbert (Sauber-Petronas) +2.918s\\n8. Jean Alesi (Benetton-Renault) +3.224s https://t.co/i4IC4LzVVN</td>\n",
       "      <td>australian gp qualifying melbourne th march grid row eddie irvine ferrari mika hakkinen mclarenmercedes row johnny herbert sauberpetronas jean alesi benettonrenault</td>\n",
       "      <td>[australian, gp, qualifying, melbourne, th, march, grid, row, eddie, irvine, ferrari, mika, hakkinen, mclarenmercedes, row, johnny, herbert, sauberpetronas, jean, alesi, benettonrenault]</td>\n",
       "    </tr>\n",
       "    <tr>\n",
       "      <th>2</th>\n",
       "      <td>1505982695129718784</td>\n",
       "      <td>en</td>\n",
       "      <td>2022-03-21</td>\n",
       "      <td>Colin N. Walker 🏴󠁧󠁢󠁳󠁣󠁴󠁿 🇪🇺💙😷 #FBPE</td>\n",
       "      <td>RT</td>\n",
       "      <td>#BoycottRenault\\n\\nThink of the blood of thousands of Ukrainian women and children pouring from every Renault car. \\n\\nhttps://t.co/rbU01Sy9DU</td>\n",
       "      <td>boycottrenault think blood thousands ukrainian women children pouring every renault car</td>\n",
       "      <td>[boycottrenault, think, blood, thousand, ukrainian, woman, child, pouring, every, renault, car]</td>\n",
       "    </tr>\n",
       "    <tr>\n",
       "      <th>3</th>\n",
       "      <td>1516744110463463426</td>\n",
       "      <td>en</td>\n",
       "      <td>2022-04-20</td>\n",
       "      <td>Yvette Lissman</td>\n",
       "      <td>RT</td>\n",
       "      <td>Almost 200,000 workers in Russia still on western payrolls\\n\\nMcDonald’s, IKEA, Renault, Levi Strauss, &amp;amp;others pay salaries to thousands of their employees while their operations in🇷🇺are suspended\\nCoca-Cola, Yum Brands,KFC didn't confirm if they still pay🇷🇺s https://t.co/KWDhCo1dM0</td>\n",
       "      <td>almost workers russia still western payrolls mcdonalds ikea renault levi strauss others pay salaries thousands employees operations inare suspended cocacola yum brandskfc didnt confirm still pays</td>\n",
       "      <td>[almost, worker, russia, still, western, payroll, mcdonalds, ikea, renault, levi, strauss, others, pay, salary, thousand, employee, operation, inare, suspended, cocacola, yum, brandskfc, didnt, confirm, still, pay]</td>\n",
       "    </tr>\n",
       "    <tr>\n",
       "      <th>4</th>\n",
       "      <td>1493777143347630086</td>\n",
       "      <td>en</td>\n",
       "      <td>2022-02-16</td>\n",
       "      <td>Andile Xaba 🇿🇦</td>\n",
       "      <td>RT</td>\n",
       "      <td>Take a selfie with the New #Renault #ClioV and WIN R1000 fuel voucher 💥 tag @tableviewrenault &amp;amp; #renaulttableviewcliov random winner announced 28.02.2022 @BradAtRenault 0825662336 to book a test drive 🇿🇦 https://t.co/D7V2GnJa8B</td>\n",
       "      <td>take selfie new renault cliov win fuel voucher tag renaulttableviewcliov random winner announced book test drive</td>\n",
       "      <td>[take, selfie, new, renault, cliov, win, fuel, voucher, tag, renaulttableviewcliov, random, winner, announced, book, test, drive]</td>\n",
       "    </tr>\n",
       "  </tbody>\n",
       "</table>\n",
       "</div>"
      ],
      "text/plain": [
       "                    id lang       date                                name  \\\n",
       "0  1491880241782005777   en 2022-02-10      Sir Botalot dropping the Mike!   \n",
       "1  1501237946590142469   en 2022-03-08                        Sabrina Ghio   \n",
       "2  1505982695129718784   en 2022-03-21  Colin N. Walker 🏴󠁧󠁢󠁳󠁣󠁴󠁿 🇪🇺💙😷 #FBPE   \n",
       "3  1516744110463463426   en 2022-04-20                      Yvette Lissman   \n",
       "4  1493777143347630086   en 2022-02-16                      Andile Xaba 🇿🇦   \n",
       "\n",
       "  retweeted  \\\n",
       "0             \n",
       "1        RT   \n",
       "2        RT   \n",
       "3        RT   \n",
       "4        RT   \n",
       "\n",
       "                                                                                                                                                                                                                                                                                              text  \\\n",
       "0                                                                                                                                                                                            @singervehicles Will you do a straight swap for my Renault Twingo 1.2 Extreme? \\n\\nThat is awesome! 🔥   \n",
       "1          Australian GP Qualifying, Melbourne, 8th March 1997. #F1 The Grid ⬇️\\n\\nRow 3:\\n5. Eddie Irvine (Ferrari) +2.512s\\n6. Mika Hakkinen (McLaren-Mercedes) +2.602s\\n\\nRow 4:\\n7. Johnny Herbert (Sauber-Petronas) +2.918s\\n8. Jean Alesi (Benetton-Renault) +3.224s https://t.co/i4IC4LzVVN   \n",
       "2                                                                                                                                                   #BoycottRenault\\n\\nThink of the blood of thousands of Ukrainian women and children pouring from every Renault car. \\n\\nhttps://t.co/rbU01Sy9DU   \n",
       "3  Almost 200,000 workers in Russia still on western payrolls\\n\\nMcDonald’s, IKEA, Renault, Levi Strauss, &amp;others pay salaries to thousands of their employees while their operations in🇷🇺are suspended\\nCoca-Cola, Yum Brands,KFC didn't confirm if they still pay🇷🇺s https://t.co/KWDhCo1dM0   \n",
       "4                                                          Take a selfie with the New #Renault #ClioV and WIN R1000 fuel voucher 💥 tag @tableviewrenault &amp; #renaulttableviewcliov random winner announced 28.02.2022 @BradAtRenault 0825662336 to book a test drive 🇿🇦 https://t.co/D7V2GnJa8B   \n",
       "\n",
       "                                                                                                                                                                                            text_clean  \\\n",
       "0                                                                                                                                                         straight swap renault twingo extreme awesome   \n",
       "1                                 australian gp qualifying melbourne th march grid row eddie irvine ferrari mika hakkinen mclarenmercedes row johnny herbert sauberpetronas jean alesi benettonrenault   \n",
       "2                                                                                                              boycottrenault think blood thousands ukrainian women children pouring every renault car   \n",
       "3  almost workers russia still western payrolls mcdonalds ikea renault levi strauss others pay salaries thousands employees operations inare suspended cocacola yum brandskfc didnt confirm still pays   \n",
       "4                                                                                     take selfie new renault cliov win fuel voucher tag renaulttableviewcliov random winner announced book test drive   \n",
       "\n",
       "                                                                                                                                                                                                                   tokens  \n",
       "0                                                                                                                                                                     [straight, swap, renault, twingo, extreme, awesome]  \n",
       "1                              [australian, gp, qualifying, melbourne, th, march, grid, row, eddie, irvine, ferrari, mika, hakkinen, mclarenmercedes, row, johnny, herbert, sauberpetronas, jean, alesi, benettonrenault]  \n",
       "2                                                                                                                         [boycottrenault, think, blood, thousand, ukrainian, woman, child, pouring, every, renault, car]  \n",
       "3  [almost, worker, russia, still, western, payroll, mcdonalds, ikea, renault, levi, strauss, others, pay, salary, thousand, employee, operation, inare, suspended, cocacola, yum, brandskfc, didnt, confirm, still, pay]  \n",
       "4                                                                                       [take, selfie, new, renault, cliov, win, fuel, voucher, tag, renaulttableviewcliov, random, winner, announced, book, test, drive]  "
      ]
     },
     "execution_count": 176,
     "metadata": {},
     "output_type": "execute_result"
    }
   ],
   "source": [
    "tweets_df_c['tokens'] = tweets_df_c['text_clean'].apply(tweet_tokenize)\n",
    "\n",
    "# Lemmatize tokens\n",
    "lemmatizer = WordNetLemmatizer()\n",
    "tweets_df_c['tokens'] = tweets_df_c['tokens'].apply(lambda tokens: [lemmatizer.lemmatize(word) for word in tokens])\n",
    "\n",
    "tweets_df_c.head(5)"
   ]
  },
  {
   "cell_type": "markdown",
   "metadata": {},
   "source": [
    "### Create n number of ngrams columns based on the lemmatized token tweets"
   ]
  },
  {
   "cell_type": "code",
   "execution_count": 185,
   "metadata": {},
   "outputs": [],
   "source": [
    "for i in range(1, 11):\n",
    "    tweets_df_c['ngrams_'+str(i)] = tweets_df_c['tokens'].apply(create_ngrams, n=i)"
   ]
  },
  {
   "cell_type": "code",
   "execution_count": 178,
   "metadata": {},
   "outputs": [
    {
     "data": {
      "text/html": [
       "<div>\n",
       "<style scoped>\n",
       "    .dataframe tbody tr th:only-of-type {\n",
       "        vertical-align: middle;\n",
       "    }\n",
       "\n",
       "    .dataframe tbody tr th {\n",
       "        vertical-align: top;\n",
       "    }\n",
       "\n",
       "    .dataframe thead th {\n",
       "        text-align: right;\n",
       "    }\n",
       "</style>\n",
       "<table border=\"1\" class=\"dataframe\">\n",
       "  <thead>\n",
       "    <tr style=\"text-align: right;\">\n",
       "      <th></th>\n",
       "      <th>id</th>\n",
       "      <th>lang</th>\n",
       "      <th>date</th>\n",
       "      <th>name</th>\n",
       "      <th>retweeted</th>\n",
       "      <th>text</th>\n",
       "      <th>text_clean</th>\n",
       "      <th>tokens</th>\n",
       "      <th>ngrams_1</th>\n",
       "      <th>ngrams_2</th>\n",
       "      <th>ngrams_3</th>\n",
       "      <th>ngrams_4</th>\n",
       "      <th>ngrams_5</th>\n",
       "      <th>ngrams_6</th>\n",
       "      <th>ngrams_7</th>\n",
       "      <th>ngrams_8</th>\n",
       "      <th>ngrams_9</th>\n",
       "    </tr>\n",
       "  </thead>\n",
       "  <tbody>\n",
       "    <tr>\n",
       "      <th>0</th>\n",
       "      <td>1491880241782005777</td>\n",
       "      <td>en</td>\n",
       "      <td>2022-02-10</td>\n",
       "      <td>Sir Botalot dropping the Mike!</td>\n",
       "      <td></td>\n",
       "      <td>@singervehicles Will you do a straight swap for my Renault Twingo 1.2 Extreme? \\n\\nThat is awesome! 🔥</td>\n",
       "      <td>straight swap renault twingo extreme awesome</td>\n",
       "      <td>[straight, swap, renault, twingo, extreme, awesome]</td>\n",
       "      <td>[(straight,), (swap,), (renault,), (twingo,), (extreme,), (awesome,)]</td>\n",
       "      <td>[(straight, swap), (swap, renault), (renault, twingo), (twingo, extreme), (extreme, awesome)]</td>\n",
       "      <td>[(straight, swap, renault), (swap, renault, twingo), (renault, twingo, extreme), (twingo, extreme, awesome)]</td>\n",
       "      <td>[(straight, swap, renault, twingo), (swap, renault, twingo, extreme), (renault, twingo, extreme, awesome)]</td>\n",
       "      <td>[(straight, swap, renault, twingo, extreme), (swap, renault, twingo, extreme, awesome)]</td>\n",
       "      <td>[(straight, swap, renault, twingo, extreme, awesome)]</td>\n",
       "      <td>[]</td>\n",
       "      <td>[]</td>\n",
       "      <td>[]</td>\n",
       "    </tr>\n",
       "  </tbody>\n",
       "</table>\n",
       "</div>"
      ],
      "text/plain": [
       "                    id lang       date                            name  \\\n",
       "0  1491880241782005777   en 2022-02-10  Sir Botalot dropping the Mike!   \n",
       "\n",
       "  retweeted  \\\n",
       "0             \n",
       "\n",
       "                                                                                                    text  \\\n",
       "0  @singervehicles Will you do a straight swap for my Renault Twingo 1.2 Extreme? \\n\\nThat is awesome! 🔥   \n",
       "\n",
       "                                     text_clean  \\\n",
       "0  straight swap renault twingo extreme awesome   \n",
       "\n",
       "                                                tokens  \\\n",
       "0  [straight, swap, renault, twingo, extreme, awesome]   \n",
       "\n",
       "                                                                ngrams_1  \\\n",
       "0  [(straight,), (swap,), (renault,), (twingo,), (extreme,), (awesome,)]   \n",
       "\n",
       "                                                                                        ngrams_2  \\\n",
       "0  [(straight, swap), (swap, renault), (renault, twingo), (twingo, extreme), (extreme, awesome)]   \n",
       "\n",
       "                                                                                                       ngrams_3  \\\n",
       "0  [(straight, swap, renault), (swap, renault, twingo), (renault, twingo, extreme), (twingo, extreme, awesome)]   \n",
       "\n",
       "                                                                                                     ngrams_4  \\\n",
       "0  [(straight, swap, renault, twingo), (swap, renault, twingo, extreme), (renault, twingo, extreme, awesome)]   \n",
       "\n",
       "                                                                                  ngrams_5  \\\n",
       "0  [(straight, swap, renault, twingo, extreme), (swap, renault, twingo, extreme, awesome)]   \n",
       "\n",
       "                                                ngrams_6 ngrams_7 ngrams_8  \\\n",
       "0  [(straight, swap, renault, twingo, extreme, awesome)]       []       []   \n",
       "\n",
       "  ngrams_9  \n",
       "0       []  "
      ]
     },
     "execution_count": 178,
     "metadata": {},
     "output_type": "execute_result"
    }
   ],
   "source": [
    "tweets_df_c.head(1)"
   ]
  },
  {
   "cell_type": "code",
   "execution_count": 179,
   "metadata": {},
   "outputs": [],
   "source": [
    "from nltk.metrics import jaccard_distance\n",
    "\n",
    "def calculate_jaccard_distance(ngrams1, ngrams2):\n",
    "    # Convert n-gram lists to sets\n",
    "    set_ngrams1 = set(ngrams1)\n",
    "    set_ngrams2 = set(ngrams2)\n",
    "\n",
    "    distance = 1 - jaccard_distance(set_ngrams1, set_ngrams2)\n",
    "\n",
    "    return distance"
   ]
  },
  {
   "cell_type": "code",
   "execution_count": 180,
   "metadata": {},
   "outputs": [],
   "source": [
    "def compute_max_jaccard(df, num):\n",
    "    # Create new columns for storing the highest Jaccard similarity and corresponding index for each row\n",
    "    df['highest_sim_'+str(num)] = 0.0  # Initialize with 0.0 (no similarity)\n",
    "    df['highest_sim_ind_'+str(num)] = -1  # Initialize with -1 (no index)\n",
    "\n",
    "    from itertools import combinations\n",
    "\n",
    "    # Iterate over all unique pairs of rows in the dataframe\n",
    "    for i, j in combinations(df.index, 2):\n",
    "        # Calculate Jaccard similarity, handle cases with empty n-grams\n",
    "        if len(df['ngrams_'+str(num)][i]) == 0 or len(df['ngrams_'+str(num)][j]) == 0:\n",
    "            similarity = 0  # If either n-gram set is empty, similarity is 0\n",
    "        else:\n",
    "            # Calculate Jaccard similarity for non-empty n-gram sets\n",
    "            similarity = calculate_jaccard_distance(df.at[i, 'ngrams_'+str(num)], df.at[j, 'ngrams_'+str(num)])\n",
    "\n",
    "        # Ignore perfect matches (similarity = 1), considering them as zero similarity\n",
    "        if similarity == 1:\n",
    "            similarity = 0\n",
    "\n",
    "        # Update the record for the highest similarity for each row\n",
    "        # If current similarity is higher than the stored value, update it along with the index of the compared row\n",
    "        if similarity > df.at[i, 'highest_sim_'+str(num)]:\n",
    "            df.at[i, 'highest_sim_ind_'+str(num)] = j  # Update index\n",
    "            df.at[i, 'highest_sim_'+str(num)] = similarity  # Update similarity score\n",
    "\n",
    "        if similarity > df.at[j, 'highest_sim_'+str(num)]:\n",
    "            df.at[j, 'highest_sim_ind_'+str(num)] = i  # Update index for the other row in the pair\n",
    "            df.at[j, 'highest_sim_'+str(num)] = similarity  # Update similarity score\n",
    "\n",
    "    # At the end of this function, each row in df will have the highest Jaccard similarity\n",
    "    # and the index of the row with which this highest similarity is achieved.\n"
   ]
  },
  {
   "cell_type": "code",
   "execution_count": 186,
   "metadata": {},
   "outputs": [],
   "source": [
    "for i in range(1,11):\n",
    "    compute_max_jaccard(tweets_df_c, i)"
   ]
  },
  {
   "cell_type": "code",
   "execution_count": 188,
   "metadata": {},
   "outputs": [
    {
     "data": {
      "text/plain": [
       "Index(['highest_sim_1', 'highest_sim_2', 'highest_sim_3', 'highest_sim_4',\n",
       "       'highest_sim_5', 'highest_sim_6', 'highest_sim_7', 'highest_sim_8',\n",
       "       'highest_sim_9', 'highest_sim_10'],\n",
       "      dtype='object')"
      ]
     },
     "execution_count": 188,
     "metadata": {},
     "output_type": "execute_result"
    }
   ],
   "source": [
    "sim_columns"
   ]
  },
  {
   "cell_type": "code",
   "execution_count": 189,
   "metadata": {},
   "outputs": [
    {
     "data": {
      "image/png": "[encoded data removed]",
      "text/plain": [
       "<Figure size 1000x600 with 1 Axes>"
      ]
     },
     "metadata": {},
     "output_type": "display_data"
    }
   ],
   "source": [
    "import matplotlib.pyplot as plt\n",
    "\n",
    "sim_columns = tweets_df_c.filter(regex='^highest_sim_\\d+').columns\n",
    "avg_sim = tweets_df_c[sim_columns].mean()\n",
    "\n",
    "# Plot using seaborn's lineplot\n",
    "plt.figure(figsize=(10, 6))  # Adjust the figure size as necessary\n",
    "sns.lineplot(data=avg_sim)\n",
    "plt.xticks(rotation=45)  # Rotate x-axis labels for better visibility\n",
    "plt.xlabel('N-gram Size')  # Set title for the x-axis\n",
    "plt.ylabel('Average Similarity')  # Set title for the y-axis\n",
    "plt.title('Tweets - Average Jaccard Similarity by N-gram Size')  # Set the title of the plot\n",
    "plt.show()"
   ]
  },
  {
   "cell_type": "markdown",
   "metadata": {},
   "source": [
    "### Based on the above plot, I would conclude an ngram value of 3 is best for tweets. This makes sense because ~5 is usually ideal for shorter texts whereas a higher number like 10 is better for long articles / books. So tweets aligning with n=3 seems correct."
   ]
  },
  {
   "cell_type": "code",
   "execution_count": 190,
   "metadata": {},
   "outputs": [
    {
     "data": {
      "text/html": [
       "<div>\n",
       "<style scoped>\n",
       "    .dataframe tbody tr th:only-of-type {\n",
       "        vertical-align: middle;\n",
       "    }\n",
       "\n",
       "    .dataframe tbody tr th {\n",
       "        vertical-align: top;\n",
       "    }\n",
       "\n",
       "    .dataframe thead th {\n",
       "        text-align: right;\n",
       "    }\n",
       "</style>\n",
       "<table border=\"1\" class=\"dataframe\">\n",
       "  <thead>\n",
       "    <tr style=\"text-align: right;\">\n",
       "      <th></th>\n",
       "      <th>highest_sim_3</th>\n",
       "      <th>highest_sim_ind_3</th>\n",
       "      <th>text_clean</th>\n",
       "      <th>text</th>\n",
       "    </tr>\n",
       "  </thead>\n",
       "  <tbody>\n",
       "    <tr>\n",
       "      <th>15</th>\n",
       "      <td>0.947368</td>\n",
       "      <td>378</td>\n",
       "      <td>renault kiger stunning yet muscular suv stance crafted complement free spirit renault cars nagercoil sportysmart renaultcars renaultindia bestcars buycarsnagercoil morespacing renaultkiger</td>\n",
       "      <td>Renault Kiger is stunning yet muscular SUV stance is crafted to complement your free spirit. \\n#renault #cars #nagercoil #Sportysmart #renaultcars #renaultindia #bestcars #buycarsnagercoil #morespacing  #renaultkiger https://t.co/0gaRyxca7h</td>\n",
       "    </tr>\n",
       "    <tr>\n",
       "      <th>378</th>\n",
       "      <td>0.947368</td>\n",
       "      <td>15</td>\n",
       "      <td>kiger stunning yet muscular suv stance crafted complement free spirit renault cars nagercoil sportysmart renaultcars renaultindia bestcars buycarsnagercoil morespacing renaultkiger</td>\n",
       "      <td>https://t.co/DFfqSVOypZ \\nKiger is stunning yet muscular SUV stance is crafted to complement your free spirit.\\n#renault #cars #nagercoil #Sportysmart #renaultcars #renaultindia #bestcars #buycarsnagercoil #morespacing #renaultkiger https://t.co/LzLJ0IjpyT</td>\n",
       "    </tr>\n",
       "    <tr>\n",
       "      <th>181</th>\n",
       "      <td>0.909091</td>\n",
       "      <td>877</td>\n",
       "      <td>cnn renault announced departure week russian auto market amid countrys war ukraine moscows mayor announced factory used restart defunct sovietera moskvich car brand via</td>\n",
       "      <td>CNN: After Renault announced its departure this week from the Russian auto market amid the country's war with Ukraine, Moscow's mayor announced its factory will be used to restart the defunct Soviet-era Moskvich car brand. https://t.co/QtIpxQ9d6I (via https://t.co/lgfjwGPwdG )</td>\n",
       "    </tr>\n",
       "    <tr>\n",
       "      <th>877</th>\n",
       "      <td>0.909091</td>\n",
       "      <td>181</td>\n",
       "      <td>renault announced departure week russian auto market amid countrys war ukraine moscows mayor announced factory used restart defunct sovietera moskvich car brand</td>\n",
       "      <td>After Renault announced its departure this week from the Russian auto market amid the country's war with Ukraine, Moscow's mayor announced its factory will be used to restart the defunct Soviet-era Moskvich car brand. https://t.co/F3pRGrtYQX</td>\n",
       "    </tr>\n",
       "    <tr>\n",
       "      <th>140</th>\n",
       "      <td>0.846154</td>\n",
       "      <td>659</td>\n",
       "      <td>reuters french automaker renault resumes production moscow march company decided resume operations country renault majority owner avtovaz russias largest car manufacturer famous lada brand</td>\n",
       "      <td>⚡️ Reuters: French automaker Renault resumes production in Moscow.\\n\\nOn March 22, the company decided to resume operations in the country. Renault is the majority owner of AvtoVaz, Russia’s largest car manufacturer famous for the Lada brand.</td>\n",
       "    </tr>\n",
       "    <tr>\n",
       "      <th>241</th>\n",
       "      <td>0.846154</td>\n",
       "      <td>659</td>\n",
       "      <td>reuters french automaker renault resumes production moscow march company decided resume operations country renault majority owner avtovaz russias largest car manufacturer famous lada brand</td>\n",
       "      <td>⚡️ Reuters: French automaker Renault resumes production in Moscow.\\n\\nOn March 22, the company decided to resume operations in the country. Renault is the majority owner of AvtoVaz, Russia’s largest car manufacturer famous for the Lada brand.</td>\n",
       "    </tr>\n",
       "    <tr>\n",
       "      <th>242</th>\n",
       "      <td>0.846154</td>\n",
       "      <td>659</td>\n",
       "      <td>reuters french automaker renault resumes production moscow march company decided resume operations country renault majority owner avtovaz russias largest car manufacturer famous lada brand</td>\n",
       "      <td>⚡️ Reuters: French automaker Renault resumes production in Moscow.\\n\\nOn March 22, the company decided to resume operations in the country. Renault is the majority owner of AvtoVaz, Russia’s largest car manufacturer famous for the Lada brand.</td>\n",
       "    </tr>\n",
       "    <tr>\n",
       "      <th>406</th>\n",
       "      <td>0.846154</td>\n",
       "      <td>659</td>\n",
       "      <td>reuters french automaker renault resumes production moscow march company decided resume operations country renault majority owner avtovaz russias largest car manufacturer famous lada brand</td>\n",
       "      <td>⚡️ Reuters: French automaker Renault resumes production in Moscow.\\n\\nOn March 22, the company decided to resume operations in the country. Renault is the majority owner of AvtoVaz, Russia’s largest car manufacturer famous for the Lada brand.</td>\n",
       "    </tr>\n",
       "    <tr>\n",
       "      <th>430</th>\n",
       "      <td>0.846154</td>\n",
       "      <td>659</td>\n",
       "      <td>reuters french automaker renault resumes production moscow march company decided resume operations country renault majority owner avtovaz russias largest car manufacturer famous lada brand</td>\n",
       "      <td>⚡️ Reuters: French automaker Renault resumes production in Moscow.\\n\\nOn March 22, the company decided to resume operations in the country. Renault is the majority owner of AvtoVaz, Russia’s largest car manufacturer famous for the Lada brand.</td>\n",
       "    </tr>\n",
       "    <tr>\n",
       "      <th>447</th>\n",
       "      <td>0.846154</td>\n",
       "      <td>659</td>\n",
       "      <td>reuters french automaker renault resumes production moscow march company decided resume operations country renault majority owner avtovaz russias largest car manufacturer famous lada brand</td>\n",
       "      <td>⚡️ Reuters: French automaker Renault resumes production in Moscow.\\n\\nOn March 22, the company decided to resume operations in the country. Renault is the majority owner of AvtoVaz, Russia’s largest car manufacturer famous for the Lada brand.</td>\n",
       "    </tr>\n",
       "  </tbody>\n",
       "</table>\n",
       "</div>"
      ],
      "text/plain": [
       "     highest_sim_3  highest_sim_ind_3  \\\n",
       "15        0.947368                378   \n",
       "378       0.947368                 15   \n",
       "181       0.909091                877   \n",
       "877       0.909091                181   \n",
       "140       0.846154                659   \n",
       "241       0.846154                659   \n",
       "242       0.846154                659   \n",
       "406       0.846154                659   \n",
       "430       0.846154                659   \n",
       "447       0.846154                659   \n",
       "\n",
       "                                                                                                                                                                                       text_clean  \\\n",
       "15   renault kiger stunning yet muscular suv stance crafted complement free spirit renault cars nagercoil sportysmart renaultcars renaultindia bestcars buycarsnagercoil morespacing renaultkiger   \n",
       "378          kiger stunning yet muscular suv stance crafted complement free spirit renault cars nagercoil sportysmart renaultcars renaultindia bestcars buycarsnagercoil morespacing renaultkiger   \n",
       "181                      cnn renault announced departure week russian auto market amid countrys war ukraine moscows mayor announced factory used restart defunct sovietera moskvich car brand via   \n",
       "877                              renault announced departure week russian auto market amid countrys war ukraine moscows mayor announced factory used restart defunct sovietera moskvich car brand   \n",
       "140  reuters french automaker renault resumes production moscow march company decided resume operations country renault majority owner avtovaz russias largest car manufacturer famous lada brand   \n",
       "241  reuters french automaker renault resumes production moscow march company decided resume operations country renault majority owner avtovaz russias largest car manufacturer famous lada brand   \n",
       "242  reuters french automaker renault resumes production moscow march company decided resume operations country renault majority owner avtovaz russias largest car manufacturer famous lada brand   \n",
       "406  reuters french automaker renault resumes production moscow march company decided resume operations country renault majority owner avtovaz russias largest car manufacturer famous lada brand   \n",
       "430  reuters french automaker renault resumes production moscow march company decided resume operations country renault majority owner avtovaz russias largest car manufacturer famous lada brand   \n",
       "447  reuters french automaker renault resumes production moscow march company decided resume operations country renault majority owner avtovaz russias largest car manufacturer famous lada brand   \n",
       "\n",
       "                                                                                                                                                                                                                                                                                      text  \n",
       "15                                        Renault Kiger is stunning yet muscular SUV stance is crafted to complement your free spirit. \\n#renault #cars #nagercoil #Sportysmart #renaultcars #renaultindia #bestcars #buycarsnagercoil #morespacing  #renaultkiger https://t.co/0gaRyxca7h  \n",
       "378                       https://t.co/DFfqSVOypZ \\nKiger is stunning yet muscular SUV stance is crafted to complement your free spirit.\\n#renault #cars #nagercoil #Sportysmart #renaultcars #renaultindia #bestcars #buycarsnagercoil #morespacing #renaultkiger https://t.co/LzLJ0IjpyT  \n",
       "181  CNN: After Renault announced its departure this week from the Russian auto market amid the country's war with Ukraine, Moscow's mayor announced its factory will be used to restart the defunct Soviet-era Moskvich car brand. https://t.co/QtIpxQ9d6I (via https://t.co/lgfjwGPwdG )  \n",
       "877                                      After Renault announced its departure this week from the Russian auto market amid the country's war with Ukraine, Moscow's mayor announced its factory will be used to restart the defunct Soviet-era Moskvich car brand. https://t.co/F3pRGrtYQX  \n",
       "140                                     ⚡️ Reuters: French automaker Renault resumes production in Moscow.\\n\\nOn March 22, the company decided to resume operations in the country. Renault is the majority owner of AvtoVaz, Russia’s largest car manufacturer famous for the Lada brand.  \n",
       "241                                     ⚡️ Reuters: French automaker Renault resumes production in Moscow.\\n\\nOn March 22, the company decided to resume operations in the country. Renault is the majority owner of AvtoVaz, Russia’s largest car manufacturer famous for the Lada brand.  \n",
       "242                                     ⚡️ Reuters: French automaker Renault resumes production in Moscow.\\n\\nOn March 22, the company decided to resume operations in the country. Renault is the majority owner of AvtoVaz, Russia’s largest car manufacturer famous for the Lada brand.  \n",
       "406                                     ⚡️ Reuters: French automaker Renault resumes production in Moscow.\\n\\nOn March 22, the company decided to resume operations in the country. Renault is the majority owner of AvtoVaz, Russia’s largest car manufacturer famous for the Lada brand.  \n",
       "430                                     ⚡️ Reuters: French automaker Renault resumes production in Moscow.\\n\\nOn March 22, the company decided to resume operations in the country. Renault is the majority owner of AvtoVaz, Russia’s largest car manufacturer famous for the Lada brand.  \n",
       "447                                     ⚡️ Reuters: French automaker Renault resumes production in Moscow.\\n\\nOn March 22, the company decided to resume operations in the country. Renault is the majority owner of AvtoVaz, Russia’s largest car manufacturer famous for the Lada brand.  "
      ]
     },
     "execution_count": 190,
     "metadata": {},
     "output_type": "execute_result"
    }
   ],
   "source": [
    "tweets_df[['highest_sim_3','highest_sim_ind_3','text_clean','text']].nlargest(10, 'highest_sim_3')"
   ]
  },
  {
   "cell_type": "markdown",
   "metadata": {},
   "source": [
    "### The highest similarity tweets are related to the french automatker, Renault cars, and mentions of Moscow."
   ]
  },
  {
   "cell_type": "code",
   "execution_count": 191,
   "metadata": {},
   "outputs": [
    {
     "data": {
      "text/html": [
       "<div>\n",
       "<style scoped>\n",
       "    .dataframe tbody tr th:only-of-type {\n",
       "        vertical-align: middle;\n",
       "    }\n",
       "\n",
       "    .dataframe tbody tr th {\n",
       "        vertical-align: top;\n",
       "    }\n",
       "\n",
       "    .dataframe thead th {\n",
       "        text-align: right;\n",
       "    }\n",
       "</style>\n",
       "<table border=\"1\" class=\"dataframe\">\n",
       "  <thead>\n",
       "    <tr style=\"text-align: right;\">\n",
       "      <th></th>\n",
       "      <th>highest_sim_3</th>\n",
       "      <th>highest_sim_ind_3</th>\n",
       "      <th>text_clean</th>\n",
       "      <th>text</th>\n",
       "    </tr>\n",
       "  </thead>\n",
       "  <tbody>\n",
       "    <tr>\n",
       "      <th>667</th>\n",
       "      <td>0.019231</td>\n",
       "      <td>455</td>\n",
       "      <td>jean alesi finished nd first podium points since moving benettonrenault michael schumacher also took first podium finish points ferrari driver rd lap behind race winner damon hill brazilian gp interlagos st march</td>\n",
       "      <td>Jean Alesi finished 2nd, his first podium &amp;amp; points with since moving to Benetton-Renault. Michael Schumacher also took his first podium finish &amp;amp; points as a Ferrari driver with 3rd in his F310, a lap behind race winner Damon Hill. Brazilian GP, Interlagos, 31st March 1996. #F1 https://t.co/IeJw2vLtnM</td>\n",
       "    </tr>\n",
       "    <tr>\n",
       "      <th>664</th>\n",
       "      <td>0.022222</td>\n",
       "      <td>898</td>\n",
       "      <td>rothmans williamsrenault launch estoril chassis fw engine renault rs v tyres goodyear eagle damon hill jacques villeneuve test driver jeanchristophe boullion</td>\n",
       "      <td>Rothmans Williams-Renault Launch, Estoril, 1996. #F1 🇬🇧🇫🇷\\nChassis: FW18\\nEngine: Renault RS8, 3.0L V10\\nTyres: Goodyear Eagle F1 \\n5. Damon Hill 🇬🇧\\n6. Jacques Villeneuve 🇨🇦\\nTest Driver: Jean-Christophe Boullion 🇫🇷 https://t.co/giO693pk7r</td>\n",
       "    </tr>\n",
       "    <tr>\n",
       "      <th>898</th>\n",
       "      <td>0.022222</td>\n",
       "      <td>664</td>\n",
       "      <td>mild seven renault car launch event monaco chassis engine mecachromebuilt renault rs v naturally aspirated power hp rpm weight kg tyres michelin points race wins podiums world titles elplan</td>\n",
       "      <td>Mild Seven Renault F1 2005 car launch event at Monaco\\n\\nChassis R25\\nEngine Mecachrome-built Renault RS25 3.0 L V10 72° naturally aspirated\\nPower 800–900 hp @ 19,000 RPM\\nWeight 605 kg\\nTyres Michelin\\n\\n191 points, 8 race wins, 15 podiums and 2 World Titles\\n\\n#elPlan https://t.co/L77Oh42TCZ</td>\n",
       "    </tr>\n",
       "    <tr>\n",
       "      <th>641</th>\n",
       "      <td>0.023810</td>\n",
       "      <td>877</td>\n",
       "      <td>car news today mr va auto legendary sovietera moskvich car could revived renault exit mr va auto car buying hero autoblog news car check autoblogs news</td>\n",
       "      <td>Car News of Today 🚗\\nMr VA Auto\\n.\\n'Legendary' Soviet-era Moskvich car could be revived after Renault exit\\n.\\nMr VA Auto - Your Car Buying Hero\\nhttps://t.co/MWNhcYg5LC\\n#AutoBlog #News #Car\\nhttps://t.co/tNfYThIk8q\\ncheck out all AutoBlogs news here\\nhttps://t.co/fptnjBqips https://t.co/unQ3D4o0j2</td>\n",
       "    </tr>\n",
       "    <tr>\n",
       "      <th>771</th>\n",
       "      <td>0.023810</td>\n",
       "      <td>1012</td>\n",
       "      <td>michael schumacher mild seven benettonrenault lap qualifying couldnt beat session best german claimed pole position spanish gp qualifying barcelona th may</td>\n",
       "      <td>Michael Schumacher (Mild Seven Benetton-Renault B195) on a lap in qualifying but it couldn’t beat his session best but the German claimed Pole Position.\\nSpanish GP Qualifying, Barcelona, 13th May 1995. #F1\\nhttps://t.co/DMcxBdAMQc</td>\n",
       "    </tr>\n",
       "    <tr>\n",
       "      <th>849</th>\n",
       "      <td>0.023810</td>\n",
       "      <td>61</td>\n",
       "      <td>tailored meet demands uk professionals requiring highspec vehicle reflects business values lifestyle new renault trucks trafic red edition tonnes prioritises productivity safety driver comfort renaulttrucks</td>\n",
       "      <td>Tailored to meet the demands of UK  professionals requiring a high-spec vehicle that reflects their own business values and lifestyle, the new Renault Trucks Trafic Red Edition from 2.8 - 3.1 tonnes prioritises productivity, safety and driver comfort.✔️ \\n\\n#RenaultTrucks https://t.co/jM69GrS1A3</td>\n",
       "    </tr>\n",
       "    <tr>\n",
       "      <th>21</th>\n",
       "      <td>0.026316</td>\n",
       "      <td>718</td>\n",
       "      <td>behind powerfully elegant suv silhouette hides technological marvel allnew renault austral almost ready closeup comingsoon learn</td>\n",
       "      <td>Behind this powerfully elegant SUV silhouette hides a technological marvel. All-new Renault #Austral is almost ready for its close-up! #comingsoon\\nLearn more: https://t.co/eMQE0DPH67 https://t.co/ETNrzgK2a1</td>\n",
       "    </tr>\n",
       "    <tr>\n",
       "      <th>60</th>\n",
       "      <td>0.026316</td>\n",
       "      <td>200</td>\n",
       "      <td>riccardo patrese brought williamsrenaultfwc home rd position italians fourth consecutive podium finish french grand prix paul ricard july motorsport images</td>\n",
       "      <td>Riccardo Patrese brought his Williams-Renault-FW12C home in 3rd position. \\nThis was the Italian's fourth consecutive podium finish. \\n\\nFrench Grand Prix, Paul Ricard, 9 July 1989.\\n\\n© Motorsport Images \\n\\n#F1 https://t.co/w003kuICxf</td>\n",
       "    </tr>\n",
       "    <tr>\n",
       "      <th>61</th>\n",
       "      <td>0.026316</td>\n",
       "      <td>822</td>\n",
       "      <td>today cest participate tunemyt challenge share beautiful renault trucks high pimped truck within new renault trucks dlc win incredible suprises merch eshop</td>\n",
       "      <td>🚨 You have until today 12am CEST to participate in the #TuneMyT challenge.\\nShare you most beautiful Renault Trucks T &amp;amp; T High pimped truck within the new Renault Trucks DLC by @SCSsoftware\\n to win some incredible suprises from our merch e-shop https://t.co/I03MpEiDI3 ✨</td>\n",
       "    </tr>\n",
       "    <tr>\n",
       "      <th>718</th>\n",
       "      <td>0.026316</td>\n",
       "      <td>21</td>\n",
       "      <td>allnew renault austral sound quality renault group brand news renault follow mycarnewsonline see latest news reviews tech french manufacturer right car news watch full video youtube fol</td>\n",
       "      <td>The all-new Renault Austral: The sound of quality | Renault Group\\n\\nFor more brand news from Renault follow MyCarNewsOnline. See the latest news, reviews and tech from the French manufacturer right here on My Car News.\\n\\nWatch Full Video on YouTube\\n\\nFol...\\nhttps://t.co/vqXNvoXzso</td>\n",
       "    </tr>\n",
       "  </tbody>\n",
       "</table>\n",
       "</div>"
      ],
      "text/plain": [
       "     highest_sim_3  highest_sim_ind_3  \\\n",
       "667       0.019231                455   \n",
       "664       0.022222                898   \n",
       "898       0.022222                664   \n",
       "641       0.023810                877   \n",
       "771       0.023810               1012   \n",
       "849       0.023810                 61   \n",
       "21        0.026316                718   \n",
       "60        0.026316                200   \n",
       "61        0.026316                822   \n",
       "718       0.026316                 21   \n",
       "\n",
       "                                                                                                                                                                                                               text_clean  \\\n",
       "667  jean alesi finished nd first podium points since moving benettonrenault michael schumacher also took first podium finish points ferrari driver rd lap behind race winner damon hill brazilian gp interlagos st march   \n",
       "664                                                         rothmans williamsrenault launch estoril chassis fw engine renault rs v tyres goodyear eagle damon hill jacques villeneuve test driver jeanchristophe boullion   \n",
       "898                         mild seven renault car launch event monaco chassis engine mecachromebuilt renault rs v naturally aspirated power hp rpm weight kg tyres michelin points race wins podiums world titles elplan   \n",
       "641                                                               car news today mr va auto legendary sovietera moskvich car could revived renault exit mr va auto car buying hero autoblog news car check autoblogs news   \n",
       "771                                                            michael schumacher mild seven benettonrenault lap qualifying couldnt beat session best german claimed pole position spanish gp qualifying barcelona th may   \n",
       "849        tailored meet demands uk professionals requiring highspec vehicle reflects business values lifestyle new renault trucks trafic red edition tonnes prioritises productivity safety driver comfort renaulttrucks   \n",
       "21                                                                                       behind powerfully elegant suv silhouette hides technological marvel allnew renault austral almost ready closeup comingsoon learn   \n",
       "60                                                            riccardo patrese brought williamsrenaultfwc home rd position italians fourth consecutive podium finish french grand prix paul ricard july motorsport images   \n",
       "61                                                            today cest participate tunemyt challenge share beautiful renault trucks high pimped truck within new renault trucks dlc win incredible suprises merch eshop   \n",
       "718                             allnew renault austral sound quality renault group brand news renault follow mycarnewsonline see latest news reviews tech french manufacturer right car news watch full video youtube fol   \n",
       "\n",
       "                                                                                                                                                                                                                                                                                                                      text  \n",
       "667  Jean Alesi finished 2nd, his first podium &amp; points with since moving to Benetton-Renault. Michael Schumacher also took his first podium finish &amp; points as a Ferrari driver with 3rd in his F310, a lap behind race winner Damon Hill. Brazilian GP, Interlagos, 31st March 1996. #F1 https://t.co/IeJw2vLtnM  \n",
       "664                                                                       Rothmans Williams-Renault Launch, Estoril, 1996. #F1 🇬🇧🇫🇷\\nChassis: FW18\\nEngine: Renault RS8, 3.0L V10\\nTyres: Goodyear Eagle F1 \\n5. Damon Hill 🇬🇧\\n6. Jacques Villeneuve 🇨🇦\\nTest Driver: Jean-Christophe Boullion 🇫🇷 https://t.co/giO693pk7r  \n",
       "898                Mild Seven Renault F1 2005 car launch event at Monaco\\n\\nChassis R25\\nEngine Mecachrome-built Renault RS25 3.0 L V10 72° naturally aspirated\\nPower 800–900 hp @ 19,000 RPM\\nWeight 605 kg\\nTyres Michelin\\n\\n191 points, 8 race wins, 15 podiums and 2 World Titles\\n\\n#elPlan https://t.co/L77Oh42TCZ  \n",
       "641          Car News of Today 🚗\\nMr VA Auto\\n.\\n'Legendary' Soviet-era Moskvich car could be revived after Renault exit\\n.\\nMr VA Auto - Your Car Buying Hero\\nhttps://t.co/MWNhcYg5LC\\n#AutoBlog #News #Car\\nhttps://t.co/tNfYThIk8q\\ncheck out all AutoBlogs news here\\nhttps://t.co/fptnjBqips https://t.co/unQ3D4o0j2  \n",
       "771                                                                                Michael Schumacher (Mild Seven Benetton-Renault B195) on a lap in qualifying but it couldn’t beat his session best but the German claimed Pole Position.\\nSpanish GP Qualifying, Barcelona, 13th May 1995. #F1\\nhttps://t.co/DMcxBdAMQc  \n",
       "849               Tailored to meet the demands of UK  professionals requiring a high-spec vehicle that reflects their own business values and lifestyle, the new Renault Trucks Trafic Red Edition from 2.8 - 3.1 tonnes prioritises productivity, safety and driver comfort.✔️ \\n\\n#RenaultTrucks https://t.co/jM69GrS1A3  \n",
       "21                                                                                                         Behind this powerfully elegant SUV silhouette hides a technological marvel. All-new Renault #Austral is almost ready for its close-up! #comingsoon\\nLearn more: https://t.co/eMQE0DPH67 https://t.co/ETNrzgK2a1  \n",
       "60                                                                            Riccardo Patrese brought his Williams-Renault-FW12C home in 3rd position. \\nThis was the Italian's fourth consecutive podium finish. \\n\\nFrench Grand Prix, Paul Ricard, 9 July 1989.\\n\\n© Motorsport Images \\n\\n#F1 https://t.co/w003kuICxf  \n",
       "61                                     🚨 You have until today 12am CEST to participate in the #TuneMyT challenge.\\nShare you most beautiful Renault Trucks T &amp; T High pimped truck within the new Renault Trucks DLC by @SCSsoftware\\n to win some incredible suprises from our merch e-shop https://t.co/I03MpEiDI3 ✨  \n",
       "718                          The all-new Renault Austral: The sound of quality | Renault Group\\n\\nFor more brand news from Renault follow MyCarNewsOnline. See the latest news, reviews and tech from the French manufacturer right here on My Car News.\\n\\nWatch Full Video on YouTube\\n\\nFol...\\nhttps://t.co/vqXNvoXzso  "
      ]
     },
     "execution_count": 191,
     "metadata": {},
     "output_type": "execute_result"
    }
   ],
   "source": [
    "non_zero_tweets = tweets_df[tweets_df['highest_sim_3'] > 0]\n",
    "non_zero_tweets[['highest_sim_3','highest_sim_ind_3', 'text_clean', 'text']].nsmallest(10, 'highest_sim_3')"
   ]
  },
  {
   "cell_type": "markdown",
   "metadata": {},
   "source": [
    "### The lowest similarity rows, as expected do not appear related. For example, the first few tweets talk about Renault and Ricciardo and do not share as much simmilar text/language"
   ]
  },
  {
   "cell_type": "markdown",
   "metadata": {},
   "source": [
    "## Section #2: Articles"
   ]
  },
  {
   "cell_type": "code",
   "execution_count": 201,
   "metadata": {},
   "outputs": [],
   "source": [
    "def news_tokenize(text):\n",
    "    # Directly tokenize the text using the word_tokenize function\n",
    "    tokens = word_tokenize(text)\n",
    "    return tokens"
   ]
  },
  {
   "cell_type": "code",
   "execution_count": 198,
   "metadata": {},
   "outputs": [],
   "source": [
    "# Apply the cleaning functio nto the column that we defined earlier\n",
    "news_df_c['text_clean'] = news_df_c['text'].apply(clean_text)\n",
    "news_df_c['title_clean'] = news_df_c['title'].apply(clean_text)"
   ]
  },
  {
   "cell_type": "code",
   "execution_count": 199,
   "metadata": {},
   "outputs": [],
   "source": [
    "# Tokenize the news articles text and titles\n",
    "news_df_c['text_tokens'] = news_df_c['text_clean'].apply(news_tokenize)\n",
    "news_df_c['title_tokens'] = news_df_c['title_clean'].apply(news_tokenize)"
   ]
  },
  {
   "cell_type": "code",
   "execution_count": 203,
   "metadata": {},
   "outputs": [
    {
     "data": {
      "text/html": [
       "<div>\n",
       "<style scoped>\n",
       "    .dataframe tbody tr th:only-of-type {\n",
       "        vertical-align: middle;\n",
       "    }\n",
       "\n",
       "    .dataframe tbody tr th {\n",
       "        vertical-align: top;\n",
       "    }\n",
       "\n",
       "    .dataframe thead th {\n",
       "        text-align: right;\n",
       "    }\n",
       "</style>\n",
       "<table border=\"1\" class=\"dataframe\">\n",
       "  <thead>\n",
       "    <tr style=\"text-align: right;\">\n",
       "      <th></th>\n",
       "      <th>text_tokens</th>\n",
       "      <th>title_tokens</th>\n",
       "    </tr>\n",
       "  </thead>\n",
       "  <tbody>\n",
       "    <tr>\n",
       "      <th>0</th>\n",
       "      <td>[lml, bike, car, dealer, lml, bike, showroom, india, explore, friday, january, log, insign, searchnotificationstop, sectionsauto, newscar, newsbike, newslatestauto, newsphotosvideoselectric, vehiclestrendingmy, readsoffersnewfind, carsfind, bikescompare, carscompare, bikesemi, calculatordealersexplore, autoabout, uscontact, ussitemaprssterms, useprivacy, policycopyright, ht, medium, limited, right, reservedhomeoffersnewfind, carsfind, bikescompare, carscompare, bikesemi, calculatordealerscar...</td>\n",
       "      <td>[lml, bike, car, dealer, lml, bike, showroom, india]</td>\n",
       "    </tr>\n",
       "    <tr>\n",
       "      <th>1</th>\n",
       "      <td>[pure, ev, bike, car, dealer, pure, ev, bike, showroom, india, explore, friday, january, log, insign, searchnotificationstop, sectionsauto, newscar, newsbike, newslatestauto, newsphotosvideoselectric, vehiclestrendingmy, readsoffersnewfind, carsfind, bikescompare, carscompare, bikesemi, calculatordealersexplore, autoabout, uscontact, ussitemaprssterms, useprivacy, policycopyright, ht, medium, limited, right, reservedhomeoffersnewfind, carsfind, bikescompare, carscompare, bikesemi, calculator...</td>\n",
       "      <td>[pure, ev, bike, car, dealer, pure, ev, bike, showroom, india]</td>\n",
       "    </tr>\n",
       "    <tr>\n",
       "      <th>2</th>\n",
       "      <td>[syncron, price, selected, mitsubishi, motor, corporation, boost, enhanced, service, part, pricing, strategyskip, contentcircle, country, music, lifestyleadvertise, usteacher, tributeask, expertthank, nursebe, excellentwatch, livenewselectionsvaccine, trackervideoweathersportscommunitycontestsabout, uscovidsearchhomesee, snap, send, itnewsstorm, centurynationalstateeditorialinvestigateeast, texas, ag, newscrimeeast, texas, nowthe, next, normalsept, thweathersign, thundercalllake, levelsproje...</td>\n",
       "      <td>[syncron, price, selected, mitsubishi, motor, corporation, boost, enhanced, service, part, pricing, strategy]</td>\n",
       "    </tr>\n",
       "    <tr>\n",
       "      <th>3</th>\n",
       "      <td>[mahindra, tease, future, electric, lineup, motoroids, motoroids, blogmotoroids, forum, authorscontact, ussubmit, storyadvertise, usprivacy, policy, search, homeauto, newsfeatureslaunchesupcoming, carsupcoming, suvsupcoming, bikesrecent, launchesreviewsmodsmodified, bikesmodified, carsinteresting, offbeatlistscc, bikescc, bikescc, bikescc, bikescc, bikescc, bikescc, bikescc, cc, bikesbikes, indiacars, indiaforums, trending, triumph, trident, get, pricier, homenewsmahindra, tease, future, ele...</td>\n",
       "      <td>[mahindra, tease, future, electric, lineup, motoroids]</td>\n",
       "    </tr>\n",
       "    <tr>\n",
       "      <th>4</th>\n",
       "      <td>[jawa, bike, car, dealer, jawa, bike, showroom, india, explore, saturday, january, log, insign, searchnotificationstop, sectionsauto, newscar, newsbike, newslatestauto, newsphotosvideoselectric, vehiclestrendingmy, readsoffersnewfind, carsfind, bikescompare, carscompare, bikesemi, calculatordealersexplore, autoabout, uscontact, ussitemaprssterms, useprivacy, policycopyright, ht, medium, limited, right, reservedhomeoffersnewfind, carsfind, bikescompare, carscompare, bikesemi, calculatordealer...</td>\n",
       "      <td>[jawa, bike, car, dealer, jawa, bike, showroom, india]</td>\n",
       "    </tr>\n",
       "  </tbody>\n",
       "</table>\n",
       "</div>"
      ],
      "text/plain": [
       "                                                                                                                                                                                                                                                                                                                                                                                                                                                                                                           text_tokens  \\\n",
       "0  [lml, bike, car, dealer, lml, bike, showroom, india, explore, friday, january, log, insign, searchnotificationstop, sectionsauto, newscar, newsbike, newslatestauto, newsphotosvideoselectric, vehiclestrendingmy, readsoffersnewfind, carsfind, bikescompare, carscompare, bikesemi, calculatordealersexplore, autoabout, uscontact, ussitemaprssterms, useprivacy, policycopyright, ht, medium, limited, right, reservedhomeoffersnewfind, carsfind, bikescompare, carscompare, bikesemi, calculatordealerscar...   \n",
       "1  [pure, ev, bike, car, dealer, pure, ev, bike, showroom, india, explore, friday, january, log, insign, searchnotificationstop, sectionsauto, newscar, newsbike, newslatestauto, newsphotosvideoselectric, vehiclestrendingmy, readsoffersnewfind, carsfind, bikescompare, carscompare, bikesemi, calculatordealersexplore, autoabout, uscontact, ussitemaprssterms, useprivacy, policycopyright, ht, medium, limited, right, reservedhomeoffersnewfind, carsfind, bikescompare, carscompare, bikesemi, calculator...   \n",
       "2  [syncron, price, selected, mitsubishi, motor, corporation, boost, enhanced, service, part, pricing, strategyskip, contentcircle, country, music, lifestyleadvertise, usteacher, tributeask, expertthank, nursebe, excellentwatch, livenewselectionsvaccine, trackervideoweathersportscommunitycontestsabout, uscovidsearchhomesee, snap, send, itnewsstorm, centurynationalstateeditorialinvestigateeast, texas, ag, newscrimeeast, texas, nowthe, next, normalsept, thweathersign, thundercalllake, levelsproje...   \n",
       "3  [mahindra, tease, future, electric, lineup, motoroids, motoroids, blogmotoroids, forum, authorscontact, ussubmit, storyadvertise, usprivacy, policy, search, homeauto, newsfeatureslaunchesupcoming, carsupcoming, suvsupcoming, bikesrecent, launchesreviewsmodsmodified, bikesmodified, carsinteresting, offbeatlistscc, bikescc, bikescc, bikescc, bikescc, bikescc, bikescc, bikescc, cc, bikesbikes, indiacars, indiaforums, trending, triumph, trident, get, pricier, homenewsmahindra, tease, future, ele...   \n",
       "4  [jawa, bike, car, dealer, jawa, bike, showroom, india, explore, saturday, january, log, insign, searchnotificationstop, sectionsauto, newscar, newsbike, newslatestauto, newsphotosvideoselectric, vehiclestrendingmy, readsoffersnewfind, carsfind, bikescompare, carscompare, bikesemi, calculatordealersexplore, autoabout, uscontact, ussitemaprssterms, useprivacy, policycopyright, ht, medium, limited, right, reservedhomeoffersnewfind, carsfind, bikescompare, carscompare, bikesemi, calculatordealer...   \n",
       "\n",
       "                                                                                                    title_tokens  \n",
       "0                                                           [lml, bike, car, dealer, lml, bike, showroom, india]  \n",
       "1                                                 [pure, ev, bike, car, dealer, pure, ev, bike, showroom, india]  \n",
       "2  [syncron, price, selected, mitsubishi, motor, corporation, boost, enhanced, service, part, pricing, strategy]  \n",
       "3                                                         [mahindra, tease, future, electric, lineup, motoroids]  \n",
       "4                                                         [jawa, bike, car, dealer, jawa, bike, showroom, india]  "
      ]
     },
     "execution_count": 203,
     "metadata": {},
     "output_type": "execute_result"
    }
   ],
   "source": [
    "# Lemmatize the tokens to the root\n",
    "lemmatizer = WordNetLemmatizer()\n",
    "news_df_c['text_tokens'] = news_df_c['text_tokens'].apply(lambda tokens: [lemmatizer.lemmatize(word) for word in tokens])\n",
    "news_df_c['title_tokens'] = news_df_c['title_tokens'].apply(lambda tokens: [lemmatizer.lemmatize(word) for word in tokens])\n",
    "\n",
    "news_df_c[['text_tokens','title_tokens']].head(5)"
   ]
  },
  {
   "cell_type": "markdown",
   "metadata": {},
   "source": [
    "### Examine the most common tokens"
   ]
  },
  {
   "cell_type": "code",
   "execution_count": 204,
   "metadata": {},
   "outputs": [
    {
     "data": {
      "text/plain": [
       "[('petrol', 15661),\n",
       " ('lakh', 13718),\n",
       " ('mt', 9260),\n",
       " ('offer', 8434),\n",
       " ('turbo', 8338),\n",
       " ('car', 6568),\n",
       " ('complete', 5837),\n",
       " ('cc', 5216),\n",
       " ('xv', 5113),\n",
       " ('aprview', 5053)]"
      ]
     },
     "execution_count": 204,
     "metadata": {},
     "output_type": "execute_result"
    }
   ],
   "source": [
    "from collections import Counter\n",
    "\n",
    "Counter(news_df_c['text_tokens'].explode()).most_common(10)"
   ]
  },
  {
   "cell_type": "code",
   "execution_count": 205,
   "metadata": {},
   "outputs": [
    {
     "data": {
      "text/plain": [
       "[('car', 555),\n",
       " ('bike', 336),\n",
       " ('offer', 255),\n",
       " ('discount', 254),\n",
       " ('march', 254),\n",
       " ('dealer', 251),\n",
       " ('showroom', 247),\n",
       " ('india', 223),\n",
       " ('news', 95),\n",
       " ('tata', 78)]"
      ]
     },
     "execution_count": 205,
     "metadata": {},
     "output_type": "execute_result"
    }
   ],
   "source": [
    "Counter(news_df_c['title_tokens'].explode()).most_common(10)"
   ]
  },
  {
   "cell_type": "markdown",
   "metadata": {},
   "source": [
    "### The title tokens appear more valuable with less noise -- we will use these title tokens for the remaining analysis"
   ]
  },
  {
   "cell_type": "code",
   "execution_count": 210,
   "metadata": {},
   "outputs": [],
   "source": [
    "for i in range(1, 11):\n",
    "    news_df_c['ngrams_'+str(i)] = news_df_c['title_tokens'].apply(create_ngrams, n=i)"
   ]
  },
  {
   "cell_type": "code",
   "execution_count": 211,
   "metadata": {},
   "outputs": [
    {
     "data": {
      "text/html": [
       "<div>\n",
       "<style scoped>\n",
       "    .dataframe tbody tr th:only-of-type {\n",
       "        vertical-align: middle;\n",
       "    }\n",
       "\n",
       "    .dataframe tbody tr th {\n",
       "        vertical-align: top;\n",
       "    }\n",
       "\n",
       "    .dataframe thead th {\n",
       "        text-align: right;\n",
       "    }\n",
       "</style>\n",
       "<table border=\"1\" class=\"dataframe\">\n",
       "  <thead>\n",
       "    <tr style=\"text-align: right;\">\n",
       "      <th></th>\n",
       "      <th>url</th>\n",
       "      <th>date</th>\n",
       "      <th>language</th>\n",
       "      <th>title</th>\n",
       "      <th>text</th>\n",
       "      <th>text_clean</th>\n",
       "      <th>title_clean</th>\n",
       "      <th>text_tokens</th>\n",
       "      <th>title_tokens</th>\n",
       "      <th>ngrams_1</th>\n",
       "      <th>ngrams_2</th>\n",
       "      <th>ngrams_3</th>\n",
       "      <th>ngrams_4</th>\n",
       "      <th>ngrams_5</th>\n",
       "      <th>ngrams_6</th>\n",
       "      <th>ngrams_7</th>\n",
       "      <th>ngrams_8</th>\n",
       "      <th>ngrams_9</th>\n",
       "      <th>highest_sim_1</th>\n",
       "      <th>highest_sim_ind_1</th>\n",
       "      <th>highest_sim_2</th>\n",
       "      <th>highest_sim_ind_2</th>\n",
       "      <th>highest_sim_3</th>\n",
       "      <th>highest_sim_ind_3</th>\n",
       "      <th>highest_sim_4</th>\n",
       "      <th>highest_sim_ind_4</th>\n",
       "      <th>highest_sim_5</th>\n",
       "      <th>highest_sim_ind_5</th>\n",
       "      <th>highest_sim_6</th>\n",
       "      <th>highest_sim_ind_6</th>\n",
       "      <th>highest_sim_7</th>\n",
       "      <th>highest_sim_ind_7</th>\n",
       "      <th>highest_sim_8</th>\n",
       "      <th>highest_sim_ind_8</th>\n",
       "      <th>highest_sim_9</th>\n",
       "      <th>highest_sim_ind_9</th>\n",
       "      <th>highest_sim_10</th>\n",
       "      <th>highest_sim_ind_10</th>\n",
       "      <th>ngrams_10</th>\n",
       "    </tr>\n",
       "  </thead>\n",
       "  <tbody>\n",
       "    <tr>\n",
       "      <th>0</th>\n",
       "      <td>https://auto.hindustantimes.com/lml-bikes/dealers/bodh-gaya</td>\n",
       "      <td>2022-01-21</td>\n",
       "      <td>en</td>\n",
       "      <td>Lml Bikes Car Dealers - Lml Bikes Showrooms in India</td>\n",
       "      <td>Lml Bikes Car Dealers - Lml Bikes Showrooms in India Explore  Friday, 21 January 2022 Log in/Sign up SearchNotificationsTop SectionsAuto NewsCar NewsBike NewsLatestAuto NewsPhotosVideosElectric VehiclesTrendingMy ReadsOffersnewFind carsFind bikesCompare carsCompare bikesEMI calculatorDealersExplore AutoAbout UsContact UsSITEMAPRSSTerms of UsePrivacy PolicyCopyright © HT Media Limited All rights reserved.HomeOffersnewFind carsFind bikesCompare carsCompare bikesEMI calculatorDealersCar NewsBik...</td>\n",
       "      <td>lml bikes car dealers lml bikes showrooms india explore friday january log insign searchnotificationstop sectionsauto newscar newsbike newslatestauto newsphotosvideoselectric vehiclestrendingmy readsoffersnewfind carsfind bikescompare carscompare bikesemi calculatordealersexplore autoabout uscontact ussitemaprssterms useprivacy policycopyright ht media limited rights reservedhomeoffersnewfind carsfind bikescompare carscompare bikesemi calculatordealerscar newsbike newslatestauto newsphotosvi...</td>\n",
       "      <td>lml bikes car dealers lml bikes showrooms india</td>\n",
       "      <td>[lml, bike, car, dealer, lml, bike, showroom, india, explore, friday, january, log, insign, searchnotificationstop, sectionsauto, newscar, newsbike, newslatestauto, newsphotosvideoselectric, vehiclestrendingmy, readsoffersnewfind, carsfind, bikescompare, carscompare, bikesemi, calculatordealersexplore, autoabout, uscontact, ussitemaprssterms, useprivacy, policycopyright, ht, medium, limited, right, reservedhomeoffersnewfind, carsfind, bikescompare, carscompare, bikesemi, calculatordealerscar...</td>\n",
       "      <td>[lml, bike, car, dealer, lml, bike, showroom, india]</td>\n",
       "      <td>[(lml,), (bike,), (car,), (dealer,), (lml,), (bike,), (showroom,), (india,)]</td>\n",
       "      <td>[(lml, bike), (bike, car), (car, dealer), (dealer, lml), (lml, bike), (bike, showroom), (showroom, india)]</td>\n",
       "      <td>[(lml, bike, car), (bike, car, dealer), (car, dealer, lml), (dealer, lml, bike), (lml, bike, showroom), (bike, showroom, india)]</td>\n",
       "      <td>[(lml, bike, car, dealer), (bike, car, dealer, lml), (car, dealer, lml, bike), (dealer, lml, bike, showroom), (lml, bike, showroom, india)]</td>\n",
       "      <td>[(lml, bike, car, dealer, lml), (bike, car, dealer, lml, bike), (car, dealer, lml, bike, showroom), (dealer, lml, bike, showroom, india)]</td>\n",
       "      <td>[(lml, bike, car, dealer, lml, bike), (bike, car, dealer, lml, bike, showroom), (car, dealer, lml, bike, showroom, india)]</td>\n",
       "      <td>[(lml, bike, car, dealer, lml, bike, showroom), (bike, car, dealer, lml, bike, showroom, india)]</td>\n",
       "      <td>[(lml, bike, car, dealer, lml, bike, showroom, india)]</td>\n",
       "      <td>[]</td>\n",
       "      <td>0.714286</td>\n",
       "      <td>4</td>\n",
       "      <td>0.5</td>\n",
       "      <td>4</td>\n",
       "      <td>0.2</td>\n",
       "      <td>4</td>\n",
       "      <td>0.0</td>\n",
       "      <td>-1</td>\n",
       "      <td>0.0</td>\n",
       "      <td>-1</td>\n",
       "      <td>0.0</td>\n",
       "      <td>-1</td>\n",
       "      <td>0.0</td>\n",
       "      <td>-1</td>\n",
       "      <td>0.0</td>\n",
       "      <td>-1</td>\n",
       "      <td>0.0</td>\n",
       "      <td>-1</td>\n",
       "      <td>0.0</td>\n",
       "      <td>-1</td>\n",
       "      <td>[]</td>\n",
       "    </tr>\n",
       "  </tbody>\n",
       "</table>\n",
       "</div>"
      ],
      "text/plain": [
       "                                                           url       date  \\\n",
       "0  https://auto.hindustantimes.com/lml-bikes/dealers/bodh-gaya 2022-01-21   \n",
       "\n",
       "  language                                                 title  \\\n",
       "0       en  Lml Bikes Car Dealers - Lml Bikes Showrooms in India   \n",
       "\n",
       "                                                                                                                                                                                                                                                                                                                                                                                                                                                                                                                  text  \\\n",
       "0  Lml Bikes Car Dealers - Lml Bikes Showrooms in India Explore  Friday, 21 January 2022 Log in/Sign up SearchNotificationsTop SectionsAuto NewsCar NewsBike NewsLatestAuto NewsPhotosVideosElectric VehiclesTrendingMy ReadsOffersnewFind carsFind bikesCompare carsCompare bikesEMI calculatorDealersExplore AutoAbout UsContact UsSITEMAPRSSTerms of UsePrivacy PolicyCopyright © HT Media Limited All rights reserved.HomeOffersnewFind carsFind bikesCompare carsCompare bikesEMI calculatorDealersCar NewsBik...   \n",
       "\n",
       "                                                                                                                                                                                                                                                                                                                                                                                                                                                                                                            text_clean  \\\n",
       "0  lml bikes car dealers lml bikes showrooms india explore friday january log insign searchnotificationstop sectionsauto newscar newsbike newslatestauto newsphotosvideoselectric vehiclestrendingmy readsoffersnewfind carsfind bikescompare carscompare bikesemi calculatordealersexplore autoabout uscontact ussitemaprssterms useprivacy policycopyright ht media limited rights reservedhomeoffersnewfind carsfind bikescompare carscompare bikesemi calculatordealerscar newsbike newslatestauto newsphotosvi...   \n",
       "\n",
       "                                       title_clean  \\\n",
       "0  lml bikes car dealers lml bikes showrooms india   \n",
       "\n",
       "                                                                                                                                                                                                                                                                                                                                                                                                                                                                                                           text_tokens  \\\n",
       "0  [lml, bike, car, dealer, lml, bike, showroom, india, explore, friday, january, log, insign, searchnotificationstop, sectionsauto, newscar, newsbike, newslatestauto, newsphotosvideoselectric, vehiclestrendingmy, readsoffersnewfind, carsfind, bikescompare, carscompare, bikesemi, calculatordealersexplore, autoabout, uscontact, ussitemaprssterms, useprivacy, policycopyright, ht, medium, limited, right, reservedhomeoffersnewfind, carsfind, bikescompare, carscompare, bikesemi, calculatordealerscar...   \n",
       "\n",
       "                                           title_tokens  \\\n",
       "0  [lml, bike, car, dealer, lml, bike, showroom, india]   \n",
       "\n",
       "                                                                       ngrams_1  \\\n",
       "0  [(lml,), (bike,), (car,), (dealer,), (lml,), (bike,), (showroom,), (india,)]   \n",
       "\n",
       "                                                                                                     ngrams_2  \\\n",
       "0  [(lml, bike), (bike, car), (car, dealer), (dealer, lml), (lml, bike), (bike, showroom), (showroom, india)]   \n",
       "\n",
       "                                                                                                                           ngrams_3  \\\n",
       "0  [(lml, bike, car), (bike, car, dealer), (car, dealer, lml), (dealer, lml, bike), (lml, bike, showroom), (bike, showroom, india)]   \n",
       "\n",
       "                                                                                                                                      ngrams_4  \\\n",
       "0  [(lml, bike, car, dealer), (bike, car, dealer, lml), (car, dealer, lml, bike), (dealer, lml, bike, showroom), (lml, bike, showroom, india)]   \n",
       "\n",
       "                                                                                                                                    ngrams_5  \\\n",
       "0  [(lml, bike, car, dealer, lml), (bike, car, dealer, lml, bike), (car, dealer, lml, bike, showroom), (dealer, lml, bike, showroom, india)]   \n",
       "\n",
       "                                                                                                                     ngrams_6  \\\n",
       "0  [(lml, bike, car, dealer, lml, bike), (bike, car, dealer, lml, bike, showroom), (car, dealer, lml, bike, showroom, india)]   \n",
       "\n",
       "                                                                                           ngrams_7  \\\n",
       "0  [(lml, bike, car, dealer, lml, bike, showroom), (bike, car, dealer, lml, bike, showroom, india)]   \n",
       "\n",
       "                                                 ngrams_8 ngrams_9  \\\n",
       "0  [(lml, bike, car, dealer, lml, bike, showroom, india)]       []   \n",
       "\n",
       "   highest_sim_1  highest_sim_ind_1  highest_sim_2  highest_sim_ind_2  \\\n",
       "0       0.714286                  4            0.5                  4   \n",
       "\n",
       "   highest_sim_3  highest_sim_ind_3  highest_sim_4  highest_sim_ind_4  \\\n",
       "0            0.2                  4            0.0                 -1   \n",
       "\n",
       "   highest_sim_5  highest_sim_ind_5  highest_sim_6  highest_sim_ind_6  \\\n",
       "0            0.0                 -1            0.0                 -1   \n",
       "\n",
       "   highest_sim_7  highest_sim_ind_7  highest_sim_8  highest_sim_ind_8  \\\n",
       "0            0.0                 -1            0.0                 -1   \n",
       "\n",
       "   highest_sim_9  highest_sim_ind_9  highest_sim_10  highest_sim_ind_10  \\\n",
       "0            0.0                 -1             0.0                  -1   \n",
       "\n",
       "  ngrams_10  \n",
       "0        []  "
      ]
     },
     "execution_count": 211,
     "metadata": {},
     "output_type": "execute_result"
    }
   ],
   "source": [
    "news_df_c.head(1)"
   ]
  },
  {
   "cell_type": "code",
   "execution_count": 212,
   "metadata": {},
   "outputs": [],
   "source": [
    "for i in range(1,11):\n",
    "    compute_max_jaccard(news_df_c, i)"
   ]
  },
  {
   "cell_type": "code",
   "execution_count": 213,
   "metadata": {},
   "outputs": [
    {
     "data": {
      "image/png": "[encoded data removed]",
      "text/plain": [
       "<Figure size 1000x600 with 1 Axes>"
      ]
     },
     "metadata": {},
     "output_type": "display_data"
    }
   ],
   "source": [
    "import matplotlib.pyplot as plt\n",
    "\n",
    "sim_columns = news_df_c.filter(regex='^highest_sim_\\d+').columns\n",
    "avg_sim = news_df_c[sim_columns].mean()\n",
    "\n",
    "# Plot using seaborn's lineplot\n",
    "plt.figure(figsize=(10, 6))  # Adjust the figure size as necessary\n",
    "sns.lineplot(data=avg_sim)\n",
    "plt.xticks(rotation=45)  # Rotate x-axis labels for better visibility\n",
    "plt.xlabel('N-gram Size')  # Set title for the x-axis\n",
    "plt.ylabel('Average Similarity')  # Set title for the y-axis\n",
    "plt.title('Articles - Average Jaccard Similarity by N-gram Size')  # Set the title of the plot\n",
    "plt.show()"
   ]
  },
  {
   "cell_type": "markdown",
   "metadata": {},
   "source": [
    "### Based on the above plot, I would conclude an ngram value of 4 is best for the article titles. I will continue with this n value going forward."
   ]
  },
  {
   "cell_type": "code",
   "execution_count": 215,
   "metadata": {},
   "outputs": [
    {
     "data": {
      "text/html": [
       "<div>\n",
       "<style scoped>\n",
       "    .dataframe tbody tr th:only-of-type {\n",
       "        vertical-align: middle;\n",
       "    }\n",
       "\n",
       "    .dataframe tbody tr th {\n",
       "        vertical-align: top;\n",
       "    }\n",
       "\n",
       "    .dataframe thead th {\n",
       "        text-align: right;\n",
       "    }\n",
       "</style>\n",
       "<table border=\"1\" class=\"dataframe\">\n",
       "  <thead>\n",
       "    <tr style=\"text-align: right;\">\n",
       "      <th></th>\n",
       "      <th>highest_sim_4</th>\n",
       "      <th>highest_sim_ind_4</th>\n",
       "      <th>title_clean</th>\n",
       "      <th>text_clean</th>\n",
       "    </tr>\n",
       "  </thead>\n",
       "  <tbody>\n",
       "    <tr>\n",
       "      <th>6</th>\n",
       "      <td>0.857143</td>\n",
       "      <td>349</td>\n",
       "      <td>exnissan us exec kelly gets suspended sentence go home</td>\n",
       "      <td>exnissan us exec kelly gets suspended sentence go home home mail news finance sports entertainment life shopping yahoo plus download yahoo news app yahoo news search query sign mail sign view mail news news us us politics politics world world covid covid climate change climate change originals originals skullduggeryskullduggery conspiracylandconspiracyland health health science science podcasts podcasts contact us contact us videos videos autos autos live updatesukraine says pact reached rus...</td>\n",
       "    </tr>\n",
       "    <tr>\n",
       "      <th>349</th>\n",
       "      <td>0.857143</td>\n",
       "      <td>6</td>\n",
       "      <td>exnissan us exec kelly gets suspended sentence go home ourquadcities</td>\n",
       "      <td>exnissan us exec kelly gets suspended sentence go home ourquadcitiesskip contentwhbf ourquadcitiescomrock islandrock islandsponsored toggle menuopen navigationclose navigationsearchplease enter search termprimary menunewslocal newslocal arts culturestate newsrussia ukraine conflict recordlocal news morningnational newsyour local election headquarterswashington dclocal movie reviewsbestreviewspr newswire press releasesweatherdog walking forecastsevere weatherclosings delaysweather camwinter d...</td>\n",
       "    </tr>\n",
       "    <tr>\n",
       "      <th>35</th>\n",
       "      <td>0.833333</td>\n",
       "      <td>760</td>\n",
       "      <td>france issues arrest warrant disgraced auto tycoon ghosn</td>\n",
       "      <td>france issues arrest warrant disgraced auto tycoon ghosnlocal newsgeorgia politicsajc podcastsepapercovidsportspress epapernewsall newsgeorgia newsbreaking newslocal newsbusinesseducationweathertrafficinspire atlantacrime public safetynational world newsobituariesajc jobspoliticsall politicspolitical insiderlegislatureelections inside electionnational politicsjamie dupreetake actionpolitically georgia podcastlegislative navigatorlocal newsall county newsalpharettadunwoodyroswellsandy springs...</td>\n",
       "    </tr>\n",
       "    <tr>\n",
       "      <th>534</th>\n",
       "      <td>0.833333</td>\n",
       "      <td>760</td>\n",
       "      <td>france issues arrest warrant disgraced auto tycoon ghosn</td>\n",
       "      <td>france issues arrest warrant disgraced auto tycoon ghosn skip main content currently readingfrance issues arrest warrant disgraced auto tycoon ghosnsubscribesubscribeeeditionsign puzzleshomecontact uscirculationnewslettersbreaking news signupprint archivesprivacy noticeterms usenewslocal newsaround thumbtribune throwbackmichiganus worldagriculturebusinesshealthentertainmentspecial sectionssocialsocialopinionopinionprep zoneprep zone bad axeprep zone casevilleprep zone cass cityprep zone deck...</td>\n",
       "    </tr>\n",
       "    <tr>\n",
       "      <th>664</th>\n",
       "      <td>0.833333</td>\n",
       "      <td>790</td>\n",
       "      <td>russias war spurs corporate exodus exposes business risks</td>\n",
       "      <td>russias war spurs corporate exodus exposes business risks skip main content currently readingrussias war spurs corporate exodus exposes business riskssubscribesubscribeeeditionsign homeabout uscontact usadvertisesubscribeprivacy noticeterms usenewsarchivesspecial sectionsnews tiponline formsrss feedssportssubmit scoressubmit sports newspronewslettersobituariessubmit obituaryfeaturesgamescontestsspecial sectionscomicshoroscopessubmit anniversarysubmit birthsubmit birthdaysubmit engagementsubm...</td>\n",
       "    </tr>\n",
       "    <tr>\n",
       "      <th>760</th>\n",
       "      <td>0.833333</td>\n",
       "      <td>35</td>\n",
       "      <td>france issues arrest warrant disgraced auto tycoon ghosn kesq</td>\n",
       "      <td>france issues arrest warrant disgraced auto tycoon ghosn kesqcirclearrowplay buttonstop buttonchevronrightchevronleftchevronupsearchwarningchevronleftskinnychevronrightskinnyxclockcalendarplaybuttoncancelcircleusertwitterfacebookyoutubeinstagramemaillinkedinhomenewscaliforniacrimecoachella valley questions answerededucationiteam investigationsfestival seasonneighborhood heroessalton sea projectscandal city hallstands youusworldcoronaviruscoronavirus questions answeredlocal resourcesweatheral...</td>\n",
       "    </tr>\n",
       "    <tr>\n",
       "      <th>790</th>\n",
       "      <td>0.833333</td>\n",
       "      <td>664</td>\n",
       "      <td>russias war spurs corporate exodus exposes business risks khon</td>\n",
       "      <td>russias war spurs corporate exodus exposes business risks khonskip contentkhonwaipahulive nowkhon news waipahulivesponsored toggle menuopen navigationclose navigationsearchplease enter search termprimary menunewshawaii newscoronavirusnational newswashingtondcinternational newsrussia ukraine conflictaction linealways investigatinghawaii crimekupuna caregiverkupuna lifebusiness mattersaloha authentichardworking hawaiiway gowhats law find homesupport hawaiibestreviewspr newswire press releasesn...</td>\n",
       "    </tr>\n",
       "    <tr>\n",
       "      <th>800</th>\n",
       "      <td>0.800000</td>\n",
       "      <td>912</td>\n",
       "      <td>japan prosecutors appeal exnissan executive kelly trial</td>\n",
       "      <td>japan prosecutors appeal exnissan executive kelly trial skip main content currently readingjapan prosecutors appeal exnissan executive kelly trialsubscribesubscribeeeditionsign capital regionbest capital regionweatherschool closingsobituarieshistorynxivmhudson valleysportshigh schoolsienaualbanysaratoga race coursevalleycatsalbany empirepro sportsnew yorkcapitol confidentialcannabiscovidbusinesswomen businessfun gameshoroscopescomicspuzzlesentertainmentevents calendarart exhibitsmovies tvmus...</td>\n",
       "    </tr>\n",
       "    <tr>\n",
       "      <th>912</th>\n",
       "      <td>0.800000</td>\n",
       "      <td>800</td>\n",
       "      <td>japan prosecutors appeal exnissan executive kelly trial wtmj</td>\n",
       "      <td>japan prosecutors appeal exnissan executive kelly trial wtmj aboutadvertisecontactcareerseeo public file reportfcc public filefcc applicationsprivacy policyterms use wednesday march homenewslocalnationalcoronavirusfeatured storiesfish fry frydaydecision wisconsinguest editorialsweatherclosings delaysflight statusinteractive radarwatches warningstrafficsportsgreen bay packersgreen gold podcastsecond screenmilwaukee brewersbrewers extra inningsfirst pitchmilwaukee bucksbucks talkbucks flagship...</td>\n",
       "    </tr>\n",
       "    <tr>\n",
       "      <th>294</th>\n",
       "      <td>0.714286</td>\n",
       "      <td>35</td>\n",
       "      <td>france issues arrest warrant disgraced auto tycoon ghosn knwa fox</td>\n",
       "      <td>france issues arrest warrant disgraced auto tycoon ghosn knwa foxskip contentknwa foxfayettevillefayettevillesponsored toggle menuopen navigationclose navigationsearchplease enter search termprimary menunewsknwafoxaround arkansasrussia ukraine conflictaround regioncoronavirusjosh duggar triallive streams local newsnational news northwest arkansas newsriver valley newswashingtondcyour local election hq automotive newsbestreviewsbestreviews daily dealspr newswire press releasestop storiesfs po...</td>\n",
       "    </tr>\n",
       "  </tbody>\n",
       "</table>\n",
       "</div>"
      ],
      "text/plain": [
       "     highest_sim_4  highest_sim_ind_4  \\\n",
       "6         0.857143                349   \n",
       "349       0.857143                  6   \n",
       "35        0.833333                760   \n",
       "534       0.833333                760   \n",
       "664       0.833333                790   \n",
       "760       0.833333                 35   \n",
       "790       0.833333                664   \n",
       "800       0.800000                912   \n",
       "912       0.800000                800   \n",
       "294       0.714286                 35   \n",
       "\n",
       "                                                              title_clean  \\\n",
       "6                  exnissan us exec kelly gets suspended sentence go home   \n",
       "349  exnissan us exec kelly gets suspended sentence go home ourquadcities   \n",
       "35               france issues arrest warrant disgraced auto tycoon ghosn   \n",
       "534              france issues arrest warrant disgraced auto tycoon ghosn   \n",
       "664             russias war spurs corporate exodus exposes business risks   \n",
       "760         france issues arrest warrant disgraced auto tycoon ghosn kesq   \n",
       "790        russias war spurs corporate exodus exposes business risks khon   \n",
       "800               japan prosecutors appeal exnissan executive kelly trial   \n",
       "912          japan prosecutors appeal exnissan executive kelly trial wtmj   \n",
       "294     france issues arrest warrant disgraced auto tycoon ghosn knwa fox   \n",
       "\n",
       "                                                                                                                                                                                                                                                                                                                                                                                                                                                                                                              text_clean  \n",
       "6    exnissan us exec kelly gets suspended sentence go home home mail news finance sports entertainment life shopping yahoo plus download yahoo news app yahoo news search query sign mail sign view mail news news us us politics politics world world covid covid climate change climate change originals originals skullduggeryskullduggery conspiracylandconspiracyland health health science science podcasts podcasts contact us contact us videos videos autos autos live updatesukraine says pact reached rus...  \n",
       "349  exnissan us exec kelly gets suspended sentence go home ourquadcitiesskip contentwhbf ourquadcitiescomrock islandrock islandsponsored toggle menuopen navigationclose navigationsearchplease enter search termprimary menunewslocal newslocal arts culturestate newsrussia ukraine conflict recordlocal news morningnational newsyour local election headquarterswashington dclocal movie reviewsbestreviewspr newswire press releasesweatherdog walking forecastsevere weatherclosings delaysweather camwinter d...  \n",
       "35   france issues arrest warrant disgraced auto tycoon ghosnlocal newsgeorgia politicsajc podcastsepapercovidsportspress epapernewsall newsgeorgia newsbreaking newslocal newsbusinesseducationweathertrafficinspire atlantacrime public safetynational world newsobituariesajc jobspoliticsall politicspolitical insiderlegislatureelections inside electionnational politicsjamie dupreetake actionpolitically georgia podcastlegislative navigatorlocal newsall county newsalpharettadunwoodyroswellsandy springs...  \n",
       "534  france issues arrest warrant disgraced auto tycoon ghosn skip main content currently readingfrance issues arrest warrant disgraced auto tycoon ghosnsubscribesubscribeeeditionsign puzzleshomecontact uscirculationnewslettersbreaking news signupprint archivesprivacy noticeterms usenewslocal newsaround thumbtribune throwbackmichiganus worldagriculturebusinesshealthentertainmentspecial sectionssocialsocialopinionopinionprep zoneprep zone bad axeprep zone casevilleprep zone cass cityprep zone deck...  \n",
       "664  russias war spurs corporate exodus exposes business risks skip main content currently readingrussias war spurs corporate exodus exposes business riskssubscribesubscribeeeditionsign homeabout uscontact usadvertisesubscribeprivacy noticeterms usenewsarchivesspecial sectionsnews tiponline formsrss feedssportssubmit scoressubmit sports newspronewslettersobituariessubmit obituaryfeaturesgamescontestsspecial sectionscomicshoroscopessubmit anniversarysubmit birthsubmit birthdaysubmit engagementsubm...  \n",
       "760  france issues arrest warrant disgraced auto tycoon ghosn kesqcirclearrowplay buttonstop buttonchevronrightchevronleftchevronupsearchwarningchevronleftskinnychevronrightskinnyxclockcalendarplaybuttoncancelcircleusertwitterfacebookyoutubeinstagramemaillinkedinhomenewscaliforniacrimecoachella valley questions answerededucationiteam investigationsfestival seasonneighborhood heroessalton sea projectscandal city hallstands youusworldcoronaviruscoronavirus questions answeredlocal resourcesweatheral...  \n",
       "790  russias war spurs corporate exodus exposes business risks khonskip contentkhonwaipahulive nowkhon news waipahulivesponsored toggle menuopen navigationclose navigationsearchplease enter search termprimary menunewshawaii newscoronavirusnational newswashingtondcinternational newsrussia ukraine conflictaction linealways investigatinghawaii crimekupuna caregiverkupuna lifebusiness mattersaloha authentichardworking hawaiiway gowhats law find homesupport hawaiibestreviewspr newswire press releasesn...  \n",
       "800  japan prosecutors appeal exnissan executive kelly trial skip main content currently readingjapan prosecutors appeal exnissan executive kelly trialsubscribesubscribeeeditionsign capital regionbest capital regionweatherschool closingsobituarieshistorynxivmhudson valleysportshigh schoolsienaualbanysaratoga race coursevalleycatsalbany empirepro sportsnew yorkcapitol confidentialcannabiscovidbusinesswomen businessfun gameshoroscopescomicspuzzlesentertainmentevents calendarart exhibitsmovies tvmus...  \n",
       "912  japan prosecutors appeal exnissan executive kelly trial wtmj aboutadvertisecontactcareerseeo public file reportfcc public filefcc applicationsprivacy policyterms use wednesday march homenewslocalnationalcoronavirusfeatured storiesfish fry frydaydecision wisconsinguest editorialsweatherclosings delaysflight statusinteractive radarwatches warningstrafficsportsgreen bay packersgreen gold podcastsecond screenmilwaukee brewersbrewers extra inningsfirst pitchmilwaukee bucksbucks talkbucks flagship...  \n",
       "294  france issues arrest warrant disgraced auto tycoon ghosn knwa foxskip contentknwa foxfayettevillefayettevillesponsored toggle menuopen navigationclose navigationsearchplease enter search termprimary menunewsknwafoxaround arkansasrussia ukraine conflictaround regioncoronavirusjosh duggar triallive streams local newsnational news northwest arkansas newsriver valley newswashingtondcyour local election hq automotive newsbestreviewsbestreviews daily dealspr newswire press releasestop storiesfs po...  "
      ]
     },
     "execution_count": 215,
     "metadata": {},
     "output_type": "execute_result"
    }
   ],
   "source": [
    "news_df_c[['highest_sim_4','highest_sim_ind_4','title_clean', 'text_clean']].nlargest(10, 'highest_sim_4')"
   ]
  },
  {
   "cell_type": "markdown",
   "metadata": {},
   "source": [
    "### The highest similarity news articles by their title primarily are centered around france and nissans. A lof of the language between them is expectedly similar."
   ]
  },
  {
   "cell_type": "code",
   "execution_count": 216,
   "metadata": {},
   "outputs": [
    {
     "data": {
      "text/html": [
       "<div>\n",
       "<style scoped>\n",
       "    .dataframe tbody tr th:only-of-type {\n",
       "        vertical-align: middle;\n",
       "    }\n",
       "\n",
       "    .dataframe tbody tr th {\n",
       "        vertical-align: top;\n",
       "    }\n",
       "\n",
       "    .dataframe thead th {\n",
       "        text-align: right;\n",
       "    }\n",
       "</style>\n",
       "<table border=\"1\" class=\"dataframe\">\n",
       "  <thead>\n",
       "    <tr style=\"text-align: right;\">\n",
       "      <th></th>\n",
       "      <th>highest_sim_4</th>\n",
       "      <th>highest_sim_ind_4</th>\n",
       "      <th>title_clean</th>\n",
       "      <th>text_clean</th>\n",
       "    </tr>\n",
       "  </thead>\n",
       "  <tbody>\n",
       "    <tr>\n",
       "      <th>186</th>\n",
       "      <td>0.041667</td>\n",
       "      <td>396</td>\n",
       "      <td>pm gramin digital saksharta abhiyaan renault india partners csc egovernance services support pm gramin digital saksharta abhiyaan auto news et auto</td>\n",
       "      <td>pm gramin digital saksharta abhiyaan renault india partners csc egovernance services support pm gramin digital saksharta abhiyaan auto news et auto updated terms conditions privacy policy click continue accept continue et autoaccept updated privacy cookie policydear user et auto privacy cookie policy updated align new data regulations european union please review accept changes continue using websiteyou see privacy policy cookie policy use cookies ensure best experience websiteif choose igno...</td>\n",
       "    </tr>\n",
       "    <tr>\n",
       "      <th>237</th>\n",
       "      <td>0.047619</td>\n",
       "      <td>396</td>\n",
       "      <td>hero motocorp price hike hero motocorp hike motorcycle scooter prices inr july auto news et auto</td>\n",
       "      <td>hero motocorp price hike hero motocorp hike motorcycle scooter prices inr july auto news et auto updated terms conditions privacy policy click continue accept continue et autoaccept updated privacy cookie policydear user et auto privacy cookie policy updated align new data regulations european union please review accept changes continue using websiteyou see privacy policy cookie policy use cookies ensure best experience websiteif choose ignore message well assume happy receive cookies et aut...</td>\n",
       "    </tr>\n",
       "    <tr>\n",
       "      <th>185</th>\n",
       "      <td>0.050000</td>\n",
       "      <td>396</td>\n",
       "      <td>renault exports renaults made india products cross one lakh export milestone auto news et auto</td>\n",
       "      <td>renault exports renaults made india products cross one lakh export milestone auto news et auto updated terms conditions privacy policy click continue accept continue et autoaccept updated privacy cookie policydear user et auto privacy cookie policy updated align new data regulations european union please review accept changes continue using websiteyou see privacy policy cookie policy use cookies ensure best experience websiteif choose ignore message well assume happy receive cookies et autoa...</td>\n",
       "    </tr>\n",
       "    <tr>\n",
       "      <th>386</th>\n",
       "      <td>0.050000</td>\n",
       "      <td>396</td>\n",
       "      <td>biofuel us biofuel industry defends record biden administration mulls policy reform auto news et auto</td>\n",
       "      <td>biofuel us biofuel industry defends record biden administration mulls policy reform auto news et auto updated terms conditions privacy policy click continue accept continue et autoaccept updated privacy cookie policydear user et auto privacy cookie policy updated align new data regulations european union please review accept changes continue using websiteyou see privacy policy cookie policy use cookies ensure best experience websiteif choose ignore message well assume happy receive cookies e...</td>\n",
       "    </tr>\n",
       "    <tr>\n",
       "      <th>492</th>\n",
       "      <td>0.050000</td>\n",
       "      <td>396</td>\n",
       "      <td>global energy transition global energy transition cause shortterm economic pain report auto news et auto</td>\n",
       "      <td>global energy transition global energy transition cause shortterm economic pain report auto news et auto etautonewsnews passenger vehicle commercial vehicle two wheelers automotive components industry tyres aftermarket policy auto technology people movement oil lubes new launches raw material financial results auto finance featuresfeatures trends autopreneur etauto tv industryspeakindustryspeak interviews autologue etauto insights dealersdata analyticsdata analytics etautolytics reports etau...</td>\n",
       "    </tr>\n",
       "    <tr>\n",
       "      <th>660</th>\n",
       "      <td>0.050000</td>\n",
       "      <td>396</td>\n",
       "      <td>india fuel demand india expects fuel demand grow next fiscal year auto news et auto</td>\n",
       "      <td>india fuel demand india expects fuel demand grow next fiscal year auto news et auto updated terms conditions privacy policy click continue accept continue et autoaccept updated privacy cookie policydear user et auto privacy cookie policy updated align new data regulations european union please review accept changes continue using websiteyou see privacy policy cookie policy use cookies ensure best experience websiteif choose ignore message well assume happy receive cookies et autoanalyticsnec...</td>\n",
       "    </tr>\n",
       "    <tr>\n",
       "      <th>961</th>\n",
       "      <td>0.052632</td>\n",
       "      <td>396</td>\n",
       "      <td>lg energy solution gm sets bln michigan electric vehicle plants auto news et auto</td>\n",
       "      <td>lg energy solution gm sets bln michigan electric vehicle plants auto news et auto etautonewsnews passenger vehicle commercial vehicle two wheelers automotive components industry tyres aftermarket policy auto technology people movement oil lubes new launches raw material financial results auto finance featuresfeatures trends autopreneur etauto tv industryspeakindustryspeak interviews autologue etauto insights dealersdata analyticsdata analytics etautolytics reports etautotvbrand solutionsbran...</td>\n",
       "    </tr>\n",
       "    <tr>\n",
       "      <th>266</th>\n",
       "      <td>0.055556</td>\n",
       "      <td>396</td>\n",
       "      <td>msme promoters aima introduces month management course msme promoters auto news et auto</td>\n",
       "      <td>msme promoters aima introduces month management course msme promoters auto news et auto updated terms conditions privacy policy click continue accept continue et autoaccept updated privacy cookie policydear user et auto privacy cookie policy updated align new data regulations european union please review accept changes continue using websiteyou see privacy policy cookie policy use cookies ensure best experience websiteif choose ignore message well assume happy receive cookies et autoanalytic...</td>\n",
       "    </tr>\n",
       "    <tr>\n",
       "      <th>396</th>\n",
       "      <td>0.058824</td>\n",
       "      <td>452</td>\n",
       "      <td>ev policy state governments push ahead ev road auto news et auto</td>\n",
       "      <td>ev policy state governments push ahead ev road auto news et auto updated terms conditions privacy policy click continue accept continue et autoaccept updated privacy cookie policydear user et auto privacy cookie policy updated align new data regulations european union please review accept changes continue using websiteyou see privacy policy cookie policy use cookies ensure best experience websiteif choose ignore message well assume happy receive cookies et autoanalyticsnecessarynewsletter na...</td>\n",
       "    </tr>\n",
       "    <tr>\n",
       "      <th>452</th>\n",
       "      <td>0.058824</td>\n",
       "      <td>396</td>\n",
       "      <td>rupee value rupee rises paise close us dollar auto news et auto</td>\n",
       "      <td>rupee value rupee rises paise close us dollar auto news et auto etautonewsnews passenger vehicle commercial vehicle two wheelers automotive components industry tyres aftermarket policy auto technology people movement oil lubes new launches raw material financial results auto finance featuresfeatures trends autopreneur etauto tv industryspeakindustryspeak interviews autologue etauto insights dealersdata analyticsdata analytics etautolytics reports etautotvbrand solutionsbrand solutions etauto...</td>\n",
       "    </tr>\n",
       "  </tbody>\n",
       "</table>\n",
       "</div>"
      ],
      "text/plain": [
       "     highest_sim_4  highest_sim_ind_4  \\\n",
       "186       0.041667                396   \n",
       "237       0.047619                396   \n",
       "185       0.050000                396   \n",
       "386       0.050000                396   \n",
       "492       0.050000                396   \n",
       "660       0.050000                396   \n",
       "961       0.052632                396   \n",
       "266       0.055556                396   \n",
       "396       0.058824                452   \n",
       "452       0.058824                396   \n",
       "\n",
       "                                                                                                                                             title_clean  \\\n",
       "186  pm gramin digital saksharta abhiyaan renault india partners csc egovernance services support pm gramin digital saksharta abhiyaan auto news et auto   \n",
       "237                                                     hero motocorp price hike hero motocorp hike motorcycle scooter prices inr july auto news et auto   \n",
       "185                                                       renault exports renaults made india products cross one lakh export milestone auto news et auto   \n",
       "386                                                biofuel us biofuel industry defends record biden administration mulls policy reform auto news et auto   \n",
       "492                                             global energy transition global energy transition cause shortterm economic pain report auto news et auto   \n",
       "660                                                                  india fuel demand india expects fuel demand grow next fiscal year auto news et auto   \n",
       "961                                                                    lg energy solution gm sets bln michigan electric vehicle plants auto news et auto   \n",
       "266                                                              msme promoters aima introduces month management course msme promoters auto news et auto   \n",
       "396                                                                                     ev policy state governments push ahead ev road auto news et auto   \n",
       "452                                                                                      rupee value rupee rises paise close us dollar auto news et auto   \n",
       "\n",
       "                                                                                                                                                                                                                                                                                                                                                                                                                                                                                                              text_clean  \n",
       "186  pm gramin digital saksharta abhiyaan renault india partners csc egovernance services support pm gramin digital saksharta abhiyaan auto news et auto updated terms conditions privacy policy click continue accept continue et autoaccept updated privacy cookie policydear user et auto privacy cookie policy updated align new data regulations european union please review accept changes continue using websiteyou see privacy policy cookie policy use cookies ensure best experience websiteif choose igno...  \n",
       "237  hero motocorp price hike hero motocorp hike motorcycle scooter prices inr july auto news et auto updated terms conditions privacy policy click continue accept continue et autoaccept updated privacy cookie policydear user et auto privacy cookie policy updated align new data regulations european union please review accept changes continue using websiteyou see privacy policy cookie policy use cookies ensure best experience websiteif choose ignore message well assume happy receive cookies et aut...  \n",
       "185  renault exports renaults made india products cross one lakh export milestone auto news et auto updated terms conditions privacy policy click continue accept continue et autoaccept updated privacy cookie policydear user et auto privacy cookie policy updated align new data regulations european union please review accept changes continue using websiteyou see privacy policy cookie policy use cookies ensure best experience websiteif choose ignore message well assume happy receive cookies et autoa...  \n",
       "386  biofuel us biofuel industry defends record biden administration mulls policy reform auto news et auto updated terms conditions privacy policy click continue accept continue et autoaccept updated privacy cookie policydear user et auto privacy cookie policy updated align new data regulations european union please review accept changes continue using websiteyou see privacy policy cookie policy use cookies ensure best experience websiteif choose ignore message well assume happy receive cookies e...  \n",
       "492  global energy transition global energy transition cause shortterm economic pain report auto news et auto etautonewsnews passenger vehicle commercial vehicle two wheelers automotive components industry tyres aftermarket policy auto technology people movement oil lubes new launches raw material financial results auto finance featuresfeatures trends autopreneur etauto tv industryspeakindustryspeak interviews autologue etauto insights dealersdata analyticsdata analytics etautolytics reports etau...  \n",
       "660  india fuel demand india expects fuel demand grow next fiscal year auto news et auto updated terms conditions privacy policy click continue accept continue et autoaccept updated privacy cookie policydear user et auto privacy cookie policy updated align new data regulations european union please review accept changes continue using websiteyou see privacy policy cookie policy use cookies ensure best experience websiteif choose ignore message well assume happy receive cookies et autoanalyticsnec...  \n",
       "961  lg energy solution gm sets bln michigan electric vehicle plants auto news et auto etautonewsnews passenger vehicle commercial vehicle two wheelers automotive components industry tyres aftermarket policy auto technology people movement oil lubes new launches raw material financial results auto finance featuresfeatures trends autopreneur etauto tv industryspeakindustryspeak interviews autologue etauto insights dealersdata analyticsdata analytics etautolytics reports etautotvbrand solutionsbran...  \n",
       "266  msme promoters aima introduces month management course msme promoters auto news et auto updated terms conditions privacy policy click continue accept continue et autoaccept updated privacy cookie policydear user et auto privacy cookie policy updated align new data regulations european union please review accept changes continue using websiteyou see privacy policy cookie policy use cookies ensure best experience websiteif choose ignore message well assume happy receive cookies et autoanalytic...  \n",
       "396  ev policy state governments push ahead ev road auto news et auto updated terms conditions privacy policy click continue accept continue et autoaccept updated privacy cookie policydear user et auto privacy cookie policy updated align new data regulations european union please review accept changes continue using websiteyou see privacy policy cookie policy use cookies ensure best experience websiteif choose ignore message well assume happy receive cookies et autoanalyticsnecessarynewsletter na...  \n",
       "452  rupee value rupee rises paise close us dollar auto news et auto etautonewsnews passenger vehicle commercial vehicle two wheelers automotive components industry tyres aftermarket policy auto technology people movement oil lubes new launches raw material financial results auto finance featuresfeatures trends autopreneur etauto tv industryspeakindustryspeak interviews autologue etauto insights dealersdata analyticsdata analytics etautolytics reports etautotvbrand solutionsbrand solutions etauto...  "
      ]
     },
     "execution_count": 216,
     "metadata": {},
     "output_type": "execute_result"
    }
   ],
   "source": [
    "non_zero_articles = news_df_c[news_df_c['highest_sim_4'] > 0]\n",
    "non_zero_articles[['highest_sim_4','highest_sim_ind_4', 'title_clean', 'text_clean']].nsmallest(10, 'highest_sim_4')"
   ]
  },
  {
   "cell_type": "markdown",
   "metadata": {},
   "source": [
    "### The most dissimilar news articles/titles do not show much relation and span various topics like india, scooter prices, and fuel"
   ]
  },
  {
   "cell_type": "markdown",
   "metadata": {},
   "source": [
    "## **Summary:** The n for tweets and articles were different. n for tweets was 3 and n for article titles was 4 but it could have been 3 as well. Even though I set them to different n values, they both were close and were smaller than 5 ngrams. This makes sense because tweets and titles in general do not have long text, so setting a 10+ ngram value could encompass the whole text itself in some instances."
   ]
  }
 ],
 "metadata": {
  "kernelspec": {
   "display_name": "Python 3.10.10 ('base')",
   "language": "python",
   "name": "python3"
  },
  "language_info": {
   "codemirror_mode": {
    "name": "ipython",
    "version": 3
   },
   "file_extension": ".py",
   "mimetype": "text/x-python",
   "name": "python",
   "nbconvert_exporter": "python",
   "pygments_lexer": "ipython3",
   "version": "3.10.10"
  },
  "vscode": {
   "interpreter": {
    "hash": "a9739a3ee864b5f74d703657e4ddbfdf7f7ccbe6642a458f796596a18bcc5b2e"
   }
  }
 },
 "nbformat": 4,
 "nbformat_minor": 4
}
