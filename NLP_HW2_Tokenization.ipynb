{
 "cells": [
  {
   "cell_type": "markdown",
   "id": "044ab990",
   "metadata": {},
   "source": [
    "# NLP Assignment #2 - Luke Schwenke\n",
    "\n",
    "**Note:** records counts will be different, depending on when you query the API"
   ]
  },
  {
   "cell_type": "code",
   "execution_count": 232,
   "id": "b22e7fe0-1aec-457c-b0cf-1cc9758712e0",
   "metadata": {},
   "outputs": [],
   "source": [
    "import pandas as pd\n",
    "import requests"
   ]
  },
  {
   "cell_type": "code",
   "execution_count": 233,
   "id": "bbce3715-7a9f-4cb2-8842-4db140438ec5",
   "metadata": {},
   "outputs": [
    {
     "name": "stdout",
     "output_type": "stream",
     "text": [
      "Total number of records available: 266,229\n",
      "CPU times: user 11.2 ms, sys: 5.28 ms, total: 16.4 ms\n",
      "Wall time: 210 ms\n"
     ]
    }
   ],
   "source": [
    "%%time\n",
    "\n",
    "# Define the API endpoint and parameters\n",
    "url = \"https://data.cityofchicago.org/resource/cwig-ma7x.json\"\n",
    "\n",
    "# Fetch the total count of records\n",
    "def get_total_count(url):\n",
    "    params = {\n",
    "        \"$select\": \"count(*)\"\n",
    "    }\n",
    "    response = requests.get(url, params=params)\n",
    "    data = response.json()\n",
    "    return int(data[0]['count'])\n",
    "\n",
    "total_count = get_total_count(url)\n",
    "print(f\"Total number of records available: {total_count:,.0f}\")"
   ]
  },
  {
   "cell_type": "code",
   "execution_count": 234,
   "id": "b518b821-f1a5-41c4-bc72-c9cdf688a006",
   "metadata": {},
   "outputs": [
    {
     "name": "stdout",
     "output_type": "stream",
     "text": [
      "Number of records retrieved: 266,229\n",
      "CPU times: user 5.93 s, sys: 1.91 s, total: 7.83 s\n",
      "Wall time: 28.9 s\n"
     ]
    }
   ],
   "source": [
    "%%time\n",
    "\n",
    "# Fetch data and load it into a pandas DataFrame\n",
    "def fetch_data(url, params):\n",
    "    response = requests.get(url, params=params)\n",
    "    data = response.json()\n",
    "    return pd.DataFrame(data)\n",
    "\n",
    "# Set the limit parameter equal to the number of available records\n",
    "params = {\n",
    "    \"$limit\": total_count\n",
    "}\n",
    "\n",
    "# Fetch the data and load it into a DataFrame\n",
    "df = fetch_data(url, params)\n",
    "\n",
    "print(f'Number of records retrieved: {df.shape[0]:,.0f}')"
   ]
  },
  {
   "cell_type": "code",
   "execution_count": 235,
   "id": "e43257ac-9a4c-40e8-9839-4d8fae83c486",
   "metadata": {},
   "outputs": [
    {
     "data": {
      "text/html": [
       "<div>\n",
       "<style scoped>\n",
       "    .dataframe tbody tr th:only-of-type {\n",
       "        vertical-align: middle;\n",
       "    }\n",
       "\n",
       "    .dataframe tbody tr th {\n",
       "        vertical-align: top;\n",
       "    }\n",
       "\n",
       "    .dataframe thead th {\n",
       "        text-align: right;\n",
       "    }\n",
       "</style>\n",
       "<table border=\"1\" class=\"dataframe\">\n",
       "  <thead>\n",
       "    <tr style=\"text-align: right;\">\n",
       "      <th></th>\n",
       "      <th>inspection_id</th>\n",
       "      <th>dba_name</th>\n",
       "      <th>aka_name</th>\n",
       "      <th>license_</th>\n",
       "      <th>facility_type</th>\n",
       "      <th>risk</th>\n",
       "      <th>address</th>\n",
       "      <th>city</th>\n",
       "      <th>state</th>\n",
       "      <th>zip</th>\n",
       "      <th>...</th>\n",
       "      <th>results</th>\n",
       "      <th>violations</th>\n",
       "      <th>latitude</th>\n",
       "      <th>longitude</th>\n",
       "      <th>location</th>\n",
       "      <th>:@computed_region_awaf_s7ux</th>\n",
       "      <th>:@computed_region_6mkv_f3dw</th>\n",
       "      <th>:@computed_region_vrxf_vc4k</th>\n",
       "      <th>:@computed_region_bdys_3d7i</th>\n",
       "      <th>:@computed_region_43wa_7qmu</th>\n",
       "    </tr>\n",
       "  </thead>\n",
       "  <tbody>\n",
       "    <tr>\n",
       "      <th>0</th>\n",
       "      <td>2588013</td>\n",
       "      <td>SOLOWAY COFFEE</td>\n",
       "      <td>SOLOWAY COFFEE</td>\n",
       "      <td>2938639</td>\n",
       "      <td>Restaurant</td>\n",
       "      <td>Risk 1 (High)</td>\n",
       "      <td>2275 N LINCOLN AVE</td>\n",
       "      <td>CHICAGO</td>\n",
       "      <td>IL</td>\n",
       "      <td>60614</td>\n",
       "      <td>...</td>\n",
       "      <td>Pass w/ Conditions</td>\n",
       "      <td>3. MANAGEMENT, FOOD EMPLOYEE AND CONDITIONAL E...</td>\n",
       "      <td>41.92361620972698</td>\n",
       "      <td>-87.64599112233753</td>\n",
       "      <td>{'type': 'Point', 'coordinates': [-87.64599112...</td>\n",
       "      <td>51</td>\n",
       "      <td>21190</td>\n",
       "      <td>68</td>\n",
       "      <td>798</td>\n",
       "      <td>34</td>\n",
       "    </tr>\n",
       "    <tr>\n",
       "      <th>1</th>\n",
       "      <td>2588012</td>\n",
       "      <td>L &amp; L ACADEMY AND PRESCHOOL</td>\n",
       "      <td>L &amp; L ACADEMY AND PRESCHOOL</td>\n",
       "      <td>2443069</td>\n",
       "      <td>Children's Services Facility</td>\n",
       "      <td>Risk 1 (High)</td>\n",
       "      <td>1154-1158 W BELMONT AVE</td>\n",
       "      <td>CHICAGO</td>\n",
       "      <td>IL</td>\n",
       "      <td>60657</td>\n",
       "      <td>...</td>\n",
       "      <td>Pass</td>\n",
       "      <td>NaN</td>\n",
       "      <td>41.93995156136211</td>\n",
       "      <td>-87.65874263208119</td>\n",
       "      <td>{'type': 'Point', 'coordinates': [-87.65874263...</td>\n",
       "      <td>38</td>\n",
       "      <td>4449</td>\n",
       "      <td>57</td>\n",
       "      <td>710</td>\n",
       "      <td>25</td>\n",
       "    </tr>\n",
       "    <tr>\n",
       "      <th>2</th>\n",
       "      <td>2588015</td>\n",
       "      <td>DON MEMO MEXICAN RESTAURANT</td>\n",
       "      <td>DON MEMO MEXICAN RESTAURANT</td>\n",
       "      <td>2863378</td>\n",
       "      <td>Restaurant</td>\n",
       "      <td>Risk 1 (High)</td>\n",
       "      <td>10536 S TORRENCE AVE</td>\n",
       "      <td>CHICAGO</td>\n",
       "      <td>IL</td>\n",
       "      <td>60617</td>\n",
       "      <td>...</td>\n",
       "      <td>Pass w/ Conditions</td>\n",
       "      <td>49. NON-FOOD/FOOD CONTACT SURFACES CLEAN - Com...</td>\n",
       "      <td>41.70348287190127</td>\n",
       "      <td>-87.55975998992695</td>\n",
       "      <td>{'type': 'Point', 'coordinates': [-87.55975998...</td>\n",
       "      <td>47</td>\n",
       "      <td>21202</td>\n",
       "      <td>48</td>\n",
       "      <td>174</td>\n",
       "      <td>47</td>\n",
       "    </tr>\n",
       "  </tbody>\n",
       "</table>\n",
       "<p>3 rows × 22 columns</p>\n",
       "</div>"
      ],
      "text/plain": [
       "  inspection_id                     dba_name                     aka_name  \\\n",
       "0       2588013               SOLOWAY COFFEE               SOLOWAY COFFEE   \n",
       "1       2588012  L & L ACADEMY AND PRESCHOOL  L & L ACADEMY AND PRESCHOOL   \n",
       "2       2588015  DON MEMO MEXICAN RESTAURANT  DON MEMO MEXICAN RESTAURANT   \n",
       "\n",
       "  license_                 facility_type           risk  \\\n",
       "0  2938639                    Restaurant  Risk 1 (High)   \n",
       "1  2443069  Children's Services Facility  Risk 1 (High)   \n",
       "2  2863378                    Restaurant  Risk 1 (High)   \n",
       "\n",
       "                    address     city state    zip  ...             results  \\\n",
       "0       2275 N LINCOLN AVE   CHICAGO    IL  60614  ...  Pass w/ Conditions   \n",
       "1  1154-1158 W BELMONT AVE   CHICAGO    IL  60657  ...                Pass   \n",
       "2     10536 S TORRENCE AVE   CHICAGO    IL  60617  ...  Pass w/ Conditions   \n",
       "\n",
       "                                          violations           latitude  \\\n",
       "0  3. MANAGEMENT, FOOD EMPLOYEE AND CONDITIONAL E...  41.92361620972698   \n",
       "1                                                NaN  41.93995156136211   \n",
       "2  49. NON-FOOD/FOOD CONTACT SURFACES CLEAN - Com...  41.70348287190127   \n",
       "\n",
       "            longitude                                           location  \\\n",
       "0  -87.64599112233753  {'type': 'Point', 'coordinates': [-87.64599112...   \n",
       "1  -87.65874263208119  {'type': 'Point', 'coordinates': [-87.65874263...   \n",
       "2  -87.55975998992695  {'type': 'Point', 'coordinates': [-87.55975998...   \n",
       "\n",
       "  :@computed_region_awaf_s7ux :@computed_region_6mkv_f3dw  \\\n",
       "0                          51                       21190   \n",
       "1                          38                        4449   \n",
       "2                          47                       21202   \n",
       "\n",
       "  :@computed_region_vrxf_vc4k :@computed_region_bdys_3d7i  \\\n",
       "0                          68                         798   \n",
       "1                          57                         710   \n",
       "2                          48                         174   \n",
       "\n",
       "  :@computed_region_43wa_7qmu  \n",
       "0                          34  \n",
       "1                          25  \n",
       "2                          47  \n",
       "\n",
       "[3 rows x 22 columns]"
      ]
     },
     "execution_count": 235,
     "metadata": {},
     "output_type": "execute_result"
    }
   ],
   "source": [
    "df.head(3)"
   ]
  },
  {
   "cell_type": "markdown",
   "id": "07632b3c",
   "metadata": {},
   "source": [
    "## 1. Filter the data for failed inspections and only keep records where Violations description is not blank. "
   ]
  },
  {
   "cell_type": "code",
   "execution_count": 236,
   "id": "3b875aed",
   "metadata": {},
   "outputs": [
    {
     "name": "stdout",
     "output_type": "stream",
     "text": [
      "There are now 51960 rows in the dataset after we subset to only Fail results. There were 266229 rows.\n"
     ]
    }
   ],
   "source": [
    "# Filter the results column to where the results are \"Fails\"\n",
    "df_f = df[df.results=='Fail']\n",
    "print(\"There are now\", df_f.shape[0], \"rows in the dataset after we subset to only Fail results. There were\", df.shape[0], \"rows.\")"
   ]
  },
  {
   "cell_type": "code",
   "execution_count": 237,
   "id": "8f0357ff",
   "metadata": {},
   "outputs": [
    {
     "name": "stdout",
     "output_type": "stream",
     "text": [
      "There are now 48530 rows in the dataset after removing NaN's from violations\n"
     ]
    }
   ],
   "source": [
    "df_c = df_f.dropna(subset=['violations'])\n",
    "df_c = df_c.reset_index(drop=True)\n",
    "print(\"There are now\", df_c.shape[0], \"rows in the dataset after removing NaN's from violations\")"
   ]
  },
  {
   "cell_type": "markdown",
   "id": "6f15e088",
   "metadata": {},
   "source": [
    "## 2. Using regex, separate the violation description and comments into separate data frame columns."
   ]
  },
  {
   "cell_type": "code",
   "execution_count": 238,
   "id": "d0022b0a",
   "metadata": {},
   "outputs": [],
   "source": [
    "# VIOLATION DESCRIPTION\n",
    "\n",
    "# First remove the numbers at the beginning\n",
    "df_c['violation_description'] = df_c['violations'].str.replace(r'\\d+|\\.', '', regex=True)\n",
    "# Second remove the commends and initial whitespace\n",
    "df_c['violation_description'] = df_c['violation_description'].str.replace(r'- Comments:.*?(\\||$)', '', regex=True)\n",
    "df_c['violation_description'] = df_c['violation_description'].str.lstrip()"
   ]
  },
  {
   "cell_type": "code",
   "execution_count": 239,
   "id": "63eebfea",
   "metadata": {},
   "outputs": [],
   "source": [
    "# COMMENTS\n",
    "\n",
    "df_c['comments'] = df_c['violations'].str.extract(r'Comments: (.*?)(?:\\||$)') #(r'- Comments: (.*?) \\|')"
   ]
  },
  {
   "cell_type": "code",
   "execution_count": 240,
   "id": "5470d6e4",
   "metadata": {},
   "outputs": [
    {
     "name": "stderr",
     "output_type": "stream",
     "text": [
      "/var/folders/rx/2jqwhb8d31960xlz0g9vlmdh0000gn/T/ipykernel_47419/4187734932.py:6: FutureWarning: The default value of regex will change from True to False in a future version.\n",
      "  df_c['comments'] = df_c['comments'].astype(str).str.strip().str.replace('\\s+', ' ')\n"
     ]
    }
   ],
   "source": [
    "import re\n",
    "def strip_multiple_spaces(string):\n",
    "    return re.sub(r'\\s+', ' ', string).strip()\n",
    "# Strip columns to single spaces\n",
    "df_c['violation_description'] = df_c['violation_description'].apply(lambda x: strip_multiple_spaces(x))\n",
    "df_c['comments'] = df_c['comments'].astype(str).str.strip().str.replace('\\s+', ' ')"
   ]
  },
  {
   "cell_type": "markdown",
   "id": "7ed5f894",
   "metadata": {},
   "source": [
    "## 3. Tokenize violation description and comment columns"
   ]
  },
  {
   "cell_type": "code",
   "execution_count": 241,
   "id": "dc427ca7",
   "metadata": {},
   "outputs": [],
   "source": [
    "import nltk\n",
    "from nltk import word_tokenize\n",
    "\n",
    "vds = df_c.violation_description.apply(lambda x: word_tokenize(x))\n",
    "com = df_c.comments.apply(lambda x: word_tokenize(x))\n"
   ]
  },
  {
   "cell_type": "markdown",
   "id": "99daa12e",
   "metadata": {},
   "source": [
    "## 4. Find top-10 tokens of each column"
   ]
  },
  {
   "cell_type": "code",
   "execution_count": 242,
   "id": "7d954ad7",
   "metadata": {},
   "outputs": [],
   "source": [
    "from collections import Counter\n",
    "\n",
    "vds_tokens = [token for tokens in vds for token in tokens]\n",
    "com_tokens = [token for tokens in com for token in tokens]"
   ]
  },
  {
   "cell_type": "code",
   "execution_count": 243,
   "id": "c0a9ff01",
   "metadata": {},
   "outputs": [
    {
     "name": "stdout",
     "output_type": "stream",
     "text": [
      "Top 10 Words BEFORE Cleaning - Violation Descriptions\n"
     ]
    },
    {
     "data": {
      "text/html": [
       "<div>\n",
       "<style scoped>\n",
       "    .dataframe tbody tr th:only-of-type {\n",
       "        vertical-align: middle;\n",
       "    }\n",
       "\n",
       "    .dataframe tbody tr th {\n",
       "        vertical-align: top;\n",
       "    }\n",
       "\n",
       "    .dataframe thead th {\n",
       "        text-align: right;\n",
       "    }\n",
       "</style>\n",
       "<table border=\"1\" class=\"dataframe\">\n",
       "  <thead>\n",
       "    <tr style=\"text-align: right;\">\n",
       "      <th></th>\n",
       "      <th>Frequency</th>\n",
       "    </tr>\n",
       "    <tr>\n",
       "      <th>Word</th>\n",
       "      <th></th>\n",
       "    </tr>\n",
       "  </thead>\n",
       "  <tbody>\n",
       "    <tr>\n",
       "      <th>,</th>\n",
       "      <td>372604</td>\n",
       "    </tr>\n",
       "    <tr>\n",
       "      <th>AND</th>\n",
       "      <td>172943</td>\n",
       "    </tr>\n",
       "    <tr>\n",
       "      <th>:</th>\n",
       "      <td>128985</td>\n",
       "    </tr>\n",
       "    <tr>\n",
       "      <th>FOOD</th>\n",
       "      <td>89359</td>\n",
       "    </tr>\n",
       "    <tr>\n",
       "      <th>MAINTAINED</th>\n",
       "      <td>89321</td>\n",
       "    </tr>\n",
       "    <tr>\n",
       "      <th>&amp;</th>\n",
       "      <td>80609</td>\n",
       "    </tr>\n",
       "    <tr>\n",
       "      <th>PROPERLY</th>\n",
       "      <td>74608</td>\n",
       "    </tr>\n",
       "    <tr>\n",
       "      <th>CLEAN</th>\n",
       "      <td>71479</td>\n",
       "    </tr>\n",
       "    <tr>\n",
       "      <th>INSTALLED</th>\n",
       "      <td>69322</td>\n",
       "    </tr>\n",
       "    <tr>\n",
       "      <th>CONSTRUCTED</th>\n",
       "      <td>68318</td>\n",
       "    </tr>\n",
       "  </tbody>\n",
       "</table>\n",
       "</div>"
      ],
      "text/plain": [
       "             Frequency\n",
       "Word                  \n",
       ",               372604\n",
       "AND             172943\n",
       ":               128985\n",
       "FOOD             89359\n",
       "MAINTAINED       89321\n",
       "&                80609\n",
       "PROPERLY         74608\n",
       "CLEAN            71479\n",
       "INSTALLED        69322\n",
       "CONSTRUCTED      68318"
      ]
     },
     "execution_count": 243,
     "metadata": {},
     "output_type": "execute_result"
    }
   ],
   "source": [
    "word_dist = nltk.FreqDist(vds_tokens)\n",
    "df_word_dist = pd.DataFrame(word_dist.most_common(10),\n",
    "                    columns=['Word', 'Frequency']).set_index('Word')\n",
    "\n",
    "print(\"Top 10 Words BEFORE Cleaning - Violation Descriptions\")\n",
    "df_word_dist.head(10)"
   ]
  },
  {
   "cell_type": "code",
   "execution_count": 244,
   "id": "f0ab88a7",
   "metadata": {},
   "outputs": [
    {
     "name": "stdout",
     "output_type": "stream",
     "text": [
      "Top 10 Words BEFORE Cleaning - Comments\n"
     ]
    },
    {
     "data": {
      "text/html": [
       "<div>\n",
       "<style scoped>\n",
       "    .dataframe tbody tr th:only-of-type {\n",
       "        vertical-align: middle;\n",
       "    }\n",
       "\n",
       "    .dataframe tbody tr th {\n",
       "        vertical-align: top;\n",
       "    }\n",
       "\n",
       "    .dataframe thead th {\n",
       "        text-align: right;\n",
       "    }\n",
       "</style>\n",
       "<table border=\"1\" class=\"dataframe\">\n",
       "  <thead>\n",
       "    <tr style=\"text-align: right;\">\n",
       "      <th></th>\n",
       "      <th>Frequency</th>\n",
       "    </tr>\n",
       "    <tr>\n",
       "      <th>Word</th>\n",
       "      <th></th>\n",
       "    </tr>\n",
       "  </thead>\n",
       "  <tbody>\n",
       "    <tr>\n",
       "      <th>.</th>\n",
       "      <td>151092</td>\n",
       "    </tr>\n",
       "    <tr>\n",
       "      <th>,</th>\n",
       "      <td>74098</td>\n",
       "    </tr>\n",
       "    <tr>\n",
       "      <th>AND</th>\n",
       "      <td>64911</td>\n",
       "    </tr>\n",
       "    <tr>\n",
       "      <th>THE</th>\n",
       "      <td>52085</td>\n",
       "    </tr>\n",
       "    <tr>\n",
       "      <th>TO</th>\n",
       "      <td>48620</td>\n",
       "    </tr>\n",
       "    <tr>\n",
       "      <th>IN</th>\n",
       "      <td>39582</td>\n",
       "    </tr>\n",
       "    <tr>\n",
       "      <th>OF</th>\n",
       "      <td>38239</td>\n",
       "    </tr>\n",
       "    <tr>\n",
       "      <th>ON</th>\n",
       "      <td>35980</td>\n",
       "    </tr>\n",
       "    <tr>\n",
       "      <th>AT</th>\n",
       "      <td>35322</td>\n",
       "    </tr>\n",
       "    <tr>\n",
       "      <th>INSTRUCTED</th>\n",
       "      <td>24516</td>\n",
       "    </tr>\n",
       "  </tbody>\n",
       "</table>\n",
       "</div>"
      ],
      "text/plain": [
       "            Frequency\n",
       "Word                 \n",
       ".              151092\n",
       ",               74098\n",
       "AND             64911\n",
       "THE             52085\n",
       "TO              48620\n",
       "IN              39582\n",
       "OF              38239\n",
       "ON              35980\n",
       "AT              35322\n",
       "INSTRUCTED      24516"
      ]
     },
     "execution_count": 244,
     "metadata": {},
     "output_type": "execute_result"
    }
   ],
   "source": [
    "word_dist = nltk.FreqDist(com_tokens)\n",
    "df_word_dist = pd.DataFrame(word_dist.most_common(10),\n",
    "                    columns=['Word', 'Frequency']).set_index('Word')\n",
    "\n",
    "print(\"Top 10 Words BEFORE Cleaning - Comments\")\n",
    "df_word_dist.head(10)"
   ]
  },
  {
   "cell_type": "markdown",
   "id": "df58a2f4",
   "metadata": {},
   "source": [
    "## 5. Clean each column: convert to lower case, remove stopwords, punctuation, numbers, etc"
   ]
  },
  {
   "cell_type": "code",
   "execution_count": 245,
   "id": "f98ee834",
   "metadata": {},
   "outputs": [],
   "source": [
    "stopwords = set(nltk.corpus.stopwords.words('english'))"
   ]
  },
  {
   "cell_type": "code",
   "execution_count": 246,
   "id": "3fd67a63",
   "metadata": {},
   "outputs": [],
   "source": [
    "def nlp_cleaner(column_to_clean):\n",
    "\n",
    "    # Remove single-character tokens (mostly punctuation)\n",
    "    words = [word for word in column_to_clean if len(word) > 1]\n",
    "\n",
    "    # Remove numbers\n",
    "    words = [word for word in words if not word.isnumeric()]\n",
    "\n",
    "    # Remove punctuation\n",
    "    words = [word for word in words if word.isalpha()]\n",
    "\n",
    "    # Lowercase all words (default_stopwords are lowercase too)\n",
    "    words = [word.lower() for word in words]\n",
    "\n",
    "    # Remove stopwords\n",
    "    words = [word for word in words if word not in stopwords]\n",
    "\n",
    "    return words"
   ]
  },
  {
   "cell_type": "code",
   "execution_count": 247,
   "id": "c1412b77",
   "metadata": {},
   "outputs": [],
   "source": [
    "vds_tokens_clean = nlp_cleaner(vds_tokens)\n",
    "com_tokens_clean = nlp_cleaner(com_tokens)"
   ]
  },
  {
   "cell_type": "markdown",
   "id": "00527d84",
   "metadata": {},
   "source": [
    "## 6. Find Top-10 Tokens Again (After Cleaning)"
   ]
  },
  {
   "cell_type": "code",
   "execution_count": 248,
   "id": "847005ae",
   "metadata": {},
   "outputs": [
    {
     "name": "stdout",
     "output_type": "stream",
     "text": [
      "Top 10 Words AFTER Cleaning - Violation Descriptions\n"
     ]
    },
    {
     "data": {
      "text/html": [
       "<div>\n",
       "<style scoped>\n",
       "    .dataframe tbody tr th:only-of-type {\n",
       "        vertical-align: middle;\n",
       "    }\n",
       "\n",
       "    .dataframe tbody tr th {\n",
       "        vertical-align: top;\n",
       "    }\n",
       "\n",
       "    .dataframe thead th {\n",
       "        text-align: right;\n",
       "    }\n",
       "</style>\n",
       "<table border=\"1\" class=\"dataframe\">\n",
       "  <thead>\n",
       "    <tr style=\"text-align: right;\">\n",
       "      <th></th>\n",
       "      <th>Frequency</th>\n",
       "    </tr>\n",
       "    <tr>\n",
       "      <th>Word</th>\n",
       "      <th></th>\n",
       "    </tr>\n",
       "  </thead>\n",
       "  <tbody>\n",
       "    <tr>\n",
       "      <th>food</th>\n",
       "      <td>89359</td>\n",
       "    </tr>\n",
       "    <tr>\n",
       "      <th>maintained</th>\n",
       "      <td>89321</td>\n",
       "    </tr>\n",
       "    <tr>\n",
       "      <th>properly</th>\n",
       "      <td>74608</td>\n",
       "    </tr>\n",
       "    <tr>\n",
       "      <th>clean</th>\n",
       "      <td>71479</td>\n",
       "    </tr>\n",
       "    <tr>\n",
       "      <th>installed</th>\n",
       "      <td>69322</td>\n",
       "    </tr>\n",
       "    <tr>\n",
       "      <th>constructed</th>\n",
       "      <td>68318</td>\n",
       "    </tr>\n",
       "    <tr>\n",
       "      <th>equipment</th>\n",
       "      <td>64932</td>\n",
       "    </tr>\n",
       "    <tr>\n",
       "      <th>surfaces</th>\n",
       "      <td>51522</td>\n",
       "    </tr>\n",
       "    <tr>\n",
       "      <th>cleaning</th>\n",
       "      <td>48295</td>\n",
       "    </tr>\n",
       "    <tr>\n",
       "      <th>contact</th>\n",
       "      <td>47987</td>\n",
       "    </tr>\n",
       "  </tbody>\n",
       "</table>\n",
       "</div>"
      ],
      "text/plain": [
       "             Frequency\n",
       "Word                  \n",
       "food             89359\n",
       "maintained       89321\n",
       "properly         74608\n",
       "clean            71479\n",
       "installed        69322\n",
       "constructed      68318\n",
       "equipment        64932\n",
       "surfaces         51522\n",
       "cleaning         48295\n",
       "contact          47987"
      ]
     },
     "execution_count": 248,
     "metadata": {},
     "output_type": "execute_result"
    }
   ],
   "source": [
    "word_dist = nltk.FreqDist(vds_tokens_clean)\n",
    "\n",
    "df_word_dist = pd.DataFrame(word_dist.most_common(10),\n",
    "                    columns=['Word', 'Frequency']).set_index('Word')\n",
    "\n",
    "print(\"Top 10 Words AFTER Cleaning - Violation Descriptions\")\n",
    "df_word_dist.head(10)"
   ]
  },
  {
   "cell_type": "code",
   "execution_count": 249,
   "id": "f4372186",
   "metadata": {},
   "outputs": [
    {
     "name": "stdout",
     "output_type": "stream",
     "text": [
      "Top 10 Words AFTER Cleaning - Comments\n"
     ]
    },
    {
     "data": {
      "text/html": [
       "<div>\n",
       "<style scoped>\n",
       "    .dataframe tbody tr th:only-of-type {\n",
       "        vertical-align: middle;\n",
       "    }\n",
       "\n",
       "    .dataframe tbody tr th {\n",
       "        vertical-align: top;\n",
       "    }\n",
       "\n",
       "    .dataframe thead th {\n",
       "        text-align: right;\n",
       "    }\n",
       "</style>\n",
       "<table border=\"1\" class=\"dataframe\">\n",
       "  <thead>\n",
       "    <tr style=\"text-align: right;\">\n",
       "      <th></th>\n",
       "      <th>Frequency</th>\n",
       "    </tr>\n",
       "    <tr>\n",
       "      <th>Word</th>\n",
       "      <th></th>\n",
       "    </tr>\n",
       "  </thead>\n",
       "  <tbody>\n",
       "    <tr>\n",
       "      <th>instructed</th>\n",
       "      <td>25851</td>\n",
       "    </tr>\n",
       "    <tr>\n",
       "      <th>observed</th>\n",
       "      <td>25283</td>\n",
       "    </tr>\n",
       "    <tr>\n",
       "      <th>violation</th>\n",
       "      <td>25124</td>\n",
       "    </tr>\n",
       "    <tr>\n",
       "      <th>food</th>\n",
       "      <td>24674</td>\n",
       "    </tr>\n",
       "    <tr>\n",
       "      <th>must</th>\n",
       "      <td>21070</td>\n",
       "    </tr>\n",
       "    <tr>\n",
       "      <th>issued</th>\n",
       "      <td>18562</td>\n",
       "    </tr>\n",
       "    <tr>\n",
       "      <th>citation</th>\n",
       "      <td>18279</td>\n",
       "    </tr>\n",
       "    <tr>\n",
       "      <th>area</th>\n",
       "      <td>17270</td>\n",
       "    </tr>\n",
       "    <tr>\n",
       "      <th>sink</th>\n",
       "      <td>15026</td>\n",
       "    </tr>\n",
       "    <tr>\n",
       "      <th>priority</th>\n",
       "      <td>13973</td>\n",
       "    </tr>\n",
       "  </tbody>\n",
       "</table>\n",
       "</div>"
      ],
      "text/plain": [
       "            Frequency\n",
       "Word                 \n",
       "instructed      25851\n",
       "observed        25283\n",
       "violation       25124\n",
       "food            24674\n",
       "must            21070\n",
       "issued          18562\n",
       "citation        18279\n",
       "area            17270\n",
       "sink            15026\n",
       "priority        13973"
      ]
     },
     "execution_count": 249,
     "metadata": {},
     "output_type": "execute_result"
    }
   ],
   "source": [
    "word_dist = nltk.FreqDist(com_tokens_clean)\n",
    "\n",
    "df_word_dist = pd.DataFrame(word_dist.most_common(10),\n",
    "                    columns=['Word', 'Frequency']).set_index('Word')\n",
    "\n",
    "print(\"Top 10 Words AFTER Cleaning - Comments\")\n",
    "df_word_dist.head(10)"
   ]
  },
  {
   "cell_type": "markdown",
   "id": "23a4c936",
   "metadata": {},
   "source": [
    "## 7. Find top-10 tokens after applying Porter stemming to the columns obtained in step 5"
   ]
  },
  {
   "cell_type": "code",
   "execution_count": 250,
   "id": "c4d41f34",
   "metadata": {},
   "outputs": [],
   "source": [
    "porter = nltk.PorterStemmer()"
   ]
  },
  {
   "cell_type": "code",
   "execution_count": 251,
   "id": "2ee7388c",
   "metadata": {},
   "outputs": [],
   "source": [
    "# Porter stem the cleaned Comments tokens\n",
    "com_tokens_clean_porter_stemmed = [porter.stem(word) for word in com_tokens_clean]"
   ]
  },
  {
   "cell_type": "code",
   "execution_count": 252,
   "id": "85755720",
   "metadata": {},
   "outputs": [],
   "source": [
    "# Porter stem the cleaned Violation Description tokens\n",
    "vds_tokens_clean_porter_stemmed = [porter.stem(word) for word in vds_tokens_clean]"
   ]
  },
  {
   "cell_type": "code",
   "execution_count": 253,
   "id": "b56f11a4",
   "metadata": {},
   "outputs": [],
   "source": [
    "def get_top_n(tokens):\n",
    "    word_dist = nltk.FreqDist(tokens)\n",
    "\n",
    "    df_word_dist = pd.DataFrame(word_dist.most_common(10),\n",
    "                        columns=['Word', 'Frequency']).set_index('Word')\n",
    "\n",
    "    print(df_word_dist.head(10))"
   ]
  },
  {
   "cell_type": "code",
   "execution_count": 254,
   "id": "76b1cc80",
   "metadata": {},
   "outputs": [
    {
     "name": "stdout",
     "output_type": "stream",
     "text": [
      "Violence Descriptions - Top 10 Words AFTER Cleaning AND Porter Stemming\n",
      "           Frequency\n",
      "Word                \n",
      "clean         147035\n",
      "food           94615\n",
      "maintain       92870\n",
      "properli       74608\n",
      "instal         69322\n",
      "construct      68318\n",
      "equip          64932\n",
      "surfac         51522\n",
      "contact        47987\n",
      "use            42860\n"
     ]
    }
   ],
   "source": [
    "print(\"Violence Descriptions - Top 10 Words AFTER Cleaning AND Porter Stemming\")\n",
    "get_top_n(vds_tokens_clean_porter_stemmed)"
   ]
  },
  {
   "cell_type": "code",
   "execution_count": 255,
   "id": "0089749b",
   "metadata": {},
   "outputs": [
    {
     "name": "stdout",
     "output_type": "stream",
     "text": [
      "Comments - Top 10 Words AFTER Cleaning AND Porter Stemming\n",
      "          Frequency\n",
      "Word               \n",
      "food          31867\n",
      "violat        27166\n",
      "area          26221\n",
      "instruct      25901\n",
      "observ        25434\n",
      "must          21071\n",
      "issu          18742\n",
      "sink          18584\n",
      "citat         18351\n",
      "provid        16590\n"
     ]
    }
   ],
   "source": [
    "print(\"Comments - Top 10 Words AFTER Cleaning AND Porter Stemming\")\n",
    "get_top_n(com_tokens_clean_porter_stemmed)"
   ]
  },
  {
   "cell_type": "markdown",
   "id": "1ab63b38",
   "metadata": {},
   "source": [
    "## 8. Find top-10 tokens after applying Lancaster stemming to the columns obtained in step 5"
   ]
  },
  {
   "cell_type": "code",
   "execution_count": 256,
   "id": "6927ed3d",
   "metadata": {},
   "outputs": [],
   "source": [
    "lancaster = nltk.LancasterStemmer()"
   ]
  },
  {
   "cell_type": "code",
   "execution_count": 257,
   "id": "c9d6ac9d",
   "metadata": {},
   "outputs": [],
   "source": [
    "# Lancaster stem the cleaned Comments tokens\n",
    "com_tokens_clean_lancaster_stemmed = [lancaster.stem(word) for word in com_tokens_clean]"
   ]
  },
  {
   "cell_type": "code",
   "execution_count": 258,
   "id": "5a499dc4",
   "metadata": {},
   "outputs": [],
   "source": [
    "# Lancaster stem the cleaned Violation Description tokens\n",
    "vds_tokens_clean_lancaster_stemmed = [lancaster.stem(word) for word in vds_tokens_clean]"
   ]
  },
  {
   "cell_type": "code",
   "execution_count": 259,
   "id": "6b316f65",
   "metadata": {},
   "outputs": [
    {
     "name": "stdout",
     "output_type": "stream",
     "text": [
      "Violence Descriptions - Top 10 Words AFTER Cleaning AND Lancaster Stemming\n",
      "           Frequency\n",
      "Word                \n",
      "cle           156544\n",
      "food           94615\n",
      "maintain       92870\n",
      "prop           92799\n",
      "instal         69322\n",
      "construct      68318\n",
      "equip          64932\n",
      "surfac         51522\n",
      "contact        47987\n",
      "us             42860\n"
     ]
    }
   ],
   "source": [
    "print(\"Violence Descriptions - Top 10 Words AFTER Cleaning AND Lancaster Stemming\")\n",
    "get_top_n(vds_tokens_clean_lancaster_stemmed)"
   ]
  },
  {
   "cell_type": "code",
   "execution_count": 260,
   "id": "b3e9808f",
   "metadata": {},
   "outputs": [
    {
     "name": "stdout",
     "output_type": "stream",
     "text": [
      "Comments - Top 10 Words AFTER Cleaning AND Lancaster Stemming\n",
      "          Frequency\n",
      "Word               \n",
      "food          31867\n",
      "viol          27188\n",
      "instruct      25903\n",
      "observ        25435\n",
      "found         21573\n",
      "must          21071\n",
      "issu          18742\n",
      "sink          18584\n",
      "cit           18362\n",
      "are           17270\n"
     ]
    }
   ],
   "source": [
    "print(\"Comments - Top 10 Words AFTER Cleaning AND Lancaster Stemming\")\n",
    "get_top_n(com_tokens_clean_lancaster_stemmed)"
   ]
  },
  {
   "cell_type": "markdown",
   "id": "b7553d76",
   "metadata": {},
   "source": [
    "## 9. Find top-10 tokens after applying lemmatization to the columns obtained in step 5"
   ]
  },
  {
   "cell_type": "code",
   "execution_count": 261,
   "id": "130d2086",
   "metadata": {},
   "outputs": [],
   "source": [
    "wnl = nltk.WordNetLemmatizer()"
   ]
  },
  {
   "cell_type": "code",
   "execution_count": 262,
   "id": "f4fcc912",
   "metadata": {},
   "outputs": [],
   "source": [
    "# Lemmatize the cleaned Comments tokens\n",
    "com_tokens_clean_lemmatized = [wnl.lemmatize(word) for word in com_tokens_clean]"
   ]
  },
  {
   "cell_type": "code",
   "execution_count": 263,
   "id": "5c14d881",
   "metadata": {},
   "outputs": [],
   "source": [
    "# Lemmatize the cleaned Violence Description tokens\n",
    "vds_tokens_clean_lemmatized = [wnl.lemmatize(word) for word in vds_tokens_clean]"
   ]
  },
  {
   "cell_type": "code",
   "execution_count": 264,
   "id": "e83d8846",
   "metadata": {},
   "outputs": [
    {
     "name": "stdout",
     "output_type": "stream",
     "text": [
      "Violence Descriptions - Top 10 Words AFTER Cleaning AND Lemmatizing\n",
      "             Frequency\n",
      "Word                  \n",
      "food             94615\n",
      "maintained       89321\n",
      "properly         74608\n",
      "clean            71479\n",
      "installed        69322\n",
      "constructed      68318\n",
      "equipment        64932\n",
      "surface          51522\n",
      "cleaning         48295\n",
      "contact          47987\n"
     ]
    }
   ],
   "source": [
    "print(\"Violence Descriptions - Top 10 Words AFTER Cleaning AND Lemmatizing\")\n",
    "get_top_n(vds_tokens_clean_lemmatized)"
   ]
  },
  {
   "cell_type": "code",
   "execution_count": 265,
   "id": "f23620b0",
   "metadata": {},
   "outputs": [
    {
     "name": "stdout",
     "output_type": "stream",
     "text": [
      "Comments - Top 10 Words AFTER Cleaning AND Lemmatizing\n",
      "            Frequency\n",
      "Word                 \n",
      "food            31866\n",
      "violation       27163\n",
      "area            26221\n",
      "instructed      25851\n",
      "observed        25283\n",
      "must            21070\n",
      "sink            18584\n",
      "issued          18562\n",
      "citation        18349\n",
      "door            14370\n"
     ]
    }
   ],
   "source": [
    "print(\"Comments - Top 10 Words AFTER Cleaning AND Lemmatizing\")\n",
    "obj = get_top_n(com_tokens_clean_lemmatized)"
   ]
  },
  {
   "cell_type": "markdown",
   "id": "cc93fb37",
   "metadata": {},
   "source": [
    "## 10. Compare top-10 tokens obtained in 4, 6, 7, 8, 9.\n",
    "## 11. Describe which approach provided the most comprehensive view of violations / comments and why\n",
    "\n",
    "### Summary: The top tokens in (4) returned a lot of punctuation because the data was uncleaned -- these tokens were not valuable. After cleaning, (6) (just cleaning) this method showed better results (7) (Porter Stemming) where results are mixed because we see some results like \"properli\" and \"provid\". The results with (8) (Lancaster Stemming) were slightly worse than Porter Stemming where we see words like \"issu\" and \"cit\". Lastly, (9) Lemmatize performed the best in terms of word clarity. This makes sense because stemming is primarily for speed and very large datasets wherease lemmatizing can be used if you have the time and processing power as it doesn't truncate words in the same way.\n",
    "\n",
    "### **Answer: The top-10 tokens resulting from (9) Lemmatizing provided the most comprehensive view because the words displayed are clear, there is not punctuation included since it had been cleaned, and it preserved full words unlike the stemming methods did.**"
   ]
  },
  {
   "cell_type": "markdown",
   "id": "79a46713",
   "metadata": {},
   "source": [
    "## 12. Use the \"most effective\" cleaning approach to plot the distribution of most common tokens (belonging to violation description) over time"
   ]
  },
  {
   "cell_type": "code",
   "execution_count": 274,
   "id": "85476cb5",
   "metadata": {},
   "outputs": [
    {
     "name": "stdout",
     "output_type": "stream",
     "text": [
      "['food', 'maintained', 'properly', 'clean', 'installed', 'constructed', 'equipment', 'surface', 'cleaning', 'contact']\n"
     ]
    }
   ],
   "source": [
    "# Extract the top 10 most common words from the Lemmatized Violation Description Tokens\n",
    "word_dist = nltk.FreqDist(vds_tokens_clean_lemmatized)#vds_tokens_clean)\n",
    "\n",
    "vds_word_dist = pd.DataFrame(word_dist.most_common(10),\n",
    "                    columns=['Word', 'Frequency'])\n",
    "\n",
    "# Convert the top 10 words to a list\n",
    "vds_10 = vds_word_dist.Word.to_list()\n",
    "print(vds_10)"
   ]
  },
  {
   "cell_type": "code",
   "execution_count": 280,
   "id": "0c947262",
   "metadata": {},
   "outputs": [],
   "source": [
    "# Convert inspection_date to a date/time format\n",
    "from datetime import datetime\n",
    "df_c['inspection_date'] = pd.to_datetime(df_c['inspection_date'], format='%Y-%m-%dT%H:%M:%S')"
   ]
  },
  {
   "cell_type": "code",
   "execution_count": 297,
   "id": "baa1b0f7",
   "metadata": {},
   "outputs": [],
   "source": [
    "# Extract year from inspection date\n",
    "df_c['Year'] = df_c['inspection_date'].dt.strftime('%Y')"
   ]
  },
  {
   "cell_type": "code",
   "execution_count": 298,
   "id": "cf4b5f6d",
   "metadata": {},
   "outputs": [],
   "source": [
    "# Create a new dataframe with the year and lemmatized tokens\n",
    "year_descriptions = pd.DataFrame(list(zip(df_c['Year'], vds_tokens_clean_lemmatized)),\n",
    "                  columns=['Year', 'tokens'])"
   ]
  },
  {
   "cell_type": "code",
   "execution_count": 299,
   "id": "04059f57",
   "metadata": {},
   "outputs": [],
   "source": [
    "# Ensure there is a single row for each year/token combination\n",
    "year_descriptions = year_descriptions.explode('tokens')"
   ]
  },
  {
   "cell_type": "code",
   "execution_count": 300,
   "id": "74379df2",
   "metadata": {},
   "outputs": [],
   "source": [
    "# Filter to only tokens in our top 10 list\n",
    "year_descriptions_10 = year_descriptions[year_descriptions['tokens'].isin(vds_10)]"
   ]
  },
  {
   "cell_type": "code",
   "execution_count": 306,
   "id": "3352c11d",
   "metadata": {},
   "outputs": [],
   "source": [
    "# For each year, count the number of tokens and store in a final dataframe for plotting\n",
    "year_descriptions_10_summary = year_descriptions_10.groupby(['Year', 'tokens']).size().reset_index(name='Count')"
   ]
  },
  {
   "cell_type": "code",
   "execution_count": 308,
   "id": "e86e4616",
   "metadata": {},
   "outputs": [
    {
     "data": {
      "text/html": [
       "<div>\n",
       "<style scoped>\n",
       "    .dataframe tbody tr th:only-of-type {\n",
       "        vertical-align: middle;\n",
       "    }\n",
       "\n",
       "    .dataframe tbody tr th {\n",
       "        vertical-align: top;\n",
       "    }\n",
       "\n",
       "    .dataframe thead th {\n",
       "        text-align: right;\n",
       "    }\n",
       "</style>\n",
       "<table border=\"1\" class=\"dataframe\">\n",
       "  <thead>\n",
       "    <tr style=\"text-align: right;\">\n",
       "      <th></th>\n",
       "      <th>Year</th>\n",
       "      <th>tokens</th>\n",
       "      <th>Count</th>\n",
       "    </tr>\n",
       "  </thead>\n",
       "  <tbody>\n",
       "    <tr>\n",
       "      <th>0</th>\n",
       "      <td>2010</td>\n",
       "      <td>clean</td>\n",
       "      <td>149</td>\n",
       "    </tr>\n",
       "    <tr>\n",
       "      <th>1</th>\n",
       "      <td>2010</td>\n",
       "      <td>constructed</td>\n",
       "      <td>69</td>\n",
       "    </tr>\n",
       "    <tr>\n",
       "      <th>2</th>\n",
       "      <td>2010</td>\n",
       "      <td>contact</td>\n",
       "      <td>82</td>\n",
       "    </tr>\n",
       "    <tr>\n",
       "      <th>3</th>\n",
       "      <td>2010</td>\n",
       "      <td>equipment</td>\n",
       "      <td>13</td>\n",
       "    </tr>\n",
       "    <tr>\n",
       "      <th>4</th>\n",
       "      <td>2010</td>\n",
       "      <td>food</td>\n",
       "      <td>143</td>\n",
       "    </tr>\n",
       "    <tr>\n",
       "      <th>5</th>\n",
       "      <td>2010</td>\n",
       "      <td>installed</td>\n",
       "      <td>173</td>\n",
       "    </tr>\n",
       "    <tr>\n",
       "      <th>6</th>\n",
       "      <td>2010</td>\n",
       "      <td>maintained</td>\n",
       "      <td>154</td>\n",
       "    </tr>\n",
       "    <tr>\n",
       "      <th>7</th>\n",
       "      <td>2010</td>\n",
       "      <td>properly</td>\n",
       "      <td>189</td>\n",
       "    </tr>\n",
       "    <tr>\n",
       "      <th>8</th>\n",
       "      <td>2010</td>\n",
       "      <td>surface</td>\n",
       "      <td>95</td>\n",
       "    </tr>\n",
       "    <tr>\n",
       "      <th>9</th>\n",
       "      <td>2011</td>\n",
       "      <td>clean</td>\n",
       "      <td>148</td>\n",
       "    </tr>\n",
       "  </tbody>\n",
       "</table>\n",
       "</div>"
      ],
      "text/plain": [
       "   Year       tokens  Count\n",
       "0  2010        clean    149\n",
       "1  2010  constructed     69\n",
       "2  2010      contact     82\n",
       "3  2010    equipment     13\n",
       "4  2010         food    143\n",
       "5  2010    installed    173\n",
       "6  2010   maintained    154\n",
       "7  2010     properly    189\n",
       "8  2010      surface     95\n",
       "9  2011        clean    148"
      ]
     },
     "execution_count": 308,
     "metadata": {},
     "output_type": "execute_result"
    }
   ],
   "source": [
    "year_descriptions_10_summary.head(10)"
   ]
  },
  {
   "cell_type": "code",
   "execution_count": 302,
   "id": "dd09d275",
   "metadata": {},
   "outputs": [],
   "source": [
    "# Drop 2024 since the data is too new and there are too few records\n",
    "year_descriptions_10_summary = year_descriptions_10_summary[year_descriptions_10_summary['Year'] != '2024']"
   ]
  },
  {
   "cell_type": "code",
   "execution_count": 309,
   "id": "3bf96f09",
   "metadata": {},
   "outputs": [
    {
     "data": {
      "image/png": "[encoded data removed]",
      "text/plain": [
       "<Figure size 640x480 with 1 Axes>"
      ]
     },
     "metadata": {},
     "output_type": "display_data"
    }
   ],
   "source": [
    "import matplotlib.pyplot as plt\n",
    "year_descriptions_10_summary.pivot(index=\"Year\", columns=\"tokens\", values=\"Count\").plot()\n",
    "ax = plt.subplot(111)\n",
    "ax.legend(loc='center right', bbox_to_anchor=(1.2, 0.5),\n",
    "          fancybox=True, shadow=True, fontsize=\"7\")\n",
    "plt.title('Top 10 Most Common Lemmatized Tokens Over Time')\n",
    "plt.ylabel('Frequency')\n",
    "plt.show()"
   ]
  },
  {
   "cell_type": "code",
   "execution_count": 304,
   "id": "b428a82e",
   "metadata": {},
   "outputs": [],
   "source": [
    "# def new_dispersion_plot(text, words, ignore_case=False, title=\"Lexical Dispersion Plot\"):\n",
    "#     \"\"\"\n",
    "#     Generate a lexical dispersion plot.\n",
    "\n",
    "#     :param text: The source text\n",
    "#     :type text: list(str) or iter(str)\n",
    "#     :param words: The target words\n",
    "#     :type words: list of str\n",
    "#     :param ignore_case: flag to set if case should be ignored when searching text\n",
    "#     :type ignore_case: bool\n",
    "#     :return: a matplotlib Axes object that may still be modified before plotting\n",
    "#     :rtype: Axes\n",
    "#     \"\"\"\n",
    "\n",
    "#     try:\n",
    "#         import matplotlib.pyplot as plt\n",
    "#     except ImportError as e:\n",
    "#         raise ImportError(\n",
    "#             \"The plot function requires matplotlib to be installed. \"\n",
    "#             \"See https://matplotlib.org/\"\n",
    "#         ) from e\n",
    "\n",
    "#     word2y = {\n",
    "#         word.casefold() if ignore_case else word: y\n",
    "#         for y, word in enumerate(reversed(words))\n",
    "#     }\n",
    "#     xs, ys = [], []\n",
    "#     for x, token in enumerate(text):\n",
    "#         token = token.casefold() if ignore_case else token\n",
    "#         y = word2y.get(token)\n",
    "#         if y is not None:\n",
    "#             xs.append(x)\n",
    "#             ys.append(y)\n",
    "\n",
    "#     _, ax = plt.subplots()\n",
    "#     ax.plot(xs, ys, \"|\")\n",
    "#     #ax.set_yticks(list(range(len(words))), words, color=\"C0\") # Broken\n",
    "#     ax.set_yticks(list(range(len(words))), list(word2y.keys()), color=\"C0\")\n",
    "#     ax.set_ylim(-1, len(words))\n",
    "#     ax.set_title(title)\n",
    "#     ax.set_xlabel(\"Word Offset\")\n",
    "#     return ax"
   ]
  },
  {
   "cell_type": "code",
   "execution_count": 305,
   "id": "616fb5a6",
   "metadata": {},
   "outputs": [],
   "source": [
    "# import matplotlib.pyplot as plt\n",
    "\n",
    "# dispersion = new_dispersion_plot(vds_tokens_clean_lemmatized, vds_10, title=\"Lexical Dispersion of Top 10 Lemmatized Violation Descriptions\")\n",
    "\n",
    "# plt.show()"
   ]
  }
 ],
 "metadata": {
  "environment": {
   "kernel": "python3",
   "name": "common-cpu.m107",
   "type": "gcloud",
   "uri": "gcr.io/deeplearning-platform-release/base-cpu:m107"
  },
  "kernelspec": {
   "display_name": "Python 3.10.10 ('base')",
   "language": "python",
   "name": "python3"
  },
  "language_info": {
   "codemirror_mode": {
    "name": "ipython",
    "version": 3
   },
   "file_extension": ".py",
   "mimetype": "text/x-python",
   "name": "python",
   "nbconvert_exporter": "python",
   "pygments_lexer": "ipython3",
   "version": "3.10.10"
  },
  "vscode": {
   "interpreter": {
    "hash": "a9739a3ee864b5f74d703657e4ddbfdf7f7ccbe6642a458f796596a18bcc5b2e"
   }
  }
 },
 "nbformat": 4,
 "nbformat_minor": 5
}
