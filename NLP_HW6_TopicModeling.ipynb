{
 "cells": [
  {
   "cell_type": "markdown",
   "metadata": {},
   "source": [
    "## NLP Assignment #6\n",
    "## Luke Schwenke"
   ]
  },
  {
   "cell_type": "markdown",
   "metadata": {},
   "source": [
    "The data is a collection of tweets and a collection of news articles about one particular company.  Use appropriate topic modeling technique to identify top N most important topics.  To get quality results apply appropriate text cleaning methods.\n",
    "\n",
    "1. Present top N most important topics in the news articles and tweets. For news articles, consider how to effectively combine information from the title and text of news article\n",
    "2. Select N to identify relevant topics, but minimize duplication\n",
    "3. Explain how you selected N"
   ]
  },
  {
   "cell_type": "code",
   "execution_count": 17,
   "metadata": {},
   "outputs": [],
   "source": [
    "#!pip install --upgrade pip wheel"
   ]
  },
  {
   "cell_type": "code",
   "execution_count": 85,
   "metadata": {},
   "outputs": [],
   "source": [
    "import os\n",
    "import time\n",
    "import math\n",
    "import re\n",
    "from pprint import pprint\n",
    "from textblob import TextBlob\n",
    "#import pandas as pd\n",
    "import numpy as np\n",
    "\n",
    "import nltk as nltk\n",
    "from nltk.corpus import stopwords\n",
    "# from nltk.stem.wordnet import WordNetLemmatizer\n",
    "import spacy\n",
    "import multiprocessing\n",
    "import string\n",
    "\n",
    "import gensim\n",
    "from gensim import corpora, models\n",
    "from gensim.models.ldamulticore import LdaMulticore\n",
    "from gensim.utils import simple_preprocess\n",
    "from gensim.models import CoherenceModel\n",
    "\n",
    "# import pyLDAvis.gensim\n",
    "import pyLDAvis\n",
    "import pyLDAvis.gensim_models as gensimvis\n",
    "pyLDAvis.enable_notebook()\n",
    "\n",
    "pd.set_option('display.max_rows', 100)\n",
    "pd.set_option('display.max_columns', None)\n",
    "pd.set_option('display.max_colwidth', 500)"
   ]
  },
  {
   "cell_type": "code",
   "execution_count": 124,
   "metadata": {},
   "outputs": [],
   "source": [
    "#!pip install pandas==1.5.3"
   ]
  },
  {
   "cell_type": "code",
   "execution_count": 5,
   "metadata": {},
   "outputs": [],
   "source": [
    "import warnings\n",
    "warnings.filterwarnings(\"ignore\")"
   ]
  },
  {
   "cell_type": "code",
   "execution_count": 6,
   "metadata": {},
   "outputs": [
    {
     "name": "stdout",
     "output_type": "stream",
     "text": [
      "Available CPUs: 8\n"
     ]
    }
   ],
   "source": [
    "import multiprocessing\n",
    "num_processors = multiprocessing.cpu_count() \n",
    "print(f'Available CPUs: {num_processors}')"
   ]
  },
  {
   "cell_type": "code",
   "execution_count": 7,
   "metadata": {},
   "outputs": [
    {
     "name": "stdout",
     "output_type": "stream",
     "text": [
      "INFO: Pandarallel will run on 7 workers.\n",
      "INFO: Pandarallel will use standard multiprocessing data transfer (pipe) to transfer data between the main process and workers.\n"
     ]
    }
   ],
   "source": [
    "from pandarallel import pandarallel\n",
    "pandarallel.initialize(nb_workers=num_processors-1, use_memory_fs=False, progress_bar=True)"
   ]
  },
  {
   "cell_type": "code",
   "execution_count": 72,
   "metadata": {},
   "outputs": [
    {
     "name": "stdout",
     "output_type": "stream",
     "text": [
      "Using 7 workers\n"
     ]
    }
   ],
   "source": [
    "workers = num_processors-1\n",
    "print(f'Using {workers} workers')"
   ]
  },
  {
   "cell_type": "code",
   "execution_count": 92,
   "metadata": {},
   "outputs": [],
   "source": [
    "start_time = time.time()\n",
    "\n",
    "def tic():\n",
    "    global start_time \n",
    "    start_time = time.time()\n",
    "\n",
    "def tac():\n",
    "    t_sec = round(time.time() - start_time)\n",
    "    (t_min, t_sec) = divmod(t_sec,60)\n",
    "    (t_hour,t_min) = divmod(t_min,60) \n",
    "    print(f'Execution time to calculate for topic {k}: {t_hour}hour:{t_min}min:{t_sec}sec'.format(t_hour,t_min,t_sec))"
   ]
  },
  {
   "cell_type": "markdown",
   "metadata": {},
   "source": [
    "#### Read news data"
   ]
  },
  {
   "cell_type": "code",
   "execution_count": 3,
   "metadata": {},
   "outputs": [
    {
     "name": "stdout",
     "output_type": "stream",
     "text": [
      "Sample contains 9,962 news articles\n"
     ]
    },
    {
     "data": {
      "text/html": [
       "<div>\n",
       "<style scoped>\n",
       "    .dataframe tbody tr th:only-of-type {\n",
       "        vertical-align: middle;\n",
       "    }\n",
       "\n",
       "    .dataframe tbody tr th {\n",
       "        vertical-align: top;\n",
       "    }\n",
       "\n",
       "    .dataframe thead th {\n",
       "        text-align: right;\n",
       "    }\n",
       "</style>\n",
       "<table border=\"1\" class=\"dataframe\">\n",
       "  <thead>\n",
       "    <tr style=\"text-align: right;\">\n",
       "      <th></th>\n",
       "      <th>url</th>\n",
       "      <th>date</th>\n",
       "      <th>language</th>\n",
       "      <th>title</th>\n",
       "      <th>text</th>\n",
       "    </tr>\n",
       "  </thead>\n",
       "  <tbody>\n",
       "    <tr>\n",
       "      <th>0</th>\n",
       "      <td>http://oaklandnewsnow.com/breaking-bts-announces-las-vegas-us-concert-date-in-2022/</td>\n",
       "      <td>2022-02-24</td>\n",
       "      <td>en</td>\n",
       "      <td>BREAKING: BTS Announces LAS VEGAS, US Concert Date in 2022! | Oakland News Now - Oakland News, SF Bay Area, East Bay, California, World</td>\n",
       "      <td>BREAKING: BTS Announces LAS VEGAS, US Concert Date in 2022! | Oakland News Now - Oakland News, SF Bay Area, East Bay, California, WorldSorry, you have Javascript Disabled! To see this page as it is meant to appear, please enable your Javascript!BREAKING: BTS Announces LAS VEGAS, US Concert Date in 2022! | Oakland News Now - Oakland News, SF Bay Area, East Bay, California, WorldSkip to contentMenuSearch for:SearchOakland News Now – Oakland News, SF Bay Area, East Bay, California, WorldOakland...</td>\n",
       "    </tr>\n",
       "    <tr>\n",
       "      <th>1</th>\n",
       "      <td>http://www.newsdzezimbabwe.co.uk/2022/04/mai-tt-weds.html</td>\n",
       "      <td>2022-04-09</td>\n",
       "      <td>en</td>\n",
       "      <td>MAI TT WEDS newsdzeZimbabweNewsdzeZimbabwe</td>\n",
       "      <td>MAI TT WEDS newsdzeZimbabweNewsdzeZimbabweskip to main  |      skip to sidebarHomeAboutContactAdvertiseNewsdzeZimbabweOur Zimbabwe Our NewsHomeNewsBusinessEntertainmentSaturday, 9 April 2022MAI TT WEDSSaturday, April 09, 2022  NewsdzeZimbabwe   0 Best moments... @Chakariboy @NyamayaroArron @restmutore @Lattynyangu pic.twitter.com/MsrhcFXUJj— H-Metro (@HMetro_) April 9, 2022 Posted in:  Share to TwitterShare to FacebookOlder PostHome0comments:        Post a CommentFollow NewsdzeZimbabweRecent...</td>\n",
       "    </tr>\n",
       "  </tbody>\n",
       "</table>\n",
       "</div>"
      ],
      "text/plain": [
       "                                                                                   url  \\\n",
       "0  http://oaklandnewsnow.com/breaking-bts-announces-las-vegas-us-concert-date-in-2022/   \n",
       "1                            http://www.newsdzezimbabwe.co.uk/2022/04/mai-tt-weds.html   \n",
       "\n",
       "        date language  \\\n",
       "0 2022-02-24       en   \n",
       "1 2022-04-09       en   \n",
       "\n",
       "                                                                                                                                     title  \\\n",
       "0  BREAKING: BTS Announces LAS VEGAS, US Concert Date in 2022! | Oakland News Now - Oakland News, SF Bay Area, East Bay, California, World   \n",
       "1                                                                                               MAI TT WEDS newsdzeZimbabweNewsdzeZimbabwe   \n",
       "\n",
       "                                                                                                                                                                                                                                                                                                                                                                                                                                                                                                                  text  \n",
       "0  BREAKING: BTS Announces LAS VEGAS, US Concert Date in 2022! | Oakland News Now - Oakland News, SF Bay Area, East Bay, California, WorldSorry, you have Javascript Disabled! To see this page as it is meant to appear, please enable your Javascript!BREAKING: BTS Announces LAS VEGAS, US Concert Date in 2022! | Oakland News Now - Oakland News, SF Bay Area, East Bay, California, WorldSkip to contentMenuSearch for:SearchOakland News Now – Oakland News, SF Bay Area, East Bay, California, WorldOakland...  \n",
       "1  MAI TT WEDS newsdzeZimbabweNewsdzeZimbabweskip to main  |      skip to sidebarHomeAboutContactAdvertiseNewsdzeZimbabweOur Zimbabwe Our NewsHomeNewsBusinessEntertainmentSaturday, 9 April 2022MAI TT WEDSSaturday, April 09, 2022  NewsdzeZimbabwe   0 Best moments... @Chakariboy @NyamayaroArron @restmutore @Lattynyangu pic.twitter.com/MsrhcFXUJj— H-Metro (@HMetro_) April 9, 2022 Posted in:  Share to TwitterShare to FacebookOlder PostHome0comments:        Post a CommentFollow NewsdzeZimbabweRecent...  "
      ]
     },
     "execution_count": 3,
     "metadata": {},
     "output_type": "execute_result"
    }
   ],
   "source": [
    "news_path = 'https://storage.googleapis.com/msca-bdp-data-open/news/nlp_a_6_news.json'\n",
    "news_df = pd.read_json(news_path, orient='records', lines=True)\n",
    "\n",
    "print(f'Sample contains {news_df.shape[0]:,.0f} news articles')\n",
    "news_df.head(2)"
   ]
  },
  {
   "cell_type": "markdown",
   "metadata": {},
   "source": [
    "#### Read Tweets data"
   ]
  },
  {
   "cell_type": "code",
   "execution_count": 4,
   "metadata": {},
   "outputs": [
    {
     "name": "stdout",
     "output_type": "stream",
     "text": [
      "Sample contains 9,941 tweets\n"
     ]
    },
    {
     "data": {
      "text/html": [
       "<div>\n",
       "<style scoped>\n",
       "    .dataframe tbody tr th:only-of-type {\n",
       "        vertical-align: middle;\n",
       "    }\n",
       "\n",
       "    .dataframe tbody tr th {\n",
       "        vertical-align: top;\n",
       "    }\n",
       "\n",
       "    .dataframe thead th {\n",
       "        text-align: right;\n",
       "    }\n",
       "</style>\n",
       "<table border=\"1\" class=\"dataframe\">\n",
       "  <thead>\n",
       "    <tr style=\"text-align: right;\">\n",
       "      <th></th>\n",
       "      <th>id</th>\n",
       "      <th>lang</th>\n",
       "      <th>date</th>\n",
       "      <th>name</th>\n",
       "      <th>retweeted</th>\n",
       "      <th>text</th>\n",
       "    </tr>\n",
       "  </thead>\n",
       "  <tbody>\n",
       "    <tr>\n",
       "      <th>0</th>\n",
       "      <td>1484553027222741001</td>\n",
       "      <td>en</td>\n",
       "      <td>2022-01-21</td>\n",
       "      <td>Dylan Green</td>\n",
       "      <td>RT</td>\n",
       "      <td>*Microsoft has entered the chat* https://t.co/Uz3pZrk6B3</td>\n",
       "    </tr>\n",
       "    <tr>\n",
       "      <th>1</th>\n",
       "      <td>1505486305102557184</td>\n",
       "      <td>en</td>\n",
       "      <td>2022-03-20</td>\n",
       "      <td>Rahim Rajwani</td>\n",
       "      <td></td>\n",
       "      <td>\"I actually use an @Android phone. Some #Android manufacturers pre-install @Microsoft software in a way that makes it easy for me. They’re more flexible about how the software connects up with the OS. So that’s what I ended up getting used to.\"\\nhttps://t.co/C0VjfS9PUO</td>\n",
       "    </tr>\n",
       "  </tbody>\n",
       "</table>\n",
       "</div>"
      ],
      "text/plain": [
       "                    id lang       date           name retweeted  \\\n",
       "0  1484553027222741001   en 2022-01-21    Dylan Green        RT   \n",
       "1  1505486305102557184   en 2022-03-20  Rahim Rajwani             \n",
       "\n",
       "                                                                                                                                                                                                                                                                            text  \n",
       "0                                                                                                                                                                                                                       *Microsoft has entered the chat* https://t.co/Uz3pZrk6B3  \n",
       "1  \"I actually use an @Android phone. Some #Android manufacturers pre-install @Microsoft software in a way that makes it easy for me. They’re more flexible about how the software connects up with the OS. So that’s what I ended up getting used to.\"\\nhttps://t.co/C0VjfS9PUO  "
      ]
     },
     "execution_count": 4,
     "metadata": {},
     "output_type": "execute_result"
    }
   ],
   "source": [
    "tweets_path = 'https://storage.googleapis.com/msca-bdp-data-open/tweets/nlp_a_6_tweets.json'\n",
    "tweets_df = pd.read_json(tweets_path, orient='records', lines=True)\n",
    "print(f'Sample contains {tweets_df.shape[0]:,.0f} tweets')\n",
    "tweets_df.head(2)"
   ]
  },
  {
   "cell_type": "markdown",
   "metadata": {},
   "source": [
    "## Data Cleaning & N-Grams & Lemmatizing"
   ]
  },
  {
   "cell_type": "code",
   "execution_count": 10,
   "metadata": {},
   "outputs": [
    {
     "name": "stderr",
     "output_type": "stream",
     "text": [
      "[nltk_data] Downloading package stopwords to\n",
      "[nltk_data]     /Users/lmschwenke/nltk_data...\n",
      "[nltk_data]   Package stopwords is already up-to-date!\n",
      "[nltk_data] Downloading package words to\n",
      "[nltk_data]     /Users/lmschwenke/nltk_data...\n",
      "[nltk_data]   Package words is already up-to-date!\n"
     ]
    }
   ],
   "source": [
    "nltk.download('stopwords')\n",
    "from nltk.corpus import stopwords\n",
    "stop_words = set(stopwords.words('english'))\n",
    "\n",
    "nltk.download('words')\n",
    "from nltk.corpus import words\n",
    "\n",
    "english_words = set(words.words())"
   ]
  },
  {
   "cell_type": "code",
   "execution_count": 11,
   "metadata": {},
   "outputs": [],
   "source": [
    "import re\n",
    "\n",
    "def clean_text(text):\n",
    "    # Remove mentions\n",
    "    text = re.sub(r'@[A-Za-z0-9_]+', '', text)\n",
    "    # Remove hashtags (but keep the text after #)\n",
    "    text = re.sub(r'#', '', text)\n",
    "    # Remove RT (retweet symbol)\n",
    "    text = re.sub(r'RT[\\s]+', '', text)\n",
    "    # Remove hyperlinks\n",
    "    text = re.sub(r'https?:\\/\\/\\S+', '', text)\n",
    "    # Remove newline characters\n",
    "    text = re.sub(r'\\n', ' ', text)\n",
    "    # Remove carriage return characters\n",
    "    text = re.sub(r'\\r', '', text)\n",
    "    # Remove \"&amp;\"\n",
    "    text = re.sub(r'&amp;', '', text)\n",
    "    # Remove other special characters and numbers\n",
    "    text = re.sub(r'[^A-Za-z\\s]', '', text)\n",
    "    # Convert multiple spaces to a single space\n",
    "    text = re.sub(r'\\s+', ' ', text)\n",
    "    # Optionally, convert to lowercase\n",
    "    # text = text.lower()\n",
    "    # Remove stopwords\n",
    "    text = ' '.join([word for word in text.split() if word not in stop_words])\n",
    "    # Remove non-English words\n",
    "    text = ' '.join([word for word in text.split() if word.lower() in english_words])\n",
    "\n",
    "    return text.strip()"
   ]
  },
  {
   "cell_type": "code",
   "execution_count": 12,
   "metadata": {},
   "outputs": [
    {
     "data": {
      "application/vnd.jupyter.widget-view+json": {
       "model_id": "69af4eab27714587a366e5988e109293",
       "version_major": 2,
       "version_minor": 0
      },
      "text/plain": [
       "VBox(children=(HBox(children=(IntProgress(value=0, description='0.00%', max=1421), Label(value='0 / 1421'))), …"
      ]
     },
     "metadata": {},
     "output_type": "display_data"
    },
    {
     "data": {
      "application/vnd.jupyter.widget-view+json": {
       "model_id": "24e81c762ceb4eb1b18b609c645e73de",
       "version_major": 2,
       "version_minor": 0
      },
      "text/plain": [
       "VBox(children=(HBox(children=(IntProgress(value=0, description='0.00%', max=1424), Label(value='0 / 1424'))), …"
      ]
     },
     "metadata": {},
     "output_type": "display_data"
    },
    {
     "data": {
      "application/vnd.jupyter.widget-view+json": {
       "model_id": "7ef9890893924799b245dfc57020b1e2",
       "version_major": 2,
       "version_minor": 0
      },
      "text/plain": [
       "VBox(children=(HBox(children=(IntProgress(value=0, description='0.00%', max=1424), Label(value='0 / 1424'))), …"
      ]
     },
     "metadata": {},
     "output_type": "display_data"
    }
   ],
   "source": [
    "tweets_df['tweets_clean'] = tweets_df['text'].parallel_apply(clean_text)\n",
    "news_df['text_clean'] = news_df['text'].parallel_apply(clean_text) \n",
    "news_df['title_clean'] = news_df['title'].parallel_apply(clean_text)"
   ]
  },
  {
   "cell_type": "code",
   "execution_count": 57,
   "metadata": {},
   "outputs": [],
   "source": [
    "def sent_to_words(sentences):\n",
    "    for sentence in sentences:\n",
    "        yield(gensim.utils.simple_preprocess(str(sentence), deacc=False))  # deacc=True removes punctuations"
   ]
  },
  {
   "cell_type": "code",
   "execution_count": 56,
   "metadata": {},
   "outputs": [],
   "source": [
    "def make_bi_and_tri_grams(texts):\n",
    "    \n",
    "    bigram = gensim.models.Phrases(texts, min_count=1, threshold=1)\n",
    "    bigram_mod = gensim.models.phrases.Phraser(bigram)\n",
    "\n",
    "    trigram = gensim.models.Phrases(bigram[texts], threshold=1)\n",
    "    trigram_mod = gensim.models.phrases.Phraser(trigram)\n",
    "\n",
    "    return [trigram_mod[bigram_mod[doc]] for doc in texts]"
   ]
  },
  {
   "cell_type": "code",
   "execution_count": 48,
   "metadata": {},
   "outputs": [],
   "source": [
    "nlp = spacy.load(\"en_core_web_lg\", disable=['parser', 'ner'])"
   ]
  },
  {
   "cell_type": "code",
   "execution_count": 49,
   "metadata": {},
   "outputs": [],
   "source": [
    "def lemmatization(texts, allowed_postags=['NOUN', 'ADJ', 'VERB', 'ADV']):\n",
    "    \"\"\"https://spacy.io/api/annotation\"\"\"\n",
    "    texts_out = []\n",
    "    for sent in texts:\n",
    "        doc = nlp(\" \".join(sent)) \n",
    "        texts_out.append([token.lemma_ for token in doc if token.pos_ in allowed_postags])\n",
    "    return texts_out"
   ]
  },
  {
   "cell_type": "code",
   "execution_count": 125,
   "metadata": {},
   "outputs": [],
   "source": [
    "def prepare_data(column):\n",
    "\n",
    "    # Tokenize text into words (other punctuation and elements have been cleaned in earlier function)\n",
    "    data_list = column.tolist()\n",
    "    data_tokens = list(sent_to_words(data_list))\n",
    "\n",
    "    # Make n-grams\n",
    "    data_words_trigrams = make_bi_and_tri_grams(data_tokens)\n",
    "\n",
    "    # Lemmatize text keeping only noun, adj, vb, adv\n",
    "    data_lemmatized = lemmatization(data_words_trigrams, allowed_postags=['NOUN', 'ADJ', 'VERB', 'ADV'])\n",
    "\n",
    "    return data_lemmatized\n",
    "    "
   ]
  },
  {
   "cell_type": "markdown",
   "metadata": {},
   "source": [
    "# News Articles - Topic Modeling\n"
   ]
  },
  {
   "cell_type": "code",
   "execution_count": 66,
   "metadata": {},
   "outputs": [],
   "source": [
    "# Combine the cleaned article titles with the text body\n",
    "news_df['title_and_text'] = news_df['title_clean'] + ' ' + news_df['text_clean']"
   ]
  },
  {
   "cell_type": "code",
   "execution_count": 67,
   "metadata": {},
   "outputs": [
    {
     "data": {
      "text/html": [
       "<div>\n",
       "<style scoped>\n",
       "    .dataframe tbody tr th:only-of-type {\n",
       "        vertical-align: middle;\n",
       "    }\n",
       "\n",
       "    .dataframe tbody tr th {\n",
       "        vertical-align: top;\n",
       "    }\n",
       "\n",
       "    .dataframe thead th {\n",
       "        text-align: right;\n",
       "    }\n",
       "</style>\n",
       "<table border=\"1\" class=\"dataframe\">\n",
       "  <thead>\n",
       "    <tr style=\"text-align: right;\">\n",
       "      <th></th>\n",
       "      <th>title_clean</th>\n",
       "      <th>text_clean</th>\n",
       "      <th>title_and_text</th>\n",
       "    </tr>\n",
       "  </thead>\n",
       "  <tbody>\n",
       "    <tr>\n",
       "      <th>0</th>\n",
       "      <td>BREAKING LAS US Concert Date News Now News Bay Area East Bay World</td>\n",
       "      <td>BREAKING LAS US Concert Date News Now News Bay Area East Bay Disabled To see page meant appear please enable LAS US Concert Date News Now News Bay Area East Bay News Now News Bay Area East Bay News Now News News Aggregator Home About News Lake News The Alley Cat Grand Lake Theater Law Channel Page Comic Con Las Draft Draft Page The Eagle Offense City Council Privacy BREAKING LAS Concert Entertainment News Concert Date LAS US Concert Date News Now video made channel upper left hand corner ori...</td>\n",
       "      <td>BREAKING LAS US Concert Date News Now News Bay Area East Bay World BREAKING LAS US Concert Date News Now News Bay Area East Bay Disabled To see page meant appear please enable LAS US Concert Date News Now News Bay Area East Bay News Now News Bay Area East Bay News Now News News Aggregator Home About News Lake News The Alley Cat Grand Lake Theater Law Channel Page Comic Con Las Draft Draft Page The Eagle Offense City Council Privacy BREAKING LAS Concert Entertainment News Concert Date LAS US ...</td>\n",
       "    </tr>\n",
       "  </tbody>\n",
       "</table>\n",
       "</div>"
      ],
      "text/plain": [
       "                                                          title_clean  \\\n",
       "0  BREAKING LAS US Concert Date News Now News Bay Area East Bay World   \n",
       "\n",
       "                                                                                                                                                                                                                                                                                                                                                                                                                                                                                                            text_clean  \\\n",
       "0  BREAKING LAS US Concert Date News Now News Bay Area East Bay Disabled To see page meant appear please enable LAS US Concert Date News Now News Bay Area East Bay News Now News Bay Area East Bay News Now News News Aggregator Home About News Lake News The Alley Cat Grand Lake Theater Law Channel Page Comic Con Las Draft Draft Page The Eagle Offense City Council Privacy BREAKING LAS Concert Entertainment News Concert Date LAS US Concert Date News Now video made channel upper left hand corner ori...   \n",
       "\n",
       "                                                                                                                                                                                                                                                                                                                                                                                                                                                                                                        title_and_text  \n",
       "0  BREAKING LAS US Concert Date News Now News Bay Area East Bay World BREAKING LAS US Concert Date News Now News Bay Area East Bay Disabled To see page meant appear please enable LAS US Concert Date News Now News Bay Area East Bay News Now News Bay Area East Bay News Now News News Aggregator Home About News Lake News The Alley Cat Grand Lake Theater Law Channel Page Comic Con Las Draft Draft Page The Eagle Offense City Council Privacy BREAKING LAS Concert Entertainment News Concert Date LAS US ...  "
      ]
     },
     "execution_count": 67,
     "metadata": {},
     "output_type": "execute_result"
    }
   ],
   "source": [
    "news_df[['title_clean', 'text_clean', 'title_and_text']].head(1)"
   ]
  },
  {
   "cell_type": "code",
   "execution_count": 68,
   "metadata": {},
   "outputs": [],
   "source": [
    "lemmatized_titles_and_articles = prepare_data(news_df['title_and_text'])"
   ]
  },
  {
   "cell_type": "code",
   "execution_count": 86,
   "metadata": {},
   "outputs": [],
   "source": [
    "dictionary = corpora.Dictionary(lemmatized_titles_and_articles)\n",
    "\n",
    "# Converting list of documents (corpus) into Document Term Matrix using dictionary prepared above.\n",
    "doc_term_matrix = [dictionary.doc2bow(doc) for doc in lemmatized_titles_and_articles]"
   ]
  },
  {
   "cell_type": "code",
   "execution_count": 95,
   "metadata": {},
   "outputs": [],
   "source": [
    "def compute_coherence_values(corpus, dictionary, k, a, b, texts_lemmatized):\n",
    "    \n",
    "    lda_model = LdaMulticore(corpus=doc_term_matrix,\n",
    "                       id2word=dictionary,\n",
    "                       num_topics=k,\n",
    "                       random_state=100,                  \n",
    "                       passes=10,\n",
    "                       alpha=a,\n",
    "                       eta=b,\n",
    "                       workers=workers)\n",
    "    \n",
    "    coherence_model_lda = CoherenceModel(model=lda_model, \n",
    "                                         texts=texts_lemmatized, \n",
    "                                         dictionary=dictionary, \n",
    "                                         coherence='c_v')\n",
    "    \n",
    "    return coherence_model_lda.get_coherence()"
   ]
  },
  {
   "cell_type": "code",
   "execution_count": 103,
   "metadata": {},
   "outputs": [
    {
     "name": "stdout",
     "output_type": "stream",
     "text": [
      "LDA will execute 7 iterations\n",
      "ARTICLES - Completed model based on 2 LDA topics. Finished 14.3% of LDA runs\n",
      "Execution time to calculate for topic 2: 0hour:0min:27sec\n",
      "ARTICLES - Completed model based on 3 LDA topics. Finished 28.6% of LDA runs\n",
      "Execution time to calculate for topic 3: 0hour:0min:59sec\n",
      "ARTICLES - Completed model based on 4 LDA topics. Finished 42.9% of LDA runs\n",
      "Execution time to calculate for topic 4: 0hour:2min:47sec\n",
      "ARTICLES - Completed model based on 5 LDA topics. Finished 57.1% of LDA runs\n",
      "Execution time to calculate for topic 5: 0hour:4min:15sec\n",
      "ARTICLES - Completed model based on 6 LDA topics. Finished 71.4% of LDA runs\n",
      "Execution time to calculate for topic 6: 0hour:20min:31sec\n",
      "ARTICLES - Completed model based on 7 LDA topics. Finished 85.7% of LDA runs\n",
      "Execution time to calculate for topic 7: 0hour:34min:35sec\n",
      "ARTICLES - Completed model based on 8 LDA topics. Finished 100.0% of LDA runs\n",
      "Execution time to calculate for topic 8: 0hour:7min:12sec\n",
      "CPU times: user 7min 42s, sys: 2min 31s, total: 10min 14s\n",
      "Wall time: 1h 10min 46s\n"
     ]
    }
   ],
   "source": [
    "%%time\n",
    "\n",
    "grid = {}\n",
    "grid['Validation_Set'] = {}\n",
    "# Topics range\n",
    "min_topics = 2\n",
    "max_topics = 8\n",
    "step_size = 1\n",
    "topics_range = range(min_topics, max_topics+1, step_size)\n",
    "\n",
    "# Validation sets\n",
    "num_of_docs = len(doc_term_matrix)\n",
    "corpus_sets = [# gensim.utils.ClippedCorpus(doc_term_matrix, num_of_docs*0.25), \n",
    "               # gensim.utils.ClippedCorpus(doc_term_matrix, num_of_docs*0.5), \n",
    "#                gensim.utils.ClippedCorpus(doc_term_matrix, num_of_docs*0.75), \n",
    "               doc_term_matrix]\n",
    "\n",
    "corpus_title = ['100% Corpus']\n",
    "model_results = {\n",
    "                 'Topics': [],\n",
    "                 'Coherence': []\n",
    "                }\n",
    "\n",
    "itr = 0\n",
    "itr_total = len(topics_range)*len(corpus_title) #len(beta)*len(alpha)*\n",
    "print(f'LDA will execute {itr_total} iterations')\n",
    "\n",
    "# iterate through hyperparameters\n",
    "for i in range(len(corpus_sets)):\n",
    "    # iterate through number of topics\n",
    "    for k in topics_range:\n",
    "        tic()\n",
    "        itr += 1\n",
    "        cv = compute_coherence_values(corpus=corpus_sets[i], \n",
    "                                      dictionary=dictionary, \n",
    "                                      k=k,\n",
    "                                      texts_lemmatized=lemmatized_titles_and_articles,\n",
    "                                      a=0.5,\n",
    "                                      b=0.5) # Updated\n",
    "        # Save the model results\n",
    "        model_results['Topics'].append(k)\n",
    "                #model_results['Alpha'].append(a)\n",
    "                #model_results['Beta'].append(b)\n",
    "        model_results['Coherence'].append(cv)\n",
    "        pct_completed = round((itr / itr_total * 100),1)\n",
    "#                 print(f'Completed Percent: {pct_completed}%, Corpus: {corpus_title[i]}, Topics: {k}, Alpha: {a}, Beta: {b}, Coherence: {cv}')\n",
    "        print(f'ARTICLES - Completed model based on {k} LDA topics. Finished {pct_completed}% of LDA runs')\n",
    "        tac()\n",
    "                    \n",
    "lda_tuning_articles = pd.DataFrame(model_results)"
   ]
  },
  {
   "cell_type": "code",
   "execution_count": 104,
   "metadata": {},
   "outputs": [
    {
     "data": {
      "text/html": [
       "<div>\n",
       "<style scoped>\n",
       "    .dataframe tbody tr th:only-of-type {\n",
       "        vertical-align: middle;\n",
       "    }\n",
       "\n",
       "    .dataframe tbody tr th {\n",
       "        vertical-align: top;\n",
       "    }\n",
       "\n",
       "    .dataframe thead th {\n",
       "        text-align: right;\n",
       "    }\n",
       "</style>\n",
       "<table border=\"1\" class=\"dataframe\">\n",
       "  <thead>\n",
       "    <tr style=\"text-align: right;\">\n",
       "      <th></th>\n",
       "      <th>Topics</th>\n",
       "      <th>Coherence</th>\n",
       "    </tr>\n",
       "  </thead>\n",
       "  <tbody>\n",
       "    <tr>\n",
       "      <th>0</th>\n",
       "      <td>2</td>\n",
       "      <td>0.409476</td>\n",
       "    </tr>\n",
       "    <tr>\n",
       "      <th>1</th>\n",
       "      <td>3</td>\n",
       "      <td>0.401805</td>\n",
       "    </tr>\n",
       "    <tr>\n",
       "      <th>2</th>\n",
       "      <td>4</td>\n",
       "      <td>0.375256</td>\n",
       "    </tr>\n",
       "    <tr>\n",
       "      <th>3</th>\n",
       "      <td>5</td>\n",
       "      <td>0.391131</td>\n",
       "    </tr>\n",
       "    <tr>\n",
       "      <th>4</th>\n",
       "      <td>6</td>\n",
       "      <td>0.390823</td>\n",
       "    </tr>\n",
       "    <tr>\n",
       "      <th>5</th>\n",
       "      <td>7</td>\n",
       "      <td>0.396331</td>\n",
       "    </tr>\n",
       "    <tr>\n",
       "      <th>6</th>\n",
       "      <td>8</td>\n",
       "      <td>0.377064</td>\n",
       "    </tr>\n",
       "  </tbody>\n",
       "</table>\n",
       "</div>"
      ],
      "text/plain": [
       "   Topics  Coherence\n",
       "0       2   0.409476\n",
       "1       3   0.401805\n",
       "2       4   0.375256\n",
       "3       5   0.391131\n",
       "4       6   0.390823\n",
       "5       7   0.396331\n",
       "6       8   0.377064"
      ]
     },
     "execution_count": 104,
     "metadata": {},
     "output_type": "execute_result"
    }
   ],
   "source": [
    "lda_tuning_articles"
   ]
  },
  {
   "cell_type": "markdown",
   "metadata": {},
   "source": [
    "## Articles & Titles: After iterating over varying levels of *n* topics with the LDA topic model, the highest coherence value indicated was 2 topics. For this reason I will continue with *n=2* for the model and analysis"
   ]
  },
  {
   "cell_type": "code",
   "execution_count": 105,
   "metadata": {},
   "outputs": [
    {
     "name": "stdout",
     "output_type": "stream",
     "text": [
      "CPU times: user 12 s, sys: 1.24 s, total: 13.3 s\n",
      "Wall time: 22.3 s\n"
     ]
    }
   ],
   "source": [
    "%%time\n",
    "\n",
    "lda_model_titles_and_articles_2_topics = LdaMulticore(corpus=doc_term_matrix,\n",
    "                                                            id2word=dictionary,\n",
    "                                                            num_topics=2,\n",
    "                                                            random_state=456,\n",
    "                                                            passes=10,\n",
    "                                                            eta='auto',\n",
    "                                                            workers=workers)"
   ]
  },
  {
   "cell_type": "code",
   "execution_count": 108,
   "metadata": {},
   "outputs": [
    {
     "name": "stdout",
     "output_type": "stream",
     "text": [
      "[(0,\n",
      "  '0.007*\"new\" + 0.005*\"say\" + 0.004*\"day\" + 0.003*\"also\" + 0.003*\"get\" + '\n",
      "  '0.003*\"make\" + 0.003*\"use\" + 0.003*\"go\" + 0.003*\"see\" + 0.003*\"work\"'),\n",
      " (1,\n",
      "  '0.005*\"official_music_video\" + 0.004*\"new\" + 0.003*\"news\" + 0.002*\"stock\" + '\n",
      "  '0.002*\"say\" + 0.002*\"day\" + 0.002*\"get\" + 0.002*\"company\" + 0.002*\"video\" + '\n",
      "  '0.001*\"make\"')]\n"
     ]
    }
   ],
   "source": [
    "# Print the keywords in the 2 topics\n",
    "pprint(lda_model_titles_and_articles_2_topics.print_topics())"
   ]
  },
  {
   "cell_type": "code",
   "execution_count": 110,
   "metadata": {},
   "outputs": [
    {
     "name": "stdout",
     "output_type": "stream",
     "text": [
      "\n",
      "Coherence Score for n=2 for the Titles and Articles:  0.41954264932134977\n"
     ]
    }
   ],
   "source": [
    "coherence_model_lda = CoherenceModel(model=lda_model_titles_and_articles_2_topics, \n",
    "                                     texts=lemmatized_titles_and_articles, \n",
    "                                     dictionary=dictionary, \n",
    "                                     coherence='c_v')\n",
    "\n",
    "coherence_lda = coherence_model_lda.get_coherence()\n",
    "print('\\nCoherence Score for n=2 for the Titles and Articles: ', coherence_lda)"
   ]
  },
  {
   "cell_type": "code",
   "execution_count": 111,
   "metadata": {},
   "outputs": [
    {
     "data": {
      "text/html": [
       "\n",
       "<link rel=\"stylesheet\" type=\"text/css\" href=\"https://cdn.jsdelivr.net/gh/bmabey/pyLDAvis@3.4.0/pyLDAvis/js/ldavis.v1.0.0.css\">\n",
       "\n",
       "\n",
       "<div id=\"ldavis_el24404134838906562484127990\" style=\"background-color:white;\"></div>\n",
       "<script type=\"text/javascript\">\n",
       "\n",
       "var ldavis_el24404134838906562484127990_data = {\"mdsDat\": {\"x\": [0.05665004982295131, -0.05665004982295131], \"y\": [0.09557022913959948, -0.09557022913959948], \"topics\": [1, 2], \"cluster\": [1, 1], \"Freq\": [79.62366960900239, 20.37633039099761]}, \"tinfo\": {\"Term\": [\"official_music_video\", \"news\", \"stock\", \"new\", \"song_official_music_video\", \"video\", \"company\", \"group\", \"financial\", \"advertisement\", \"music\", \"left_hand_corner_original\", \"day\", \"earning\", \"home\", \"watch_live_alive_new\", \"get\", \"quarter\", \"black_history_month\", \"investment\", \"concise_daily_summary_lat\", \"global\", \"management\", \"channel_upper_left_hand\", \"new_year\", \"related_free_daily_newslett\", \"video_made_channel_read\", \"business\", \"capital\", \"new_song_official_music\", \"my_way_featured_upcome\", \"way_music_video_official\", \"join_now_my_profile\", \"subscription_premium_login_subscribe\", \"celebrity_music_country_sport\", \"the_best_worst_jeopardy\", \"give_gift_subscription_premium\", \"she_revenge_against_cheate\", \"heart_new_on_my\", \"file_quick_start_guide\", \"account_join_now_my\", \"account_account_join_now\", \"music_video_song_on\", \"new_purchase\", \"news_news_see_all\", \"ex_it_was_wonderful\", \"rita_revealed_get_back\", \"view_all_advertisement_advertisement\", \"exclusive_royal_news_way\", \"premium_my_account_my\", \"explore_explore_rita_she\", \"entertainment_all_entertainment_celebrity\", \"the_sale_average_price\", \"manage_your_subscription_more\", \"join_now_join_now\", \"still_phone_there_reste\", \"even_though_calendar_day\", \"login_register_member_already\", \"you_smile_entertainment_entertainment\", \"people_community_text_us\", \"link_new_tab_link\", \"explore_news_all_new\", \"subscription_more_give_gift\", \"my_account_my_account\", \"gun_kelly_daughter_music\", \"volume_home_five_us\", \"apple_alphabet_to_get\", \"marry_me_read_more\", \"skip_content_top_navigation\", \"ago\", \"game\", \"come\", \"the_good_men_project\", \"archive_the_times_privacy\", \"staff_you_read_community\", \"statement_notice_at_collection\", \"say\", \"work\", \"s\", \"use\", \"go\", \"series\", \"experience\", \"people\", \"know\", \"credit\", \"also\", \"time\", \"version\", \"government\", \"device\", \"even\", \"information_service\", \"security\", \"make\", \"see\", \"market\", \"new\", \"find\", \"first\", \"well\", \"still\", \"add\", \"start\", \"many\", \"need\", \"day\", \"get\", \"way\", \"good\", \"take\", \"support\", \"lead\", \"business\", \"company\", \"datum\", \"news\", \"top\", \"year\", \"set\", \"song_official_music_video\", \"official_music_video\", \"video_official_music_video\", \"video_made_channel_read\", \"watch_live_alive_new\", \"left_hand_corner_original\", \"channel_upper_left_hand\", \"black_history_month\", \"music_video_rap_song\", \"news_editor_news_editor\", \"learning_wrong_way_extract\", \"one_hot_why_when\", \"new_song_official_music\", \"during_black_history_month\", \"up_official_music_video\", \"music_official_music\", \"private_generative_art_right\", \"channel_upper_left_read\", \"music_video_song_official\", \"the_oval_season_episode\", \"official_music_video_tu\", \"give_use_navigate_write\", \"lunar_new_year_unlocke\", \"one_news_page\", \"made_channel_upper_left\", \"song_rap_song_official\", \"news_now_video_made\", \"all_tech_company_company\", \"mastery_tech_deep_psychology\", \"new_official_music\", \"corner_original_post_type\", \"full_episode_the_oval\", \"official_music_video_official\", \"related_free_daily_newslett\", \"song_new_song_official\", \"music_video_new_rap\", \"music_video_prod_by\", \"video_new_rap\", \"concise_daily_summary_lat\", \"next_headline\", \"new_music_video\", \"stock_position\", \"the_hire\", \"post_earnings_per_share\", \"free_daily_newsletter_follow\", \"news_today\", \"new_position\", \"might_intereste\", \"target_price\", \"music_video\", \"price_target\", \"stock\", \"news\", \"wealth_management\", \"capital_management\", \"new\", \"advertisement\", \"video\", \"last_quarter\", \"company\", \"day\", \"group\", \"financial\", \"say\", \"get\", \"music\", \"earning\", \"home\", \"make\", \"also\", \"business\", \"see\", \"market\", \"year\", \"top\", \"time\", \"good\", \"use\", \"go\", \"set\", \"global\", \"work\", \"well\", \"datum\", \"first\", \"take\"], \"Freq\": [2469.0, 5814.0, 3461.0, 14077.0, 572.0, 3495.0, 4654.0, 2412.0, 1583.0, 787.0, 1443.0, 305.0, 7793.0, 894.0, 2676.0, 262.0, 6741.0, 828.0, 234.0, 1142.0, 226.0, 2046.0, 1186.0, 188.0, 335.0, 180.0, 177.0, 4198.0, 829.0, 166.0, 234.6857408839276, 234.53629273579168, 380.1872053014196, 192.88348485218214, 234.4047165212045, 206.6577797364649, 379.8051075549756, 234.33322878700938, 234.24987010575032, 46.290810486149205, 289.5589971480757, 202.54747086687513, 234.18239176427213, 96.712612281116, 234.1505524691669, 234.10464099178057, 194.56978825960766, 346.82352860312346, 252.85599421499734, 202.41994335277667, 194.54071361111443, 157.92701793541767, 78.87194151345248, 379.3088600394136, 192.54845161109535, 94.68140938189822, 94.68820307511307, 113.43994937604718, 123.3245437083068, 215.20695803698553, 430.8336182553747, 285.1716208981175, 268.39110693932435, 280.04379104939915, 279.04605498204376, 244.84879147115697, 242.73036462645956, 233.92856837958956, 252.22182883100825, 3794.6490141112854, 3215.2264631997323, 4444.703962105021, 426.9991189174579, 652.7886200816272, 642.3553940766735, 652.4140432221751, 9590.327338470137, 4839.389210086496, 2417.7445202823005, 5201.066411883151, 4985.563387709459, 1722.380499606675, 1612.4208341348512, 3657.1263198160786, 2419.995021240027, 1523.375733385538, 5953.98193695267, 4831.669373359219, 814.3229646395154, 1628.8785264669764, 858.3512852975589, 3048.1709490239655, 653.0728938868137, 1943.260093208624, 5682.6383970731595, 4955.588434012425, 4731.997862009466, 12204.314703700396, 2942.723815747304, 3724.533173560061, 3798.9298925050234, 2305.171464504094, 1868.684340466, 1813.8649882594912, 2701.220849395856, 2802.1749471321364, 6841.766095569858, 5936.610627184702, 2392.0477196401644, 3927.7591751826235, 3428.870806284351, 2638.6443442841023, 2371.168689143302, 3671.5940955118986, 3895.7800492307347, 2842.5424563929687, 4523.94297924482, 2965.5684444723584, 2955.992651994848, 2813.748832262473, 560.1650535216916, 2413.21722609137, 91.2694712133552, 173.41493861894017, 255.45185415238782, 297.81386850643236, 183.8638962529692, 228.37978039715716, 117.34876510183632, 44.48474094938931, 41.64849720499514, 41.64049010452365, 162.4872448974251, 71.30184823902047, 92.49250551451716, 64.20937457826025, 41.60532994726068, 95.99224550141399, 108.70063387074697, 127.03738349678926, 64.2006901602447, 41.58526525328188, 64.19251540691577, 59.93718410986563, 89.57501048929174, 64.15743572302438, 52.86592188862912, 38.737191923266515, 41.55800154560448, 89.54113119985963, 119.74327709743933, 91.63958836756096, 89.53785861608235, 173.94501671748955, 92.27124397937801, 69.73056542237764, 64.1349367095555, 84.42616993544127, 216.07863423078214, 118.57812997489533, 103.26446984981044, 88.8625462001871, 93.83227314725963, 76.20779333300734, 83.41004608482132, 151.43843875169313, 108.38780034487237, 146.97857767467664, 146.0773966231197, 140.49316159848942, 141.789279133268, 1039.615637249447, 1290.144157353474, 131.1797502984942, 138.83673795472265, 1873.2782424829331, 318.2163360501745, 715.502105232596, 143.08035367009467, 759.0908288384376, 951.94472732328, 497.90334242503405, 403.1668436503263, 1011.2115414234877, 804.4300092227287, 379.747778124267, 299.4819742013058, 465.0596379872374, 638.9149537198806, 636.8634192339205, 526.9186603325452, 539.0848392425642, 512.9125382548879, 432.2542656987666, 423.7270390023509, 487.019211621997, 453.0459292918915, 486.7850877596348, 465.20851372464693, 393.8614662752598, 354.031492908836, 408.5125824260723, 387.561527908319, 367.0293909385161, 372.454369160804, 370.46836682376124], \"Total\": [2469.0, 5814.0, 3461.0, 14077.0, 572.0, 3495.0, 4654.0, 2412.0, 1583.0, 787.0, 1443.0, 305.0, 7793.0, 894.0, 2676.0, 262.0, 6741.0, 828.0, 234.0, 1142.0, 226.0, 2046.0, 1186.0, 188.0, 335.0, 180.0, 177.0, 4198.0, 829.0, 166.0, 237.2245726505391, 237.1460119027194, 384.4184662585945, 195.07868128125136, 237.1095024026811, 209.0843949490415, 384.2810226504887, 237.1010934274007, 237.05909261041216, 46.85522163706769, 293.1019882191357, 205.03558429105294, 237.06666365143624, 97.90562781423759, 237.0454954607073, 237.01985950076798, 197.00078843267067, 351.171993158144, 256.0365625597439, 204.96828606599092, 196.99377187063124, 159.92969062477422, 79.87253358422674, 384.137586742055, 195.00004479420417, 95.88921902229274, 95.89726298669196, 114.89130402634487, 124.91330035358273, 217.99142764507627, 436.92252149234815, 289.01036334540726, 271.9447401946427, 283.91839905334956, 282.905351669656, 248.02429397524986, 245.96161526827552, 236.9861874534999, 255.85525939775167, 4017.225054950619, 3414.9032830811375, 4765.268833031173, 436.5947033887585, 675.7202366011992, 664.8082778618167, 675.5678869573451, 10601.538879893626, 5247.901792512568, 2573.1287025644892, 5687.851499642786, 5450.7719014341055, 1826.4375919297906, 1708.2630035043965, 3975.861118974839, 2599.2731424139256, 1613.0565998890195, 6590.845356186591, 5318.688584981216, 848.3855623528951, 1734.4739611733046, 896.1692936054362, 3311.2304606558077, 676.52379836703, 2082.414432736487, 6321.55335079304, 5494.673273254989, 5244.910400264354, 14077.59294618333, 3200.0071097144005, 4096.987542720865, 4186.491420413342, 2493.300422625959, 2003.612500175665, 1943.5365468646555, 2942.8675234794036, 3058.047462422192, 7793.710822893138, 6741.040636407431, 2596.6404163708316, 4380.805104474515, 3799.3391731081124, 2880.7289276312913, 2576.7905598230122, 4198.512755844444, 4654.870878069172, 3209.5718473314846, 5814.087136598294, 3389.2954834747093, 3388.2469176936147, 3207.610298537733, 572.9436522481896, 2469.386833013448, 93.55795269133664, 177.77560319072475, 262.0342255107353, 305.55778288172115, 188.71371083078196, 234.422594445698, 120.47160419324473, 45.679002158644494, 42.7745698714172, 42.77790818129067, 166.9517233416412, 73.28432956462883, 95.1045931367773, 66.02978586644623, 42.78922925937619, 98.72889351519055, 111.80470022550433, 130.7118936524499, 66.06238197895948, 42.791310297846444, 66.05588681396031, 61.68518352176475, 92.21105824570405, 66.06200331267087, 54.436064586374805, 39.894727901862616, 42.80307726258597, 92.22820474327133, 123.56441343079011, 94.41407871020739, 92.24281944764115, 180.57201140478713, 95.19516732029003, 71.89476944290794, 66.07299411126414, 87.2199751344239, 226.29288728525572, 124.00115136239955, 107.9071848809428, 92.50219732307016, 98.54400894045479, 79.38643492459283, 87.60818694198474, 169.21254835921894, 116.89536481771636, 164.0072432342558, 173.3478036532938, 165.47481465774365, 169.00302073483863, 3461.049637397144, 5814.087136598294, 169.16487775178203, 186.27479816931609, 14077.59294618333, 787.1834194624214, 3495.0600942535657, 204.6672397693559, 4654.870878069172, 7793.710822893138, 2412.318868630994, 1583.4951626270408, 10601.538879893626, 6741.040636407431, 1443.8809611833133, 894.0679959580234, 2676.458691882097, 6321.55335079304, 6590.845356186591, 4198.512755844444, 5494.673273254989, 5244.910400264354, 3388.2469176936147, 3389.2954834747093, 5318.688584981216, 4380.805104474515, 5687.851499642786, 5450.7719014341055, 3207.610298537733, 2046.6879796332325, 5247.901792512568, 4186.491420413342, 3209.5718473314846, 4096.987542720865, 3799.3391731081124], \"Category\": [\"Default\", \"Default\", \"Default\", \"Default\", \"Default\", \"Default\", \"Default\", \"Default\", \"Default\", \"Default\", \"Default\", \"Default\", \"Default\", \"Default\", \"Default\", \"Default\", \"Default\", \"Default\", \"Default\", \"Default\", \"Default\", \"Default\", \"Default\", \"Default\", \"Default\", \"Default\", \"Default\", \"Default\", \"Default\", \"Default\", \"Topic1\", \"Topic1\", \"Topic1\", \"Topic1\", \"Topic1\", \"Topic1\", \"Topic1\", \"Topic1\", \"Topic1\", \"Topic1\", \"Topic1\", \"Topic1\", \"Topic1\", \"Topic1\", \"Topic1\", \"Topic1\", \"Topic1\", \"Topic1\", \"Topic1\", \"Topic1\", \"Topic1\", \"Topic1\", \"Topic1\", \"Topic1\", \"Topic1\", \"Topic1\", \"Topic1\", \"Topic1\", \"Topic1\", \"Topic1\", \"Topic1\", \"Topic1\", \"Topic1\", \"Topic1\", \"Topic1\", \"Topic1\", \"Topic1\", \"Topic1\", \"Topic1\", \"Topic1\", \"Topic1\", \"Topic1\", \"Topic1\", \"Topic1\", \"Topic1\", \"Topic1\", \"Topic1\", \"Topic1\", \"Topic1\", \"Topic1\", \"Topic1\", \"Topic1\", \"Topic1\", \"Topic1\", \"Topic1\", \"Topic1\", \"Topic1\", \"Topic1\", \"Topic1\", \"Topic1\", \"Topic1\", \"Topic1\", \"Topic1\", \"Topic1\", \"Topic1\", \"Topic1\", \"Topic1\", \"Topic1\", \"Topic1\", \"Topic1\", \"Topic1\", \"Topic1\", \"Topic1\", \"Topic1\", \"Topic1\", \"Topic1\", \"Topic1\", \"Topic1\", \"Topic1\", \"Topic1\", \"Topic1\", \"Topic1\", \"Topic1\", \"Topic1\", \"Topic1\", \"Topic1\", \"Topic1\", \"Topic1\", \"Topic1\", \"Topic1\", \"Topic2\", \"Topic2\", \"Topic2\", \"Topic2\", \"Topic2\", \"Topic2\", \"Topic2\", \"Topic2\", \"Topic2\", \"Topic2\", \"Topic2\", \"Topic2\", \"Topic2\", \"Topic2\", \"Topic2\", \"Topic2\", \"Topic2\", \"Topic2\", \"Topic2\", \"Topic2\", \"Topic2\", \"Topic2\", \"Topic2\", \"Topic2\", \"Topic2\", \"Topic2\", \"Topic2\", \"Topic2\", \"Topic2\", \"Topic2\", \"Topic2\", \"Topic2\", \"Topic2\", \"Topic2\", \"Topic2\", \"Topic2\", \"Topic2\", \"Topic2\", \"Topic2\", \"Topic2\", \"Topic2\", \"Topic2\", \"Topic2\", \"Topic2\", \"Topic2\", \"Topic2\", \"Topic2\", \"Topic2\", \"Topic2\", \"Topic2\", \"Topic2\", \"Topic2\", \"Topic2\", \"Topic2\", \"Topic2\", \"Topic2\", \"Topic2\", \"Topic2\", \"Topic2\", \"Topic2\", \"Topic2\", \"Topic2\", \"Topic2\", \"Topic2\", \"Topic2\", \"Topic2\", \"Topic2\", \"Topic2\", \"Topic2\", \"Topic2\", \"Topic2\", \"Topic2\", \"Topic2\", \"Topic2\", \"Topic2\", \"Topic2\", \"Topic2\", \"Topic2\", \"Topic2\", \"Topic2\", \"Topic2\", \"Topic2\", \"Topic2\", \"Topic2\", \"Topic2\", \"Topic2\"], \"logprob\": [30.0, 29.0, 28.0, 27.0, 26.0, 25.0, 24.0, 23.0, 22.0, 21.0, 20.0, 19.0, 18.0, 17.0, 16.0, 15.0, 14.0, 13.0, 12.0, 11.0, 10.0, 9.0, 8.0, 7.0, 6.0, 5.0, 4.0, 3.0, 2.0, 1.0, -8.9455, -8.9461, -8.4631, -9.1417, -8.9467, -9.0727, -8.4641, -8.947, -8.9474, -10.5688, -8.7354, -9.0928, -8.9476, -9.832, -8.9478, -8.948, -9.133, -8.5549, -8.8709, -9.0934, -9.1331, -9.3416, -10.0359, -8.4654, -9.1434, -9.8532, -9.8532, -9.6725, -9.5889, -9.0321, -8.338, -8.7507, -8.8113, -8.7688, -8.7724, -8.9031, -8.9118, -8.9487, -8.8734, -6.1624, -6.3281, -6.0043, -8.347, -7.9225, -7.9386, -7.9231, -5.2352, -5.9192, -6.6132, -5.8471, -5.8894, -6.9523, -7.0183, -6.1993, -6.6122, -7.0751, -5.7119, -5.9208, -7.7014, -7.0081, -7.6487, -6.3814, -7.9221, -6.8316, -5.7586, -5.8955, -5.9416, -4.9942, -6.4167, -6.181, -6.1613, -6.6608, -6.8708, -6.9005, -6.5023, -6.4656, -5.5729, -5.7149, -6.6238, -6.1279, -6.2638, -6.5257, -6.6326, -6.1954, -6.1361, -6.4513, -5.9866, -6.4089, -6.4122, -6.4615, -6.7126, -5.2521, -8.527, -7.8851, -7.4978, -7.3443, -7.8266, -7.6098, -8.2757, -9.2457, -9.3115, -9.3117, -7.9502, -8.7739, -8.5137, -8.8787, -9.3126, -8.4765, -8.3522, -8.1963, -8.8788, -9.3131, -8.8789, -8.9475, -8.5457, -8.8795, -9.073, -9.384, -9.3137, -8.5461, -8.2555, -8.5229, -8.5461, -7.8821, -8.5161, -8.7962, -8.8798, -8.6049, -7.6652, -8.2652, -8.4035, -8.5537, -8.4993, -8.7073, -8.617, -8.0206, -8.3551, -8.0505, -8.0567, -8.0956, -8.0865, -6.0942, -5.8783, -8.1642, -8.1075, -5.5054, -7.2781, -6.4678, -8.0774, -6.4087, -6.1823, -6.8304, -7.0415, -6.1219, -6.3507, -7.1013, -7.3388, -6.8986, -6.581, -6.5843, -6.7738, -6.7509, -6.8007, -6.9718, -6.9917, -6.8525, -6.9248, -6.853, -6.8983, -7.0648, -7.1714, -7.0283, -7.0809, -7.1354, -7.1207, -7.126], \"loglift\": [30.0, 29.0, 28.0, 27.0, 26.0, 25.0, 24.0, 23.0, 22.0, 21.0, 20.0, 19.0, 18.0, 17.0, 16.0, 15.0, 14.0, 13.0, 12.0, 11.0, 10.0, 9.0, 8.0, 7.0, 6.0, 5.0, 4.0, 3.0, 2.0, 1.0, 0.2171, 0.2168, 0.2168, 0.2165, 0.2164, 0.2162, 0.2161, 0.2161, 0.2159, 0.2157, 0.2157, 0.2156, 0.2156, 0.2156, 0.2156, 0.2155, 0.2154, 0.2154, 0.2154, 0.2153, 0.2153, 0.2153, 0.2153, 0.2152, 0.2152, 0.2152, 0.2152, 0.2151, 0.2151, 0.215, 0.2138, 0.2145, 0.2147, 0.2141, 0.2141, 0.215, 0.2146, 0.2149, 0.2136, 0.1709, 0.1676, 0.1582, 0.2056, 0.1933, 0.1935, 0.193, 0.1276, 0.1468, 0.1656, 0.1384, 0.1386, 0.1692, 0.1701, 0.1443, 0.1564, 0.1707, 0.1262, 0.1318, 0.1869, 0.165, 0.1847, 0.1451, 0.1926, 0.1587, 0.1213, 0.1246, 0.1249, 0.0851, 0.144, 0.1325, 0.1307, 0.1494, 0.1581, 0.1588, 0.1422, 0.1405, 0.0976, 0.1008, 0.1458, 0.1187, 0.1253, 0.1401, 0.1447, 0.0938, 0.0498, 0.1064, -0.023, 0.0943, 0.0914, 0.0969, 1.5682, 1.5678, 1.566, 1.566, 1.5654, 1.5651, 1.5648, 1.5647, 1.5645, 1.5643, 1.5641, 1.5638, 1.5637, 1.5634, 1.5629, 1.5628, 1.5627, 1.5627, 1.5626, 1.5623, 1.5622, 1.5622, 1.5622, 1.562, 1.5618, 1.5615, 1.5615, 1.5614, 1.5613, 1.5612, 1.5594, 1.561, 1.561, 1.5534, 1.5596, 1.5602, 1.561, 1.5582, 1.5446, 1.5461, 1.5468, 1.5507, 1.5418, 1.5499, 1.5417, 1.4798, 1.5152, 1.4812, 1.4196, 1.4271, 1.4152, 0.3881, 0.0853, 1.3365, 1.2969, -0.4261, 0.6851, 0.0047, 1.2328, -0.2228, -0.5118, 0.0129, 0.2228, -0.7591, -0.535, 0.2552, 0.4971, -0.1593, -0.7012, -0.7461, -0.4846, -0.7309, -0.7341, -0.4683, -0.4885, -0.7999, -0.6782, -0.8675, -0.8702, -0.5065, -0.1638, -0.9623, -0.7889, -0.5777, -0.8071, -0.737]}, \"token.table\": {\"Topic\": [1, 2, 1, 2, 1, 2, 1, 2, 1, 2, 1, 2, 1, 2, 1, 2, 1, 2, 1, 2, 1, 2, 1, 2, 1, 2, 1, 2, 1, 2, 1, 2, 1, 2, 1, 2, 1, 2, 1, 2, 1, 2, 1, 2, 1, 2, 1, 2, 1, 2, 1, 2, 1, 2, 1, 2, 1, 2, 1, 2, 1, 2, 1, 2, 1, 2, 1, 2, 1, 2, 1, 2, 1, 2, 1, 2, 1, 2, 1, 2, 1, 2, 1, 2, 1, 2, 1, 2, 1, 2, 1, 2, 1, 2, 1, 2, 1, 2, 1, 2, 1, 2, 1, 2, 1, 2, 1, 2, 1, 2, 1, 2, 1, 2, 1, 2, 1, 2, 1, 2, 1, 2, 1, 2, 1, 2, 1, 2, 1, 2, 1, 2, 1, 2, 1, 2, 1, 2, 1, 2, 1, 2, 1, 2, 1, 2, 1, 2, 1, 2, 1, 2, 1, 2, 1, 2, 1, 2, 1, 2, 1, 2, 1, 2, 1, 2, 1, 2, 1, 2, 1, 2, 1, 2, 1, 2, 1, 2, 1, 2, 1, 2, 1, 2, 1, 2, 1, 2, 1, 2, 1, 2, 1, 2, 1, 2, 1, 2, 1, 2, 1, 2, 1, 2, 1, 2, 1, 2, 1, 2, 1, 2, 1, 2, 1, 2, 1, 2, 1, 2, 1, 2, 1, 2, 1, 2, 1, 2, 1, 2, 1, 2, 1, 2, 1, 2, 1, 2, 1, 2, 1, 2, 1, 2, 1, 2, 1, 2, 1, 2, 1, 2, 1, 2, 1, 2, 1, 2, 1, 2, 1, 2, 1, 2, 1, 2, 1, 2, 1, 2, 1, 2, 1, 2, 1, 2, 1, 2, 1, 2, 1, 2, 1, 2, 1, 2, 1, 2, 1, 2, 1, 2, 1, 2, 1, 2, 1, 2, 1, 2, 1, 2, 1, 2, 1, 2, 1, 2, 1, 2, 1, 2, 1, 2, 1, 2], \"Freq\": [0.9900720438450168, 0.009754404372857309, 0.9894166933565236, 0.013647126804917567, 0.932815102638927, 0.06737829794342169, 0.5957950693629785, 0.40397192336338417, 0.9446819503734897, 0.055510955186637206, 0.025065968677864117, 0.9775727784367005, 0.9033742529569736, 0.09664921046919586, 0.9879590347256207, 0.012197025120069392, 0.9663762673211038, 0.034037755204265524, 0.02559480247280451, 0.9726024939665714, 0.8745954135517336, 0.12552063805603583, 0.7439849347348056, 0.2556317766025588, 0.25231539887257826, 0.7462093711337953, 0.9868857959247864, 0.012652381999035723, 0.026495160197890756, 0.9750218952823798, 0.030386241486018643, 0.9723597275525966, 0.9327910251754986, 0.06736241149186391, 0.8369727328754714, 0.1630550062249699, 0.044190518402791874, 0.9545151975003044, 0.03237177994002656, 0.9711533982007968, 0.9441702170306885, 0.05579469437476163, 0.8857879291170063, 0.11434546956944823, 0.8778873319115721, 0.12214977199354232, 0.9574083893771066, 0.04240270255982523, 0.027290964001195055, 0.9688292220424245, 0.6654974819475982, 0.33442646571820484, 0.9879341314471641, 0.01250549533477423, 0.9205037330431922, 0.07942666725405496, 0.9906434974393745, 0.010427826288835521, 0.987259044422992, 0.012657167236192205, 0.9881401213585057, 0.011717076537847895, 0.9436486048653405, 0.05619743552547934, 0.9898790106321708, 0.010152605237253034, 0.9861238078144128, 0.013840334144763688, 0.9817475703414213, 0.021342338485683073, 0.74518699384112, 0.2545003038287893, 0.9196854566559578, 0.08031232156322839, 0.9092046195303236, 0.09079842106450481, 0.04565783335578958, 0.9474000421326337, 0.03177492214067075, 0.9744309456472364, 0.9414615095919283, 0.05856681241629414, 0.8807245528138611, 0.11926941897630863, 0.9888596563500291, 0.010409049014210832, 0.023369230646118518, 0.9815076871369777, 0.8271900831231668, 0.17296236823721267, 0.9147328287004959, 0.08530901832044337, 0.8966388383696814, 0.10340565014803098, 0.9391896543076637, 0.06111363005316903, 0.7934274464661494, 0.20644037008366894, 0.9861955539313508, 0.014139004357438721, 0.9870956537598854, 0.012655072484101094, 0.8260915838926008, 0.17373703596113044, 0.9652284244489093, 0.03399732582285592, 0.7509442322740868, 0.2485642913354786, 0.9897433623858141, 0.01025640790037113, 0.988506102993444, 0.01040532739993099, 0.9310295099469862, 0.0688654059010374, 0.3029307478317937, 0.6986951119346209, 0.9201368698598666, 0.07994440961245573, 0.023378376521518675, 0.9818918139037844, 0.026181627332649983, 0.9752656181412119, 0.9864449159724721, 0.013732411823282675, 0.9835383187407187, 0.008703878926909015, 0.030277392318307627, 0.9688765541858441, 0.03253405889786288, 0.9760217669358864, 0.8989879044977238, 0.10108275047933231, 0.9866256598693508, 0.01301616965526848, 0.7764088685343096, 0.22423969492956172, 0.9178122964932381, 0.08223271964137861, 0.9022079766627658, 0.09780910651479265, 0.987399318561189, 0.012658965622579347, 0.023362806226880715, 0.9812378615289902, 0.10365395859814837, 0.8963018772898711, 0.7369028532158309, 0.26317959043422534, 0.030289360684059435, 0.9692595418899019, 0.15108039281813504, 0.8460501997815562, 0.027818435409104576, 0.9736452393186602, 0.030269553043594244, 0.9686256973950158, 0.024902133744212403, 0.9711832160242837, 0.02683250340950921, 0.9749142905455013, 0.9870641295397601, 0.012654668327432821, 0.9861988547892127, 0.014088555068417323, 0.9906225032858794, 0.01264624472279846, 0.916270932492531, 0.08371354700859669, 0.8669095666179714, 0.13304831352634056, 0.04633611752096627, 0.9545240209319051, 0.032528010366794764, 0.9758403110038429, 0.07699193217827216, 0.923903186139266, 0.990749992268515, 0.010213917446067165, 0.02395902192524608, 0.9703403879724664, 0.48300883853052085, 0.5187872710142631, 0.7781101131977362, 0.22187489965187437, 0.021891896774079503, 0.9632434580594981, 0.9871522744830554, 0.012655798390808404, 0.03674034879627567, 0.9736192431013052, 0.1063750896404447, 0.8923688075392862, 0.04032220624619243, 0.9596685086593798, 0.02267769441844069, 0.9771656541374534, 0.032522856716265695, 0.9756857014879708, 0.03027441548560858, 0.9687812955394746, 0.023376552115686657, 0.9818151888588397, 0.032422696761440745, 0.9726809028432224, 0.9198007401583845, 0.08023419089705351, 0.9862773152256851, 0.013762009049660722, 0.037789831510252656, 0.9573423982597339, 0.9855183154283914, 0.014636410625174128, 0.15976045802377878, 0.8402216681250587, 0.023370367200079328, 0.9815554224033317, 0.688336601639584, 0.31156288284739064, 0.03876569766013264, 0.9636044846947255, 0.9898437541870322, 0.01015224363268751, 0.9397120313453884, 0.06023795072726849, 0.904585655785118, 0.09536351386848324, 0.9330515431775588, 0.06674944132870853, 0.9019644578546734, 0.09809500459718906, 0.9428189649669644, 0.05694144736153559, 0.8772886161647598, 0.12283287660586902, 0.9869207965995727, 0.012652830725635547, 0.9849318735646614, 0.015633839262931135, 0.031514204811535385, 0.9664356142204185, 0.022689840351645292, 0.9774085074554896, 0.030274589018047453, 0.9687868485775185, 0.965691946653893, 0.03309224739312406, 0.9333500843739594, 0.06688837429361341, 0.9651139620275747, 0.03404543117581935, 0.924477443264683, 0.07540206478688086, 0.9907266006402033, 0.01042870105937056, 0.699498780323964, 0.3004868779582497, 0.043242216031147133, 0.9621393066930237, 0.9854943317093786, 0.01470887062252804, 0.9893443954634158, 0.010252273528118298, 0.9160875827945202, 0.08400651573939898, 0.9025253718516659, 0.09738535654275776, 0.15575622783200443, 0.8422373801286166, 0.9900308440065577, 0.009565515401029543, 0.9780237751070125, 0.02290453805871224, 0.05073875168830659, 0.9538885317401639, 0.03060165290417724, 0.9716024797076274, 0.9890759245378558, 0.012519948411871592, 0.9084946265973316, 0.09156392449356385, 0.8751081203929891, 0.12509974478982716, 0.031544217803292286, 0.9673560126342968, 0.914405026278664, 0.08562108206070167, 0.9594694159368637, 0.04007611811038497, 0.7954083549438139, 0.20486056911502545, 0.02250027522454046, 0.9731369034613748, 0.034395790590130114, 0.9630821365236432, 0.02137712447169868, 0.97265916346229, 0.9881198010108249, 0.011390429982833716, 0.9878064607027904, 0.012095589314728046, 0.026714067547306777, 0.9731553177947468, 0.9211903138067745, 0.07894816652608226, 0.9909506726024989, 0.012650434118329773, 0.22463291733499152, 0.7743924255495761, 0.9074424424892088, 0.0926790386116907, 0.9220828040082671, 0.07793590965889259, 0.8724275626323462, 0.1274995626039153, 0.984682973324963, 0.01601110525731647], \"Term\": [\"account_account_join_now\", \"account_account_join_now\", \"account_join_now_my\", \"account_join_now_my\", \"add\", \"add\", \"advertisement\", \"advertisement\", \"ago\", \"ago\", \"all_tech_company_company\", \"all_tech_company_company\", \"also\", \"also\", \"apple_alphabet_to_get\", \"apple_alphabet_to_get\", \"archive_the_times_privacy\", \"archive_the_times_privacy\", \"black_history_month\", \"black_history_month\", \"business\", \"business\", \"capital\", \"capital\", \"capital_management\", \"capital_management\", \"celebrity_music_country_sport\", \"celebrity_music_country_sport\", \"channel_upper_left_hand\", \"channel_upper_left_hand\", \"channel_upper_left_read\", \"channel_upper_left_read\", \"come\", \"come\", \"company\", \"company\", \"concise_daily_summary_lat\", \"concise_daily_summary_lat\", \"corner_original_post_type\", \"corner_original_post_type\", \"credit\", \"credit\", \"datum\", \"datum\", \"day\", \"day\", \"device\", \"device\", \"during_black_history_month\", \"during_black_history_month\", \"earning\", \"earning\", \"entertainment_all_entertainment_celebrity\", \"entertainment_all_entertainment_celebrity\", \"even\", \"even\", \"even_though_calendar_day\", \"even_though_calendar_day\", \"ex_it_was_wonderful\", \"ex_it_was_wonderful\", \"exclusive_royal_news_way\", \"exclusive_royal_news_way\", \"experience\", \"experience\", \"explore_explore_rita_she\", \"explore_explore_rita_she\", \"explore_news_all_new\", \"explore_news_all_new\", \"file_quick_start_guide\", \"file_quick_start_guide\", \"financial\", \"financial\", \"find\", \"find\", \"first\", \"first\", \"free_daily_newsletter_follow\", \"free_daily_newsletter_follow\", \"full_episode_the_oval\", \"full_episode_the_oval\", \"game\", \"game\", \"get\", \"get\", \"give_gift_subscription_premium\", \"give_gift_subscription_premium\", \"give_use_navigate_write\", \"give_use_navigate_write\", \"global\", \"global\", \"go\", \"go\", \"good\", \"good\", \"government\", \"government\", \"group\", \"group\", \"gun_kelly_daughter_music\", \"gun_kelly_daughter_music\", \"heart_new_on_my\", \"heart_new_on_my\", \"home\", \"home\", \"information_service\", \"information_service\", \"investment\", \"investment\", \"join_now_join_now\", \"join_now_join_now\", \"join_now_my_profile\", \"join_now_my_profile\", \"know\", \"know\", \"last_quarter\", \"last_quarter\", \"lead\", \"lead\", \"learning_wrong_way_extract\", \"learning_wrong_way_extract\", \"left_hand_corner_original\", \"left_hand_corner_original\", \"link_new_tab_link\", \"link_new_tab_link\", \"login_register_member_already\", \"login_register_member_already\", \"lunar_new_year_unlocke\", \"lunar_new_year_unlocke\", \"made_channel_upper_left\", \"made_channel_upper_left\", \"make\", \"make\", \"manage_your_subscription_more\", \"manage_your_subscription_more\", \"management\", \"management\", \"many\", \"many\", \"market\", \"market\", \"marry_me_read_more\", \"marry_me_read_more\", \"mastery_tech_deep_psychology\", \"mastery_tech_deep_psychology\", \"might_intereste\", \"might_intereste\", \"music\", \"music\", \"music_official_music\", \"music_official_music\", \"music_video\", \"music_video\", \"music_video_new_rap\", \"music_video_new_rap\", \"music_video_prod_by\", \"music_video_prod_by\", \"music_video_rap_song\", \"music_video_rap_song\", \"music_video_song_official\", \"music_video_song_official\", \"music_video_song_on\", \"music_video_song_on\", \"my_account_my_account\", \"my_account_my_account\", \"my_way_featured_upcome\", \"my_way_featured_upcome\", \"need\", \"need\", \"new\", \"new\", \"new_music_video\", \"new_music_video\", \"new_official_music\", \"new_official_music\", \"new_position\", \"new_position\", \"new_purchase\", \"new_purchase\", \"new_song_official_music\", \"new_song_official_music\", \"new_year\", \"new_year\", \"news\", \"news\", \"news_editor_news_editor\", \"news_editor_news_editor\", \"news_news_see_all\", \"news_news_see_all\", \"news_now_video_made\", \"news_now_video_made\", \"news_today\", \"news_today\", \"next_headline\", \"next_headline\", \"official_music_video\", \"official_music_video\", \"official_music_video_official\", \"official_music_video_official\", \"official_music_video_tu\", \"official_music_video_tu\", \"one_hot_why_when\", \"one_hot_why_when\", \"one_news_page\", \"one_news_page\", \"people\", \"people\", \"people_community_text_us\", \"people_community_text_us\", \"post_earnings_per_share\", \"post_earnings_per_share\", \"premium_my_account_my\", \"premium_my_account_my\", \"price_target\", \"price_target\", \"private_generative_art_right\", \"private_generative_art_right\", \"quarter\", \"quarter\", \"related_free_daily_newslett\", \"related_free_daily_newslett\", \"rita_revealed_get_back\", \"rita_revealed_get_back\", \"s\", \"s\", \"say\", \"say\", \"security\", \"security\", \"see\", \"see\", \"series\", \"series\", \"set\", \"set\", \"she_revenge_against_cheate\", \"she_revenge_against_cheate\", \"skip_content_top_navigation\", \"skip_content_top_navigation\", \"song_new_song_official\", \"song_new_song_official\", \"song_official_music_video\", \"song_official_music_video\", \"song_rap_song_official\", \"song_rap_song_official\", \"staff_you_read_community\", \"staff_you_read_community\", \"start\", \"start\", \"statement_notice_at_collection\", \"statement_notice_at_collection\", \"still\", \"still\", \"still_phone_there_reste\", \"still_phone_there_reste\", \"stock\", \"stock\", \"stock_position\", \"stock_position\", \"subscription_more_give_gift\", \"subscription_more_give_gift\", \"subscription_premium_login_subscribe\", \"subscription_premium_login_subscribe\", \"support\", \"support\", \"take\", \"take\", \"target_price\", \"target_price\", \"the_best_worst_jeopardy\", \"the_best_worst_jeopardy\", \"the_good_men_project\", \"the_good_men_project\", \"the_hire\", \"the_hire\", \"the_oval_season_episode\", \"the_oval_season_episode\", \"the_sale_average_price\", \"the_sale_average_price\", \"time\", \"time\", \"top\", \"top\", \"up_official_music_video\", \"up_official_music_video\", \"use\", \"use\", \"version\", \"version\", \"video\", \"video\", \"video_made_channel_read\", \"video_made_channel_read\", \"video_new_rap\", \"video_new_rap\", \"video_official_music_video\", \"video_official_music_video\", \"view_all_advertisement_advertisement\", \"view_all_advertisement_advertisement\", \"volume_home_five_us\", \"volume_home_five_us\", \"watch_live_alive_new\", \"watch_live_alive_new\", \"way\", \"way\", \"way_music_video_official\", \"way_music_video_official\", \"wealth_management\", \"wealth_management\", \"well\", \"well\", \"work\", \"work\", \"year\", \"year\", \"you_smile_entertainment_entertainment\", \"you_smile_entertainment_entertainment\"]}, \"R\": 30, \"lambda.step\": 0.01, \"plot.opts\": {\"xlab\": \"PC1\", \"ylab\": \"PC2\"}, \"topic.order\": [1, 2]};\n",
       "\n",
       "function LDAvis_load_lib(url, callback){\n",
       "  var s = document.createElement('script');\n",
       "  s.src = url;\n",
       "  s.async = true;\n",
       "  s.onreadystatechange = s.onload = callback;\n",
       "  s.onerror = function(){console.warn(\"failed to load library \" + url);};\n",
       "  document.getElementsByTagName(\"head\")[0].appendChild(s);\n",
       "}\n",
       "\n",
       "if(typeof(LDAvis) !== \"undefined\"){\n",
       "   // already loaded: just create the visualization\n",
       "   !function(LDAvis){\n",
       "       new LDAvis(\"#\" + \"ldavis_el24404134838906562484127990\", ldavis_el24404134838906562484127990_data);\n",
       "   }(LDAvis);\n",
       "}else if(typeof define === \"function\" && define.amd){\n",
       "   // require.js is available: use it to load d3/LDAvis\n",
       "   require.config({paths: {d3: \"https://d3js.org/d3.v5\"}});\n",
       "   require([\"d3\"], function(d3){\n",
       "      window.d3 = d3;\n",
       "      LDAvis_load_lib(\"https://cdn.jsdelivr.net/gh/bmabey/pyLDAvis@3.4.0/pyLDAvis/js/ldavis.v3.0.0.js\", function(){\n",
       "        new LDAvis(\"#\" + \"ldavis_el24404134838906562484127990\", ldavis_el24404134838906562484127990_data);\n",
       "      });\n",
       "    });\n",
       "}else{\n",
       "    // require.js not available: dynamically load d3 & LDAvis\n",
       "    LDAvis_load_lib(\"https://d3js.org/d3.v5.js\", function(){\n",
       "         LDAvis_load_lib(\"https://cdn.jsdelivr.net/gh/bmabey/pyLDAvis@3.4.0/pyLDAvis/js/ldavis.v3.0.0.js\", function(){\n",
       "                 new LDAvis(\"#\" + \"ldavis_el24404134838906562484127990\", ldavis_el24404134838906562484127990_data);\n",
       "            })\n",
       "         });\n",
       "}\n",
       "</script>"
      ],
      "text/plain": [
       "<IPython.core.display.HTML object>"
      ]
     },
     "execution_count": 111,
     "metadata": {},
     "output_type": "execute_result"
    }
   ],
   "source": [
    "lda_display = gensimvis.prepare(lda_model_titles_and_articles_2_topics, \n",
    "                                doc_term_matrix, \n",
    "                                dictionary, \n",
    "                                sort_topics=False, \n",
    "                                mds='mmds')\n",
    "pyLDAvis.display(lda_display)"
   ]
  },
  {
   "cell_type": "markdown",
   "metadata": {},
   "source": [
    "# Tweets - Topic Modeling"
   ]
  },
  {
   "cell_type": "code",
   "execution_count": 116,
   "metadata": {},
   "outputs": [
    {
     "data": {
      "text/plain": [
       "'I actually use phone Some Android preinstall way easy Theyre flexible OS So thats I ended getting used'"
      ]
     },
     "execution_count": 116,
     "metadata": {},
     "output_type": "execute_result"
    }
   ],
   "source": [
    "tweets_df['tweets_clean'][1]"
   ]
  },
  {
   "cell_type": "code",
   "execution_count": 112,
   "metadata": {},
   "outputs": [],
   "source": [
    "lemmatized_tweets = prepare_data(tweets_df['tweets_clean'])"
   ]
  },
  {
   "cell_type": "code",
   "execution_count": 113,
   "metadata": {},
   "outputs": [],
   "source": [
    "dictionary = corpora.Dictionary(lemmatized_tweets)\n",
    "# Converting list of documents (corpus) into Document Term Matrix using dictionary prepared above.\n",
    "doc_term_matrix = [dictionary.doc2bow(doc) for doc in lemmatized_tweets]"
   ]
  },
  {
   "cell_type": "code",
   "execution_count": 114,
   "metadata": {},
   "outputs": [
    {
     "name": "stdout",
     "output_type": "stream",
     "text": [
      "LDA will execute 7 iterations\n",
      "ARTICLES - Completed model based on 2 LDA topics. Finished 14.3% of LDA runs\n",
      "Execution time to calculate for topic 2: 0hour:0min:10sec\n",
      "ARTICLES - Completed model based on 3 LDA topics. Finished 28.6% of LDA runs\n",
      "Execution time to calculate for topic 3: 0hour:0min:10sec\n",
      "ARTICLES - Completed model based on 4 LDA topics. Finished 42.9% of LDA runs\n",
      "Execution time to calculate for topic 4: 0hour:0min:10sec\n",
      "ARTICLES - Completed model based on 5 LDA topics. Finished 57.1% of LDA runs\n",
      "Execution time to calculate for topic 5: 0hour:0min:10sec\n",
      "ARTICLES - Completed model based on 6 LDA topics. Finished 71.4% of LDA runs\n",
      "Execution time to calculate for topic 6: 0hour:0min:10sec\n",
      "ARTICLES - Completed model based on 7 LDA topics. Finished 85.7% of LDA runs\n",
      "Execution time to calculate for topic 7: 0hour:0min:10sec\n",
      "ARTICLES - Completed model based on 8 LDA topics. Finished 100.0% of LDA runs\n",
      "Execution time to calculate for topic 8: 0hour:0min:10sec\n",
      "CPU times: user 15.6 s, sys: 2.18 s, total: 17.8 s\n",
      "Wall time: 1min 11s\n"
     ]
    }
   ],
   "source": [
    "%%time\n",
    "\n",
    "grid = {}\n",
    "grid['Validation_Set'] = {}\n",
    "# Topics range\n",
    "min_topics = 2\n",
    "max_topics = 8\n",
    "step_size = 1\n",
    "topics_range = range(min_topics, max_topics+1, step_size)\n",
    "\n",
    "# Validation sets\n",
    "num_of_docs = len(doc_term_matrix)\n",
    "corpus_sets = [# gensim.utils.ClippedCorpus(doc_term_matrix, num_of_docs*0.25), \n",
    "               # gensim.utils.ClippedCorpus(doc_term_matrix, num_of_docs*0.5), \n",
    "#                gensim.utils.ClippedCorpus(doc_term_matrix, num_of_docs*0.75), \n",
    "               doc_term_matrix]\n",
    "\n",
    "corpus_title = ['100% Corpus']\n",
    "model_results = {\n",
    "                 'Topics': [],\n",
    "                 'Coherence': []\n",
    "                }\n",
    "\n",
    "itr = 0\n",
    "itr_total = len(topics_range)*len(corpus_title) #len(beta)*len(alpha)*\n",
    "print(f'LDA will execute {itr_total} iterations')\n",
    "\n",
    "# iterate through hyperparameters\n",
    "for i in range(len(corpus_sets)):\n",
    "    # iterate through number of topics\n",
    "    for k in topics_range:\n",
    "        tic()\n",
    "        itr += 1\n",
    "        cv = compute_coherence_values(corpus=corpus_sets[i], \n",
    "                                      dictionary=dictionary, \n",
    "                                      k=k,\n",
    "                                      texts_lemmatized=lemmatized_tweets,\n",
    "                                      a=0.5,\n",
    "                                      b=0.5) # Updated\n",
    "        # Save the model results\n",
    "        model_results['Topics'].append(k)\n",
    "                #model_results['Alpha'].append(a)\n",
    "                #model_results['Beta'].append(b)\n",
    "        model_results['Coherence'].append(cv)\n",
    "        pct_completed = round((itr / itr_total * 100),1)\n",
    "        # print(f'Completed Percent: {pct_completed}%, Corpus: {corpus_title[i]}, Topics: {k}, Alpha: {a}, Beta: {b}, Coherence: {cv}')\n",
    "        print(f'ARTICLES - Completed model based on {k} LDA topics. Finished {pct_completed}% of LDA runs')\n",
    "        tac()\n",
    "                    \n",
    "lda_tuning_tweets= pd.DataFrame(model_results)"
   ]
  },
  {
   "cell_type": "code",
   "execution_count": 118,
   "metadata": {},
   "outputs": [
    {
     "data": {
      "text/html": [
       "<div>\n",
       "<style scoped>\n",
       "    .dataframe tbody tr th:only-of-type {\n",
       "        vertical-align: middle;\n",
       "    }\n",
       "\n",
       "    .dataframe tbody tr th {\n",
       "        vertical-align: top;\n",
       "    }\n",
       "\n",
       "    .dataframe thead th {\n",
       "        text-align: right;\n",
       "    }\n",
       "</style>\n",
       "<table border=\"1\" class=\"dataframe\">\n",
       "  <thead>\n",
       "    <tr style=\"text-align: right;\">\n",
       "      <th></th>\n",
       "      <th>Topics</th>\n",
       "      <th>Coherence</th>\n",
       "    </tr>\n",
       "  </thead>\n",
       "  <tbody>\n",
       "    <tr>\n",
       "      <th>0</th>\n",
       "      <td>2</td>\n",
       "      <td>0.405639</td>\n",
       "    </tr>\n",
       "    <tr>\n",
       "      <th>1</th>\n",
       "      <td>3</td>\n",
       "      <td>0.397374</td>\n",
       "    </tr>\n",
       "    <tr>\n",
       "      <th>2</th>\n",
       "      <td>4</td>\n",
       "      <td>0.398100</td>\n",
       "    </tr>\n",
       "    <tr>\n",
       "      <th>3</th>\n",
       "      <td>5</td>\n",
       "      <td>0.381171</td>\n",
       "    </tr>\n",
       "    <tr>\n",
       "      <th>4</th>\n",
       "      <td>6</td>\n",
       "      <td>0.364934</td>\n",
       "    </tr>\n",
       "    <tr>\n",
       "      <th>5</th>\n",
       "      <td>7</td>\n",
       "      <td>0.403216</td>\n",
       "    </tr>\n",
       "    <tr>\n",
       "      <th>6</th>\n",
       "      <td>8</td>\n",
       "      <td>0.416361</td>\n",
       "    </tr>\n",
       "  </tbody>\n",
       "</table>\n",
       "</div>"
      ],
      "text/plain": [
       "   Topics  Coherence\n",
       "0       2   0.405639\n",
       "1       3   0.397374\n",
       "2       4   0.398100\n",
       "3       5   0.381171\n",
       "4       6   0.364934\n",
       "5       7   0.403216\n",
       "6       8   0.416361"
      ]
     },
     "execution_count": 118,
     "metadata": {},
     "output_type": "execute_result"
    }
   ],
   "source": [
    "lda_tuning_tweets"
   ]
  },
  {
   "cell_type": "markdown",
   "metadata": {},
   "source": [
    "## Tweets: After iterating over varying levels of *n* topics with the LDA topic model, the highest coherence value indicated was 8 topics. For this reason I will continue with *n=8* for the model and analysis"
   ]
  },
  {
   "cell_type": "code",
   "execution_count": 119,
   "metadata": {},
   "outputs": [
    {
     "name": "stdout",
     "output_type": "stream",
     "text": [
      "CPU times: user 1.56 s, sys: 184 ms, total: 1.74 s\n",
      "Wall time: 5.98 s\n"
     ]
    }
   ],
   "source": [
    "%%time\n",
    "\n",
    "lda_model_tweets_8_topics = LdaMulticore(corpus=doc_term_matrix,\n",
    "                                                            id2word=dictionary,\n",
    "                                                            num_topics=8,\n",
    "                                                            random_state=456,\n",
    "                                                            passes=10,\n",
    "                                                            eta='auto',\n",
    "                                                            workers=workers)"
   ]
  },
  {
   "cell_type": "code",
   "execution_count": 120,
   "metadata": {},
   "outputs": [
    {
     "name": "stdout",
     "output_type": "stream",
     "text": [
      "[(0,\n",
      "  '0.010*\"office\" + 0.010*\"get\" + 0.009*\"work\" + 0.006*\"see\" + 0.005*\"s\" + '\n",
      "  '0.005*\"business\" + 0.005*\"never\" + 0.005*\"excel\" + 0.004*\"build\" + '\n",
      "  '0.004*\"tech\"'),\n",
      " (1,\n",
      "  '0.012*\"dont_know_use_here\" + 0.009*\"azure\" + 0.007*\"deal\" + 0.007*\"time\" + '\n",
      "  '0.006*\"make\" + 0.006*\"well\" + 0.006*\"new\" + 0.006*\"get\" + 0.005*\"learn\" + '\n",
      "  '0.005*\"use\"'),\n",
      " (2,\n",
      "  '0.006*\"tab_word\" + 0.006*\"soon\" + 0.004*\"azure\" + 0.004*\"team\" + '\n",
      "  '0.004*\"free\" + 0.004*\"make\" + 0.004*\"learn\" + 0.004*\"excel_smoke\" + '\n",
      "  '0.004*\"whoever_designe\" + 0.004*\"little_wee\"'),\n",
      " (3,\n",
      "  '0.012*\"learn\" + 0.005*\"work\" + 0.005*\"ever_ever_ever_want\" + '\n",
      "  '0.005*\"company\" + 0.005*\"go\" + 0.005*\"say\" + 0.004*\"course\" + 0.004*\"make\" '\n",
      "  '+ 0.004*\"watch\" + 0.004*\"see\"'),\n",
      " (4,\n",
      "  '0.007*\"buy\" + 0.007*\"go\" + 0.006*\"word\" + 0.006*\"business\" + 0.006*\"make\" + '\n",
      "  '0.005*\"think\" + 0.005*\"take\" + 0.005*\"say\" + 0.004*\"office\" + 0.004*\"use\"'),\n",
      " (5,\n",
      "  '0.015*\"word\" + 0.008*\"war\" + 0.008*\"work\" + 0.008*\"go\" + 0.008*\"get\" + '\n",
      "  '0.008*\"this_building_like_designe\" + 0.007*\"new\" + 0.007*\"apple\" + '\n",
      "  '0.007*\"thank\" + 0.006*\"aggressor_kill\"'),\n",
      " (6,\n",
      "  '0.010*\"excel\" + 0.010*\"new\" + 0.006*\"game\" + 0.006*\"make\" + 0.005*\"good\" + '\n",
      "  '0.005*\"get\" + 0.005*\"video_unique\" + 0.005*\"our_latest_technology_teste\" + '\n",
      "  '0.005*\"datum\" + 0.004*\"look\"'),\n",
      " (7,\n",
      "  '0.012*\"use\" + 0.008*\"get\" + 0.008*\"edge\" + 0.005*\"fix\" + 0.005*\"today\" + '\n",
      "  '0.005*\"come\" + 0.004*\"explorer\" + 0.004*\"thank\" + '\n",
      "  '0.004*\"we_announce_strategic_collaboration\" + 0.004*\"top\"')]\n"
     ]
    }
   ],
   "source": [
    "# Print the keywords in the 2 topics\n",
    "pprint(lda_model_tweets_8_topics.print_topics())"
   ]
  },
  {
   "cell_type": "code",
   "execution_count": 122,
   "metadata": {},
   "outputs": [
    {
     "name": "stdout",
     "output_type": "stream",
     "text": [
      "\n",
      "Coherence Score for n=8 for the Tweets:  0.45664423263293846\n"
     ]
    }
   ],
   "source": [
    "coherence_model_lda = CoherenceModel(model=lda_model_tweets_8_topics, \n",
    "                                     texts=lemmatized_tweets, \n",
    "                                     dictionary=dictionary, \n",
    "                                     coherence='c_v')\n",
    "\n",
    "coherence_lda = coherence_model_lda.get_coherence()\n",
    "print('\\nCoherence Score for n=8 for the Tweets: ', coherence_lda)"
   ]
  },
  {
   "cell_type": "code",
   "execution_count": 123,
   "metadata": {},
   "outputs": [
    {
     "data": {
      "text/html": [
       "\n",
       "<link rel=\"stylesheet\" type=\"text/css\" href=\"https://cdn.jsdelivr.net/gh/bmabey/pyLDAvis@3.4.0/pyLDAvis/js/ldavis.v1.0.0.css\">\n",
       "\n",
       "\n",
       "<div id=\"ldavis_el24404132097412166017904191\" style=\"background-color:white;\"></div>\n",
       "<script type=\"text/javascript\">\n",
       "\n",
       "var ldavis_el24404132097412166017904191_data = {\"mdsDat\": {\"x\": [0.012653242561576803, 0.009386898305931975, -0.20400308823941696, -0.10628079855553525, 0.1440147630430976, 0.1755302303323723, 0.071952142627971, -0.10325339007599747], \"y\": [0.048195297976290415, -0.12763835047257094, -0.003240381076798866, 0.1486448527837834, -0.12272329090887668, 0.02876921473506717, 0.1718486100402768, -0.14385595307717125], \"topics\": [1, 2, 3, 4, 5, 6, 7, 8], \"cluster\": [1, 1, 1, 1, 1, 1, 1, 1], \"Freq\": [15.294324816659941, 12.19052330071399, 8.692938260694302, 11.200153810845425, 12.98215823604228, 14.22847769534569, 13.298035048057965, 12.113388831640409]}, \"tinfo\": {\"Term\": [\"dont_know_use_here\", \"word\", \"war\", \"office\", \"this_building_like_designe\", \"excel\", \"edge\", \"aggressor_kill\", \"either_peace_support_bloody\", \"white_good_evil_you\", \"learn\", \"tab_word\", \"thank\", \"ever_ever_ever_want\", \"azure\", \"new\", \"use\", \"video_unique\", \"our_latest_technology_teste\", \"soon\", \"fix\", \"deal\", \"boss_how_good_power\", \"course\", \"well\", \"premium\", \"explorer\", \"go\", \"we_announce_strategic_collaboration\", \"business\", \"breaking_pay_travel_seeke\", \"like_office_proficiency_nee\", \"here_excel_that_will\", \"feel_like_dont_know\", \"you_excel_long_time\", \"associate\", \"abortion\", \"domain_for_sale_markete\", \"overwatch_blizzard\", \"apple_music_office_zoom\", \"learn_excel\", \"waiting_theyre\", \"among_great\", \"most_influential\", \"you_time\", \"globally_we\", \"cofounder_followe\", \"official_twitter\", \"good_luck\", \"north\", \"entrepreneur_python\", \"apple_business\", \"day_poste\", \"suffer\", \"news_basically\", \"part_absolutely\", \"she_clock\", \"sue_gray\", \"document_later\", \"senior_civil\", \"window\", \"overwatch\", \"bring\", \"physical\", \"computer\", \"last_week\", \"never\", \"reminder\", \"office\", \"evil\", \"invest\", \"right\", \"class\", \"call_duty\", \"key\", \"still\", \"build\", \"bug\", \"event\", \"week\", \"s\", \"work\", \"get\", \"tech\", \"follow\", \"end\", \"see\", \"start\", \"stop\", \"business\", \"big\", \"excel\", \"check\", \"take\", \"know\", \"much\", \"new\", \"game\", \"free\", \"buy\", \"say\", \"well\", \"people\", \"go\", \"today\", \"apple\", \"dont_know_use_here\", \"good_politics_state_deliver\", \"hire_state_doesnt_good\", \"trillion_million_total_population\", \"fine_but_state_tomorrow\", \"misconduct_discrimination_seismic_game\", \"premium_pro_plus_fam\", \"last_apple_spy_gold\", \"terrible\", \"one_wasted_time_busy\", \"open_source_engine_that\", \"first_two\", \"so_really_cool_new\", \"retire_explorer_web_browser\", \"marked_end\", \"relationship_technology\", \"for_south_engineer_decision\", \"doc\", \"jump\", \"plus_discovery\", \"goods_russia\", \"translate_adde\", \"new_translator\", \"also_add\", \"post_tutor\", \"can_learn\", \"undercutting_industry\", \"seem_think\", \"cash_advantage\", \"video_believe\", \"indefinitely_sell\", \"use_massive\", \"lead\", \"hide\", \"train\", \"deal\", \"custom\", \"azure\", \"model\", \"evidence\", \"entrepreneur\", \"memory\", \"tech_community\", \"surface\", \"cover\", \"console\", \"time\", \"well\", \"default\", \"try\", \"think\", \"even\", \"early\", \"break\", \"news\", \"make\", \"new\", \"community\", \"learn\", \"support\", \"get\", \"use\", \"say\", \"security\", \"build\", \"work\", \"go\", \"already\", \"know\", \"blizzard\", \"top\", \"link\", \"now\", \"read\", \"see\", \"apple\", \"tab_word\", \"excel_smoke\", \"whoever_designe\", \"little_wee\", \"python\", \"slack_billion_billion_billion\", \"seismic_gaming_deal_come\", \"today_erased_history_also\", \"saved_countless\", \"service_tutor\", \"apple_music_go_cracked\", \"plus_unlock\", \"big_breake\", \"best_graduating_student_best\", \"modern_workplace\", \"community_game\", \"azure_analytic\", \"all_free\", \"discord\", \"now_guess\", \"sector_apple\", \"well_legal\", \"continue_put\", \"per_analysis\", \"going_outside\", \"need_focus\", \"many_more\", \"voting\", \"donated_federal\", \"wrote_post\", \"round\", \"removed_article_protection_older\", \"controller\", \"speaker\", \"soon\", \"if_want\", \"premium_account\", \"bing\", \"life\", \"translate\", \"engineer\", \"team\", \"choice\", \"web\", \"cloud\", \"medium\", \"series\", \"release\", \"free\", \"register\", \"azure\", \"platform\", \"available\", \"learn\", \"apple\", \"make\", \"also\", \"day\", \"need\", \"big\", \"add\", \"love\", \"ever_ever_ever_want\", \"for_swap\", \"the_next_future_of\", \"swap_focal\", \"and_sniper\", \"and_telegram\", \"apple_music_unlock_zoom\", \"adobe_tuts_unlock_premium\", \"and_technology_from_kille\", \"go_zoom\", \"well_paralyze_country_effectively\", \"worst_virus\", \"stopping_many_business_russia\", \"officially_ending_support_iconic\", \"russia_the_company_large\", \"quantum\", \"stalker_theyre_living_war\", \"ended_showcase_extended_beginne\", \"apple_puma\", \"bobby_continue\", \"serve_blizzard\", \"culture_several\", \"determination_keep\", \"management_positive\", \"soft_exit\", \"big_payday\", \"eu_grant\", \"various_way\", \"international_foundation\", \"founder_bill\", \"course\", \"accessibility\", \"watch\", \"learn\", \"lunch\", \"pull\", \"sell\", \"net\", \"project\", \"remote\", \"post\", \"company\", \"test\", \"read\", \"say\", \"design\", \"service\", \"talk\", \"go\", \"work\", \"today\", \"power\", \"see\", \"make\", \"buy\", \"always\", \"business\", \"big\", \"azure\", \"excel\", \"still\", \"security\", \"want_say_please_take\", \"can_wait_really\", \"boss_how_good_power\", \"air_fire_must_water\", \"senate_lot_information_take\", \"hulu_visa_meta_apple\", \"funky_competition_entire_so\", \"us_get_sweet_wallet\", \"breaking_spied_via_seale\", \"concealed_possession_privileged_federal\", \"how_repeatedly\", \"search_nondisclosure_legal_reveal\", \"premium_go\", \"give_space_heading_next\", \"paint\", \"premium\", \"respect_longevity_word_nothe\", \"move_image_go_hell\", \"works_still_standard_want\", \"word_excel\", \"scorn\", \"retire\", \"contest_giveaway\", \"follow_moss\", \"twitter_killer\", \"private_order\", \"dick\", \"most_suck\", \"word_add\", \"meta_dell\", \"drop\", \"judge\", \"bank\", \"picture\", \"award\", \"high\", \"acquisition\", \"publisher\", \"monopoly\", \"buy\", \"business\", \"join\", \"think\", \"take\", \"word\", \"go\", \"blizzard\", \"run\", \"really\", \"make\", \"say\", \"office\", \"ever\", \"use\", \"great\", \"write\", \"good\", \"time\", \"new\", \"know\", \"white_good_evil_you\", \"either_peace_support_bloody\", \"aggressor_kill\", \"this_building_like_designe\", \"morgan\", \"cofounder_apple_cofounder_cofounder\", \"war\", \"excel_bliss\", \"get_store\", \"according_bobby_leave_deal\", \"donate\", \"reset\", \"no_one_acquisition\", \"spend_billion\", \"input\", \"slack\", \"this_shocke\", \"beholden_giant\", \"true_privacy\", \"your_phone\", \"bought_crash\", \"world_investment\", \"movie_graduated\", \"she_business\", \"volume\", \"of_payment\", \"one_bigg\", \"achievement\", \"get_showe\", \"serum_institute\", \"gold\", \"word\", \"public\", \"thank\", \"chat\", \"instead\", \"gaming\", \"selling_premium\", \"put\", \"part\", \"apple\", \"open\", \"finally\", \"go\", \"first\", \"s\", \"way\", \"work\", \"leave\", \"well\", \"new\", \"get\", \"time\", \"want\", \"know\", \"long\", \"come\", \"office\", \"make\", \"game\", \"day\", \"good\", \"security\", \"audit_unauthorized_dominion\", \"breaking_new\", \"video_unique\", \"our_latest_technology_teste\", \"available_customer_service_specialist\", \"digital_marketer_it_support\", \"graphic_designer_developer\", \"gaming_fun\", \"ether\", \"banjo_crash\", \"military_worked_tandem_government\", \"babbling_talke\", \"place_dropout_cant_later\", \"ad_flight_simulator\", \"duty_overwatch\", \"rumble_pizza\", \"patriot_mobile\", \"ben_ke\", \"instant\", \"big_tech\", \"everyone_ill\", \"people_learne\", \"working_data\", \"science_intern\", \"working_explore\", \"meeting_amaze\", \"so_bought\", \"media_complex\", \"organization_wholly\", \"funded_directe\", \"draw\", \"schedule\", \"form\", \"excel\", \"rank\", \"reportedly\", \"billion_billion\", \"sale\", \"position\", \"content\", \"subscription\", \"new\", \"major\", \"look\", \"dynamic\", \"now\", \"datum\", \"last\", \"game\", \"news\", \"halo\", \"good\", \"store\", \"switch\", \"pay\", \"make\", \"people\", \"report\", \"back\", \"day\", \"azure\", \"help\", \"see\", \"get\", \"access\", \"also\", \"apple\", \"know\", \"big\", \"tech\", \"we_announce_strategic_collaboration\", \"explorer\", \"zoom_pro_learn_mop\", \"weekly\", \"take_free_they_social\", \"more_and_end_get\", \"media_marketing_language_classe\", \"the_first_ai_token\", \"active_directory\", \"another_massive_gaming_company\", \"time_climax_meanwhile\", \"power_play_console_war\", \"productivity\", \"partnership_cloud\", \"bullish\", \"technology_many\", \"continue_good\", \"people_u\", \"after_announcement\", \"how_stock\", \"new_geometry\", \"quake\", \"di_save\", \"certificate\", \"ally\", \"applied_got\", \"two_later\", \"final_twitter\", \"edge\", \"thread\", \"affordable_premium\", \"credit\", \"fix\", \"zoom\", \"wonder\", \"make_happen\", \"protect\", \"use\", \"price\", \"suite\", \"product\", \"button\", \"top\", \"version\", \"update\", \"today\", \"come\", \"get\", \"market\", \"more\", \"industry\", \"thank\", \"deal\", \"block\", \"place\", \"try\", \"feature\", \"game\", \"security\", \"learn\", \"next\", \"way\", \"find\", \"work\", \"also\"], \"Freq\": [73.0, 168.0, 61.0, 130.0, 53.0, 128.0, 55.0, 41.0, 41.0, 41.0, 166.0, 27.0, 86.0, 30.0, 140.0, 205.0, 188.0, 31.0, 31.0, 38.0, 44.0, 86.0, 25.0, 28.0, 129.0, 27.0, 25.0, 184.0, 22.0, 115.0, 16.987404611382928, 10.264198807005501, 10.174164641053183, 10.174004208328606, 10.174070418659385, 14.538556108037447, 18.315621196203463, 6.029560913637094, 5.230440843841699, 5.200598234944384, 4.372113459023826, 4.372019661055224, 4.372492895150207, 4.372448330504491, 4.372405463559565, 4.372437719874559, 4.341560362346241, 4.34153065258243, 4.324715350690849, 3.542949815000197, 3.5130015242287556, 3.5129870937720473, 3.511841357951953, 3.4954770078324966, 3.4824384535590336, 3.4824032262676585, 3.482194196857991, 3.482116739259485, 3.482614377803312, 3.4826211686064688, 6.863934164744905, 12.871490329603109, 25.86761057184034, 6.595996659819347, 19.04010651947995, 4.111257064089917, 33.29989846023407, 7.056141906142537, 73.21630732334829, 6.890818530017084, 9.119129334470774, 29.61273341965803, 10.791827235273201, 23.873764554702444, 13.225434629783864, 30.23575905067105, 31.98282897879526, 13.197901318385023, 16.83969954962234, 19.734607051418028, 39.374383932154316, 62.49869507807387, 69.39150288899067, 31.633798673548775, 21.12544163214649, 21.34855346985987, 45.43149852959972, 22.972456903430224, 24.766938521493724, 34.57156463176719, 29.612482159941234, 32.845352655538775, 22.746419927257094, 25.88516310029962, 27.74737788674884, 19.352371416436064, 29.38256593746484, 25.583322086189042, 22.054903953306386, 23.586656188040322, 23.142794014411308, 23.394661508091733, 22.063596181346963, 23.587326779852045, 21.83158499609673, 21.583321721191723, 71.03450790864638, 10.074327260696304, 10.07427854648329, 10.074361766597187, 10.074288018691377, 9.955444283355503, 9.121623396798457, 5.876561279415764, 5.866133731485786, 5.818235481540623, 5.818485818468607, 5.818466197466143, 5.81845401891289, 5.0444511412976585, 5.0443953229285805, 5.044363523372864, 5.044359463855113, 4.239876373792081, 4.8827348389924765, 3.436507621351723, 3.435734621513286, 3.407108932091443, 3.4069918826629535, 3.4070429649279883, 3.40695399383061, 3.4061989235289065, 3.3776693093605066, 3.377657469100399, 3.377657807393545, 3.377609093180532, 3.3776351417527684, 3.377680473034322, 19.58880507516659, 5.064372886368008, 8.472227078259923, 41.07078519797224, 7.213765750039979, 52.272293718922135, 9.5600641690562, 6.3028512384581905, 4.897032798804977, 6.234636455341383, 10.69588272991154, 11.644293653787605, 10.52681599413171, 16.527372536909485, 39.518366070360045, 36.180649519826375, 9.922796288428618, 21.482793379528456, 25.437336061097337, 21.273675441616327, 12.028016862864638, 14.87839372006976, 17.816143577831685, 36.626641671687445, 34.16510436909832, 17.452700366266534, 27.657513382622557, 19.502674287041618, 32.018306890441885, 26.857601647840404, 21.68510079982683, 18.63274399008859, 17.227152206843144, 23.420981713164235, 21.710390242243562, 14.2471116463229, 18.364439636538087, 15.435063210724085, 14.55778383346899, 13.307812310039168, 13.86268749384751, 14.260508054901512, 14.932653234330887, 14.292146583080958, 26.211879378509582, 16.723208528000676, 16.72309659570125, 16.72292097778319, 12.09493242324492, 10.537550796002414, 12.740446958958108, 7.175127679705124, 7.175108863499617, 4.8166957970977595, 4.8167223327721915, 4.816624392010196, 4.124988924266143, 4.798458551760534, 4.065484362985157, 4.039356855472139, 3.320494338359949, 3.3198902899165046, 8.625528081905683, 3.2920893462804135, 3.292028314229219, 3.2920837979121234, 3.292109609886344, 3.2919407465035917, 3.2919004605251354, 3.263501499280698, 3.2632146727634233, 3.2633338420649656, 3.263293797319913, 3.202929721420719, 5.523681911267592, 7.175525232354803, 14.25904983405181, 6.047731085899977, 23.001782612658058, 7.403556897022789, 4.831108528049054, 9.104937015140536, 15.250795095224554, 3.772189171984126, 10.677579067515751, 18.476485188306214, 8.058113343182141, 15.53389407394161, 15.6109411283565, 9.984314791828352, 13.842622117915404, 12.132587992665018, 18.07110306726903, 11.637743016379394, 18.6265362252861, 12.043266017724477, 11.783340884722701, 17.6448996086717, 16.454183106068985, 17.65244924928114, 13.948924029691879, 13.840088202240507, 12.39283927322891, 11.624665271085457, 9.996564624079996, 10.016060142852128, 29.034134777578412, 18.023802407827507, 18.023619651609227, 18.02373775936934, 18.023423219755564, 17.203645959487737, 11.521934159654624, 11.521869511196456, 13.761498479877169, 9.76502466057166, 9.765723982835487, 9.765619550710756, 5.782723150859931, 5.752582050479073, 4.962889634001102, 4.200559677442381, 5.572472689264947, 5.572397473270348, 4.1710877507655315, 4.171817221589177, 4.171834937753195, 4.1721960988512246, 4.17220076099965, 4.172161909762771, 4.172145747648229, 4.172153517895604, 4.142004025647581, 4.113922662441116, 4.113869513949065, 4.113902459797939, 23.693809107013625, 14.432437584090074, 23.408667136350726, 62.44602941319581, 6.610601360231937, 6.5542316344289135, 20.50008203058743, 11.959447573259197, 17.603276619845936, 9.936391561058258, 14.57669315905261, 27.924225182973014, 12.428514407407665, 21.61887208551375, 26.56517037650802, 15.238438506570397, 17.048492146365714, 15.573707897104446, 27.626446925217596, 29.099327774681672, 21.379881654544725, 16.670518719493515, 22.137467098055744, 23.433449874141193, 20.06947729932968, 14.326155518863263, 17.032129870251524, 15.769039483737778, 16.52727389830963, 15.517280982280736, 14.97191902157838, 14.87531681972252, 20.8596906201978, 20.859158874352087, 23.810116309711784, 18.953576304478098, 14.90319758644168, 11.5986889670771, 10.020029219121229, 10.019972297817962, 12.321235741865818, 12.289695575673052, 12.289720073449141, 12.289652344303482, 7.607836962847544, 8.351470558666952, 18.62472536347715, 24.53519139909753, 5.910512509342668, 5.910440817321464, 5.910419922159505, 14.752235084948193, 4.272496090966912, 7.118740304260735, 4.242772002557507, 4.242847297192842, 4.242808028698816, 4.240222072275691, 9.114788117574498, 4.212832477823078, 4.204934827125428, 4.1642703201234585, 19.66515023714707, 12.255013929958185, 15.576925337143248, 8.325005755261728, 7.48900761783276, 24.967444570882137, 23.08967562314396, 8.050191864655051, 13.379296132229076, 42.5032697259903, 38.743451924926504, 24.756074876688206, 30.054972665820706, 29.600651320916167, 38.849593583495256, 40.499383344850635, 22.892654420510382, 21.606908817077404, 18.556084035919238, 38.267373672762936, 27.910866778525747, 26.92769608966895, 19.582682076554956, 26.476032032947323, 19.146608692746, 16.354906976609005, 18.904357390222426, 19.170037212961745, 19.67405589927853, 17.33219964024991, 40.14672578522876, 40.147300683049295, 40.147705006791206, 51.55402523188169, 10.967213585645295, 10.96719068449585, 57.158931516362756, 9.33634218484558, 9.246384890438717, 6.861865880134698, 11.939476357439782, 5.8953587989514125, 5.112301375391766, 5.05325786880289, 4.328892142794967, 4.328743285323578, 4.3287172253949, 4.32869748302469, 4.328655629199844, 4.268071822887136, 4.220272780675416, 3.4835447772890116, 3.4537855232809402, 3.453776046943239, 3.453776441790643, 3.453537953958499, 3.442568303374675, 4.115407232827712, 3.423559164793686, 3.4235181006636477, 18.831003964273712, 103.67313711599651, 12.355826361590598, 46.16427603612471, 12.5505587837896, 11.458315310666762, 30.345033823064437, 5.988680193242164, 16.267092353424335, 19.641744139342677, 48.030441743263346, 23.529029468928986, 15.107079640926933, 55.074655261916526, 25.882102042266737, 37.866810538943454, 30.338902632571827, 55.87261343681633, 22.18095251719492, 38.0726271174735, 48.94820609693884, 52.527014522899925, 34.89353061574454, 22.680841966044532, 30.315802480035796, 17.236873904130753, 23.830133781822763, 25.685539107501803, 29.39240286420738, 23.818702159776013, 22.307278416308964, 22.20434959497892, 20.624367707023694, 19.430411797080286, 20.239413788087155, 29.93685250530403, 29.936235491903695, 8.339615853535776, 8.339575998603218, 8.339601830503948, 6.736795124717826, 6.735740445113666, 5.1148573132498045, 5.0850236820676065, 5.056060216912915, 5.055931426436409, 5.0551930031026355, 4.305119482099236, 4.27578440660116, 4.275706910898965, 4.27562166562655, 3.46537420797726, 17.236350524315114, 3.4355199112744774, 3.4355438980394424, 3.4355306130619234, 3.435493341319439, 3.435514375867178, 3.435477842179, 3.435230593986282, 3.435505150188345, 3.435520649328784, 3.4355213873830905, 6.779285649204252, 6.6544385968593165, 11.46215018208333, 64.20130119856111, 5.62202461502132, 9.929648315382916, 5.926688635441101, 16.258322288223336, 13.008592418527183, 14.597199697508241, 10.7968370318151, 61.771437479265266, 14.328586308722471, 27.922218138912655, 18.15120574008605, 23.41248786138913, 28.72841257133714, 16.25146723982345, 38.74472765172923, 21.169289885106423, 16.42522884133963, 32.50521359134574, 22.074947468108256, 13.378570185784156, 18.678840763888754, 37.58543327793156, 24.972049751187463, 17.52676603731844, 18.154848776143524, 25.346816014785787, 27.648742448354874, 22.375645553711415, 26.819263878665137, 31.958312397923027, 18.03750699804261, 19.495252820134088, 21.27221893870766, 19.61526340260774, 18.73199986337737, 17.293288461853628, 21.319033481368027, 22.702051438391383, 6.717266654138883, 8.939862098223129, 6.659293100012897, 6.659204355719724, 6.659242677119049, 6.658142113422649, 5.87397064673298, 5.854515477370479, 5.854545058801537, 5.854362864078431, 13.813244200952976, 5.778383630711776, 5.001832407893116, 4.215664194607047, 4.215686044527715, 4.215624864749845, 4.215558978835216, 4.215534103540918, 3.4407019652498656, 3.4402609330050042, 3.4401775671538415, 10.243102297209909, 3.3808678063408704, 3.3680361883143073, 3.368053332098216, 3.36805299594559, 44.20366957991104, 12.43714292035513, 5.855735039096362, 8.792802047550886, 30.042721204473416, 16.555476475271693, 10.644651399272227, 6.1104607419349, 10.587213672431538, 68.81020582045433, 16.121729330113485, 6.912548471266813, 18.02871107396876, 7.459180374257262, 20.95567938524331, 17.19123655773398, 19.308282766583062, 29.692060231493492, 27.380774278656016, 46.29184162282672, 14.98901465198553, 13.809284323022741, 17.03262226901267, 21.913754706679654, 18.809503534465332, 10.701278998285085, 10.016634256389315, 16.214584097593352, 12.046517434016149, 20.365849852940237, 16.49275308454518, 19.840003611404637, 12.314979677749518, 14.111948079500914, 13.359728592185155, 13.945803971964896, 12.847336523338834], \"Total\": [73.0, 168.0, 61.0, 130.0, 53.0, 128.0, 55.0, 41.0, 41.0, 41.0, 166.0, 27.0, 86.0, 30.0, 140.0, 205.0, 188.0, 31.0, 31.0, 38.0, 44.0, 86.0, 25.0, 28.0, 129.0, 27.0, 25.0, 184.0, 22.0, 115.0, 18.007037559571813, 11.137288366604103, 11.138014075799987, 11.13802959090052, 11.138166013943376, 16.275491367296837, 20.51233613450027, 6.845396987858431, 5.986785561710816, 5.986347408394373, 5.127794927927651, 5.127759463626814, 5.128637461072509, 5.128613470465393, 5.12856544581882, 5.128608735102468, 5.126805303596782, 5.126778575697858, 5.127315315686048, 4.269620480548145, 4.269174236978481, 4.269158586951547, 4.268084327178186, 4.268573631189252, 4.268135031963622, 4.268151477936107, 4.267917661888871, 4.267881688220633, 4.268701439076246, 4.26872150987378, 8.536625741816838, 17.00692064773782, 37.29951557916948, 8.533820393485454, 27.253146310561768, 5.120235831121745, 52.622655576577806, 9.375578618818476, 130.85155932066056, 9.344093738975442, 13.586612932560373, 59.123294719129014, 16.936162961966616, 49.99659607461697, 22.833629848874004, 70.69606415647138, 76.63002447067157, 22.94608959244724, 32.18455951450064, 40.49607496441623, 109.9338498012888, 212.8745167856967, 261.09136262205004, 83.44268826172421, 47.029628566729926, 48.082958364716674, 151.43314753578895, 58.93621083023115, 66.70316996284244, 115.93632343060882, 95.50368111380568, 128.7681298782717, 70.48565911805792, 100.71426835160099, 123.86851249167064, 51.96828492442334, 205.1762530246571, 138.8144921728406, 92.5852742593212, 125.36122096364217, 120.96273350828187, 129.6195166155467, 96.70673756567146, 184.97122094234751, 113.85002214035384, 144.08391173463556, 73.33670881038358, 10.833812333217754, 10.83376187670254, 10.833863278806666, 10.833795665312554, 10.833907996050247, 9.999409700195725, 6.665238520703208, 6.666841531323662, 6.666539908963832, 6.667434990965957, 6.667419233436494, 6.667408844231725, 5.832473051025806, 5.832409710727966, 5.832389268384709, 5.832389573568263, 4.998909137322972, 5.836413246294878, 4.166372166125117, 4.165729412614638, 4.165485227418309, 4.1653768257930635, 4.165449767857195, 4.166745681101149, 4.1659107252734815, 4.165608896686631, 4.165610403800146, 4.165612885420201, 4.165554542851624, 4.165587641077988, 4.165652481354212, 32.69046714639966, 6.672601285954274, 12.47650980285479, 86.13776702625348, 10.868513685975733, 140.35360228783023, 15.785402704742662, 9.191993961036905, 6.653987887078689, 9.147457385157125, 19.06980443985417, 21.708710692401116, 19.111957917175797, 37.62845515112162, 141.70629786696614, 129.6195166155467, 18.404168561661077, 72.71365734791695, 98.58630456789442, 72.71976638232378, 26.77110763159289, 39.12556176263149, 54.37725730630728, 211.14362993304226, 205.1762530246571, 57.7291194958823, 166.48589772373168, 81.81551799614812, 261.09136262205004, 188.3151166894815, 120.96273350828187, 90.13063057786411, 76.63002447067157, 212.8745167856967, 184.97122094234751, 45.96980306209569, 123.86851249167064, 66.73120222908082, 55.18211486249993, 40.18202432159446, 59.437677151083975, 78.21542900474395, 151.43314753578895, 144.08391173463556, 27.423366113071513, 17.753593756598946, 17.75350936749073, 17.75336201549665, 12.914018674731611, 11.301250521451712, 13.725006701469667, 8.086816932095887, 8.086824761999429, 5.670184695283889, 5.670220712762352, 5.6701270748389305, 4.858573308393091, 5.669586831531343, 4.862997443971191, 4.861427254017612, 4.053894186780312, 4.053413068583259, 10.538124847024934, 4.054518687915061, 4.054468343993036, 4.05502498953558, 4.055062196309449, 4.0548719801015665, 4.054848626024627, 4.055957759626622, 4.0556218823142824, 4.056736132922309, 4.05671875907845, 4.057681942173417, 7.3230043878612205, 9.753094761422647, 21.358225356535563, 8.126539758727848, 38.43594164747173, 10.584082886735276, 6.500601677155141, 14.74082939191893, 31.307093056801147, 4.870395270947532, 20.53612865109105, 52.98965806200786, 15.580137958726336, 44.12074771285262, 48.04814734968488, 25.62913338169324, 47.823644539040956, 38.22122745606453, 92.5852742593212, 39.80164695718545, 140.35360228783023, 51.49191425622595, 49.018124788069734, 166.48589772373168, 144.08391173463556, 211.14362993304226, 96.6969179998181, 113.59033073862132, 96.15373571638291, 95.50368111380568, 39.206166033056896, 46.58283043074148, 30.361352429992227, 18.86968757606555, 18.86954965541143, 18.869683821143038, 18.869381735900703, 18.049590299344345, 12.312797934262896, 12.312741716305387, 14.780280672076739, 10.671516088535206, 10.676871783398008, 10.67677464107648, 6.5738800138098865, 6.572965467709759, 5.754059115987037, 4.932187001770804, 6.577404132054125, 6.577411132827256, 4.931350773467368, 4.932919762803807, 4.932949281931755, 4.933491576355053, 4.933510267251125, 4.933475417857061, 4.933458450712435, 4.933468517615341, 4.93279552831417, 4.9349605619863, 4.934906116091777, 4.9349538511632245, 28.7655650668499, 20.63948133584471, 43.22752257205108, 166.48589772373168, 9.066410550725406, 9.032138650269971, 53.297594220250424, 23.969044853441595, 44.1404952943081, 19.105530348410596, 34.79668348674288, 96.96098034616813, 28.071354281257968, 78.21542900474395, 120.96273350828187, 43.42040541570167, 54.92894208665737, 50.884912250266964, 184.97122094234751, 212.8745167856967, 113.85002214035384, 65.20548722631565, 151.43314753578895, 211.14362993304226, 125.36122096364217, 51.88817274494456, 115.93632343060882, 95.50368111380568, 140.35360228783023, 128.7681298782717, 70.69606415647138, 90.13063057786411, 21.681294214207615, 21.680870038114914, 25.014749360639417, 20.007094122562314, 15.846845825627216, 12.507441211650997, 10.838847455683936, 10.838825760955622, 13.340080706124478, 13.338966943056429, 13.339035371500579, 13.338980068161687, 8.337638380447176, 9.17100452291474, 20.81439281723759, 27.52585802162075, 6.669886129256779, 6.6698322621576915, 6.669824750464436, 16.671496271347944, 5.00225022816258, 8.339669651634477, 5.001073957641226, 5.002213304022219, 5.002174963915263, 5.001383247949061, 10.809921947448288, 5.001993057619078, 5.002376380841907, 5.002104655228582, 24.143022423899836, 15.755550503669763, 20.845381530813512, 10.84868278300797, 10.000272241593974, 45.02379072273712, 42.6630353692959, 11.73023568095386, 23.447354941990138, 125.36122096364217, 115.93632343060882, 59.126435174432196, 98.58630456789442, 100.71426835160099, 168.45818868314518, 184.97122094234751, 66.73120222908082, 63.30336630178716, 46.19585002213348, 211.14362993304226, 120.96273350828187, 130.85155932066056, 61.95674727276585, 188.3151166894815, 63.829760175246655, 44.9066563770139, 119.24960773695038, 141.70629786696614, 205.1762530246571, 123.86851249167064, 41.377859123599464, 41.37846438351769, 41.37895772575175, 53.21207115902505, 11.81256292777627, 11.81264957751526, 61.63150975345912, 10.124749833172634, 10.12149781634135, 7.590629467016374, 13.483661106657848, 6.745294275820878, 5.8979827274231225, 5.899010597837138, 5.057270270375067, 5.057142700634593, 5.057123718558168, 5.057111722541208, 5.057073312604947, 5.055230888598632, 5.05566408956523, 4.211988111436096, 4.211998904156051, 4.211988545537373, 4.212681632328094, 4.212432946066041, 4.210926729203473, 5.060338205517572, 4.212238458039874, 4.212203688568548, 24.417865416654777, 168.45818868314518, 18.4871963941594, 86.59407413900502, 20.17633815324549, 18.493930260356173, 64.73306465467158, 8.424205205322398, 31.794903723194516, 41.11587470612552, 144.08391173463556, 53.69642049444249, 29.357205541014608, 184.97122094234751, 63.77329123868985, 109.9338498012888, 80.80520306300755, 212.8745167856967, 54.53562532533834, 129.6195166155467, 205.1762530246571, 261.09136262205004, 141.70629786696614, 66.8737106224946, 123.86851249167064, 42.538007774408236, 104.56995843131118, 130.85155932066056, 211.14362993304226, 138.8144921728406, 113.59033073862132, 119.24960773695038, 90.13063057786411, 20.159820532126254, 20.999804411960074, 31.07979501039649, 31.07933323480196, 9.23681139712744, 9.236781152112458, 9.236870419980118, 7.552999102518671, 7.555294679189205, 5.873619777978624, 5.873143131702975, 5.874565135987013, 5.874469599917778, 5.873909000660674, 5.034169603830834, 5.035224242834773, 5.035157405275808, 5.035070787117206, 4.194306458519557, 20.963102206352925, 4.1930129825073275, 4.1930498322293515, 4.193034425841253, 4.192991254448629, 4.193024350531619, 4.192992204587919, 4.193260504010737, 4.194032081897051, 4.19405134698496, 4.194055732814245, 8.397217790065225, 8.412122111550925, 16.819225593733147, 128.7681298782717, 7.530348134463044, 15.048987198461582, 8.382379448066295, 31.07165546855947, 23.547820342486087, 27.73872048288126, 19.21708345568687, 205.1762530246571, 28.446703315110355, 73.87474443534924, 40.28967351044257, 59.437677151083975, 81.29776523346683, 35.207945645845456, 138.8144921728406, 54.37725730630728, 38.06629498048877, 119.24960773695038, 63.78433649465695, 28.3373239994379, 53.823223327687195, 211.14362993304226, 96.70673756567146, 50.812433719915845, 54.86649795357196, 113.59033073862132, 140.35360228783023, 92.1833441667724, 151.43314753578895, 261.09136262205004, 63.42006836134654, 96.6969179998181, 144.08391173463556, 123.86851249167064, 95.50368111380568, 83.44268826172421, 22.52815923238456, 25.03253731034284, 7.506304210051898, 10.015320070032733, 7.505051623840454, 7.504973598865794, 7.505035588831042, 7.505240798632133, 6.673569369894535, 6.673856664930702, 6.6739177101817075, 6.6737690290954, 15.87764072995175, 6.6709416835993265, 5.83832826270908, 5.004499862816003, 5.004539621327125, 5.004506541162531, 5.0044357278516785, 5.005323805335603, 4.1703841084709, 4.170012645184326, 4.169951925043774, 12.479729608733614, 4.171532613159239, 4.17038085115265, 4.170429817607437, 4.170440158118723, 55.922809153967286, 15.814228250606075, 7.514926496414433, 11.682417902063117, 44.35015809832454, 25.72292429549185, 15.889468670441051, 8.32629740160198, 16.636829605636958, 188.3151166894815, 32.46010809172032, 10.000283340508776, 39.22010986261738, 11.709572662594454, 55.18211486249993, 44.50090134589532, 54.4179755903033, 113.85002214035384, 104.56995843131118, 261.09136262205004, 37.52539456431253, 34.07124625082672, 51.890714799149016, 86.59407413900502, 86.13776702625348, 22.637645639317494, 20.9012585637257, 72.71365734791695, 34.20745345029757, 138.8144921728406, 90.13063057786411, 166.48589772373168, 40.99920363690571, 80.80520306300755, 73.07527833760415, 212.8745167856967, 96.6969179998181], \"Category\": [\"Default\", \"Default\", \"Default\", \"Default\", \"Default\", \"Default\", \"Default\", \"Default\", \"Default\", \"Default\", \"Default\", \"Default\", \"Default\", \"Default\", \"Default\", \"Default\", \"Default\", \"Default\", \"Default\", \"Default\", \"Default\", \"Default\", \"Default\", \"Default\", \"Default\", \"Default\", \"Default\", \"Default\", \"Default\", \"Default\", \"Topic1\", \"Topic1\", \"Topic1\", \"Topic1\", \"Topic1\", \"Topic1\", \"Topic1\", \"Topic1\", \"Topic1\", \"Topic1\", \"Topic1\", \"Topic1\", \"Topic1\", \"Topic1\", \"Topic1\", \"Topic1\", \"Topic1\", \"Topic1\", \"Topic1\", \"Topic1\", \"Topic1\", \"Topic1\", \"Topic1\", \"Topic1\", \"Topic1\", \"Topic1\", \"Topic1\", \"Topic1\", \"Topic1\", \"Topic1\", \"Topic1\", \"Topic1\", \"Topic1\", \"Topic1\", \"Topic1\", \"Topic1\", \"Topic1\", \"Topic1\", \"Topic1\", \"Topic1\", \"Topic1\", \"Topic1\", \"Topic1\", \"Topic1\", \"Topic1\", \"Topic1\", \"Topic1\", \"Topic1\", \"Topic1\", \"Topic1\", \"Topic1\", \"Topic1\", \"Topic1\", \"Topic1\", \"Topic1\", \"Topic1\", \"Topic1\", \"Topic1\", \"Topic1\", \"Topic1\", \"Topic1\", \"Topic1\", \"Topic1\", \"Topic1\", \"Topic1\", \"Topic1\", \"Topic1\", \"Topic1\", \"Topic1\", \"Topic1\", \"Topic1\", \"Topic1\", \"Topic1\", \"Topic1\", \"Topic1\", \"Topic1\", \"Topic2\", \"Topic2\", \"Topic2\", \"Topic2\", \"Topic2\", \"Topic2\", \"Topic2\", \"Topic2\", \"Topic2\", \"Topic2\", \"Topic2\", \"Topic2\", \"Topic2\", \"Topic2\", \"Topic2\", \"Topic2\", \"Topic2\", \"Topic2\", \"Topic2\", \"Topic2\", \"Topic2\", \"Topic2\", \"Topic2\", \"Topic2\", \"Topic2\", \"Topic2\", \"Topic2\", \"Topic2\", \"Topic2\", \"Topic2\", \"Topic2\", \"Topic2\", \"Topic2\", \"Topic2\", \"Topic2\", \"Topic2\", \"Topic2\", \"Topic2\", \"Topic2\", \"Topic2\", \"Topic2\", \"Topic2\", \"Topic2\", \"Topic2\", \"Topic2\", \"Topic2\", \"Topic2\", \"Topic2\", \"Topic2\", \"Topic2\", \"Topic2\", \"Topic2\", \"Topic2\", \"Topic2\", \"Topic2\", \"Topic2\", \"Topic2\", \"Topic2\", \"Topic2\", \"Topic2\", \"Topic2\", \"Topic2\", \"Topic2\", \"Topic2\", \"Topic2\", \"Topic2\", \"Topic2\", \"Topic2\", \"Topic2\", \"Topic2\", \"Topic2\", \"Topic2\", \"Topic2\", \"Topic2\", \"Topic2\", \"Topic2\", \"Topic3\", \"Topic3\", \"Topic3\", \"Topic3\", \"Topic3\", \"Topic3\", \"Topic3\", \"Topic3\", \"Topic3\", \"Topic3\", \"Topic3\", \"Topic3\", \"Topic3\", \"Topic3\", \"Topic3\", \"Topic3\", \"Topic3\", \"Topic3\", \"Topic3\", \"Topic3\", \"Topic3\", \"Topic3\", \"Topic3\", \"Topic3\", \"Topic3\", \"Topic3\", \"Topic3\", \"Topic3\", \"Topic3\", \"Topic3\", \"Topic3\", \"Topic3\", \"Topic3\", \"Topic3\", \"Topic3\", \"Topic3\", \"Topic3\", \"Topic3\", \"Topic3\", \"Topic3\", \"Topic3\", \"Topic3\", \"Topic3\", \"Topic3\", \"Topic3\", \"Topic3\", \"Topic3\", \"Topic3\", \"Topic3\", \"Topic3\", \"Topic3\", \"Topic3\", \"Topic3\", \"Topic3\", \"Topic3\", \"Topic3\", \"Topic3\", \"Topic3\", \"Topic3\", \"Topic3\", \"Topic3\", \"Topic3\", \"Topic4\", \"Topic4\", \"Topic4\", \"Topic4\", \"Topic4\", \"Topic4\", \"Topic4\", \"Topic4\", \"Topic4\", \"Topic4\", \"Topic4\", \"Topic4\", \"Topic4\", \"Topic4\", \"Topic4\", \"Topic4\", \"Topic4\", \"Topic4\", \"Topic4\", \"Topic4\", \"Topic4\", \"Topic4\", \"Topic4\", \"Topic4\", \"Topic4\", \"Topic4\", \"Topic4\", \"Topic4\", \"Topic4\", \"Topic4\", \"Topic4\", \"Topic4\", \"Topic4\", \"Topic4\", \"Topic4\", \"Topic4\", \"Topic4\", \"Topic4\", \"Topic4\", \"Topic4\", \"Topic4\", \"Topic4\", \"Topic4\", \"Topic4\", \"Topic4\", \"Topic4\", \"Topic4\", \"Topic4\", \"Topic4\", \"Topic4\", \"Topic4\", \"Topic4\", \"Topic4\", \"Topic4\", \"Topic4\", \"Topic4\", \"Topic4\", \"Topic4\", \"Topic4\", \"Topic4\", \"Topic4\", \"Topic4\", \"Topic5\", \"Topic5\", \"Topic5\", \"Topic5\", \"Topic5\", \"Topic5\", \"Topic5\", \"Topic5\", \"Topic5\", \"Topic5\", \"Topic5\", \"Topic5\", \"Topic5\", \"Topic5\", \"Topic5\", \"Topic5\", \"Topic5\", \"Topic5\", \"Topic5\", \"Topic5\", \"Topic5\", \"Topic5\", \"Topic5\", \"Topic5\", \"Topic5\", \"Topic5\", \"Topic5\", \"Topic5\", \"Topic5\", \"Topic5\", \"Topic5\", \"Topic5\", \"Topic5\", \"Topic5\", \"Topic5\", \"Topic5\", \"Topic5\", \"Topic5\", \"Topic5\", \"Topic5\", \"Topic5\", \"Topic5\", \"Topic5\", \"Topic5\", \"Topic5\", \"Topic5\", \"Topic5\", \"Topic5\", \"Topic5\", \"Topic5\", \"Topic5\", \"Topic5\", \"Topic5\", \"Topic5\", \"Topic5\", \"Topic5\", \"Topic5\", \"Topic5\", \"Topic5\", \"Topic5\", \"Topic6\", \"Topic6\", \"Topic6\", \"Topic6\", \"Topic6\", \"Topic6\", \"Topic6\", \"Topic6\", \"Topic6\", \"Topic6\", \"Topic6\", \"Topic6\", \"Topic6\", \"Topic6\", \"Topic6\", \"Topic6\", \"Topic6\", \"Topic6\", \"Topic6\", \"Topic6\", \"Topic6\", \"Topic6\", \"Topic6\", \"Topic6\", \"Topic6\", \"Topic6\", \"Topic6\", \"Topic6\", \"Topic6\", \"Topic6\", \"Topic6\", \"Topic6\", \"Topic6\", \"Topic6\", \"Topic6\", \"Topic6\", \"Topic6\", \"Topic6\", \"Topic6\", \"Topic6\", \"Topic6\", \"Topic6\", \"Topic6\", \"Topic6\", \"Topic6\", \"Topic6\", \"Topic6\", \"Topic6\", \"Topic6\", \"Topic6\", \"Topic6\", \"Topic6\", \"Topic6\", \"Topic6\", \"Topic6\", \"Topic6\", \"Topic6\", \"Topic6\", \"Topic6\", \"Topic6\", \"Topic6\", \"Topic6\", \"Topic6\", \"Topic7\", \"Topic7\", \"Topic7\", \"Topic7\", \"Topic7\", \"Topic7\", \"Topic7\", \"Topic7\", \"Topic7\", \"Topic7\", \"Topic7\", \"Topic7\", \"Topic7\", \"Topic7\", \"Topic7\", \"Topic7\", \"Topic7\", \"Topic7\", \"Topic7\", \"Topic7\", \"Topic7\", \"Topic7\", \"Topic7\", \"Topic7\", \"Topic7\", \"Topic7\", \"Topic7\", \"Topic7\", \"Topic7\", \"Topic7\", \"Topic7\", \"Topic7\", \"Topic7\", \"Topic7\", \"Topic7\", \"Topic7\", \"Topic7\", \"Topic7\", \"Topic7\", \"Topic7\", \"Topic7\", \"Topic7\", \"Topic7\", \"Topic7\", \"Topic7\", \"Topic7\", \"Topic7\", \"Topic7\", \"Topic7\", \"Topic7\", \"Topic7\", \"Topic7\", \"Topic7\", \"Topic7\", \"Topic7\", \"Topic7\", \"Topic7\", \"Topic7\", \"Topic7\", \"Topic7\", \"Topic7\", \"Topic7\", \"Topic7\", \"Topic7\", \"Topic7\", \"Topic7\", \"Topic7\", \"Topic7\", \"Topic7\", \"Topic7\", \"Topic8\", \"Topic8\", \"Topic8\", \"Topic8\", \"Topic8\", \"Topic8\", \"Topic8\", \"Topic8\", \"Topic8\", \"Topic8\", \"Topic8\", \"Topic8\", \"Topic8\", \"Topic8\", \"Topic8\", \"Topic8\", \"Topic8\", \"Topic8\", \"Topic8\", \"Topic8\", \"Topic8\", \"Topic8\", \"Topic8\", \"Topic8\", \"Topic8\", \"Topic8\", \"Topic8\", \"Topic8\", \"Topic8\", \"Topic8\", \"Topic8\", \"Topic8\", \"Topic8\", \"Topic8\", \"Topic8\", \"Topic8\", \"Topic8\", \"Topic8\", \"Topic8\", \"Topic8\", \"Topic8\", \"Topic8\", \"Topic8\", \"Topic8\", \"Topic8\", \"Topic8\", \"Topic8\", \"Topic8\", \"Topic8\", \"Topic8\", \"Topic8\", \"Topic8\", \"Topic8\", \"Topic8\", \"Topic8\", \"Topic8\", \"Topic8\", \"Topic8\", \"Topic8\", \"Topic8\", \"Topic8\", \"Topic8\", \"Topic8\", \"Topic8\", \"Topic8\"], \"logprob\": [30.0, 29.0, 28.0, 27.0, 26.0, 25.0, 24.0, 23.0, 22.0, 21.0, 20.0, 19.0, 18.0, 17.0, 16.0, 15.0, 14.0, 13.0, 12.0, 11.0, 10.0, 9.0, 8.0, 7.0, 6.0, 5.0, 4.0, 3.0, 2.0, 1.0, -6.062, -6.5658, -6.5746, -6.5746, -6.5746, -6.2177, -5.9867, -7.0978, -7.24, -7.2457, -7.4192, -7.4192, -7.4191, -7.4192, -7.4192, -7.4192, -7.4262, -7.4262, -7.4301, -7.6295, -7.638, -7.638, -7.6383, -7.643, -7.6467, -7.6468, -7.6468, -7.6468, -7.6467, -7.6467, -6.9682, -6.3395, -5.6415, -7.008, -5.9479, -7.4807, -5.3889, -6.9406, -4.6011, -6.9643, -6.6841, -5.5063, -6.5157, -5.7217, -6.3123, -5.4854, -5.4293, -6.3144, -6.0707, -5.9121, -5.2214, -4.7593, -4.6547, -5.4402, -5.844, -5.8335, -5.0783, -5.7602, -5.685, -5.3514, -5.5063, -5.4027, -5.7701, -5.6408, -5.5713, -5.9317, -5.5141, -5.6525, -5.8009, -5.7338, -5.7528, -5.742, -5.8005, -5.7338, -5.8111, -5.8226, -4.4045, -6.3577, -6.3577, -6.3577, -6.3577, -6.3695, -6.457, -6.8967, -6.8985, -6.9067, -6.9066, -6.9066, -6.9066, -7.0494, -7.0494, -7.0494, -7.0494, -7.2231, -7.0819, -7.4332, -7.4334, -7.4418, -7.4418, -7.4418, -7.4418, -7.4421, -7.4505, -7.4505, -7.4505, -7.4505, -7.4505, -7.4505, -5.6927, -7.0454, -6.5309, -4.9524, -6.6917, -4.7112, -6.4101, -6.8266, -7.079, -6.8375, -6.2978, -6.2128, -6.3137, -5.8626, -4.9909, -5.0791, -6.3728, -5.6004, -5.4314, -5.6102, -6.1804, -5.9677, -5.7875, -5.0669, -5.1364, -5.8082, -5.3478, -5.6971, -5.2013, -5.3771, -5.591, -5.7427, -5.8212, -5.514, -5.5899, -6.0111, -5.7572, -5.931, -5.9895, -6.0793, -6.0385, -6.0102, -5.9641, -6.0079, -5.0633, -5.5127, -5.5127, -5.5127, -5.8367, -5.9746, -5.7847, -6.3589, -6.3589, -6.7574, -6.7574, -6.7574, -6.9124, -6.7612, -6.927, -6.9334, -7.1294, -7.1296, -6.1748, -7.138, -7.138, -7.138, -7.138, -7.138, -7.138, -7.1467, -7.1468, -7.1468, -7.1468, -7.1654, -6.6205, -6.3588, -5.6721, -6.5298, -5.1939, -6.3275, -6.7544, -6.1207, -5.6049, -7.0018, -5.9614, -5.413, -6.2428, -5.5865, -5.5815, -6.0285, -5.7018, -5.8336, -5.4352, -5.8752, -5.4049, -5.841, -5.8628, -5.4591, -5.5289, -5.4586, -5.6941, -5.7019, -5.8124, -5.8764, -6.0273, -6.0253, -5.2144, -5.6912, -5.6912, -5.6912, -5.6912, -5.7378, -6.1387, -6.1387, -5.961, -6.3041, -6.304, -6.3041, -6.828, -6.8333, -6.9809, -7.1477, -6.8651, -6.8651, -7.1547, -7.1546, -7.1546, -7.1545, -7.1545, -7.1545, -7.1545, -7.1545, -7.1617, -7.1685, -7.1686, -7.1685, -5.4177, -5.9134, -5.4298, -4.4486, -6.6942, -6.7028, -5.5625, -6.1014, -5.7148, -6.2867, -5.9035, -5.2534, -6.0629, -5.5094, -5.3033, -5.8591, -5.7469, -5.8373, -5.2641, -5.2122, -5.5205, -5.7693, -5.4856, -5.4288, -5.5837, -5.9208, -5.7478, -5.8249, -5.7779, -5.841, -5.8767, -5.8832, -5.6927, -5.6928, -5.5605, -5.7886, -6.029, -6.2797, -6.426, -6.426, -6.2192, -6.2218, -6.2218, -6.2218, -6.7014, -6.6081, -5.8061, -5.5305, -6.9538, -6.9538, -6.9539, -6.0392, -7.2784, -6.7678, -7.2854, -7.2853, -7.2853, -7.286, -6.5207, -7.2924, -7.2943, -7.304, -5.7517, -6.2246, -5.9848, -6.6113, -6.7171, -5.513, -5.5912, -6.6449, -6.1369, -4.981, -5.0736, -5.5215, -5.3275, -5.3428, -5.0709, -5.0293, -5.5998, -5.6576, -5.8098, -5.086, -5.4016, -5.4374, -5.7559, -5.4543, -5.7784, -5.936, -5.7912, -5.7772, -5.7513, -5.878, -5.1297, -5.1297, -5.1297, -4.8796, -6.4273, -6.4273, -4.7764, -6.5883, -6.598, -6.8963, -6.3424, -7.0481, -7.1906, -7.2022, -7.3569, -7.357, -7.357, -7.357, -7.357, -7.3711, -7.3823, -7.5742, -7.5828, -7.5828, -7.5828, -7.5828, -7.586, -7.4075, -7.5916, -7.5916, -5.8867, -4.181, -6.3081, -4.99, -6.2925, -6.3835, -5.4096, -7.0324, -6.0331, -5.8446, -4.9504, -5.664, -6.1071, -4.8135, -5.5687, -5.1882, -5.4098, -4.7992, -5.723, -5.1827, -4.9315, -4.8609, -5.2699, -5.7007, -5.4106, -5.9752, -5.6513, -5.5763, -5.4415, -5.6518, -5.7173, -5.7219, -5.7958, -5.7878, -5.747, -5.3555, -5.3555, -6.6336, -6.6336, -6.6336, -6.847, -6.8472, -7.1225, -7.1283, -7.134, -7.134, -7.1342, -7.2948, -7.3016, -7.3017, -7.3017, -7.5118, -5.9076, -7.5204, -7.5204, -7.5204, -7.5204, -7.5204, -7.5205, -7.5205, -7.5204, -7.5204, -7.5204, -6.8407, -6.8593, -6.3156, -4.5926, -7.0279, -6.4591, -6.9751, -5.966, -6.189, -6.0738, -6.3754, -4.6312, -6.0924, -5.4252, -5.8559, -5.6013, -5.3967, -5.9664, -5.0976, -5.7021, -5.9558, -5.2732, -5.6602, -6.161, -5.8272, -5.128, -5.5369, -5.8909, -5.8557, -5.522, -5.435, -5.6466, -5.4655, -5.2902, -5.8622, -5.7844, -5.6972, -5.7783, -5.8244, -5.9043, -5.6017, -5.5388, -6.7566, -6.4708, -6.7653, -6.7653, -6.7653, -6.7655, -6.8908, -6.8941, -6.8941, -6.8941, -6.0357, -6.9072, -7.0515, -7.2225, -7.2225, -7.2225, -7.2225, -7.2225, -7.4256, -7.4258, -7.4258, -6.3347, -7.4432, -7.447, -7.447, -7.447, -4.8725, -6.1406, -6.8939, -6.4874, -5.2587, -5.8546, -6.2962, -6.8513, -6.3017, -4.43, -5.8811, -6.728, -5.7693, -6.6519, -5.6189, -5.8169, -5.7008, -5.2704, -5.3515, -4.8263, -5.954, -6.036, -5.8262, -5.5742, -5.7269, -6.2909, -6.3571, -5.8754, -6.1725, -5.6474, -5.8584, -5.6736, -6.1505, -6.0143, -6.0691, -6.0261, -6.1082], \"loglift\": [30.0, 29.0, 28.0, 27.0, 26.0, 25.0, 24.0, 23.0, 22.0, 21.0, 20.0, 19.0, 18.0, 17.0, 16.0, 15.0, 14.0, 13.0, 12.0, 11.0, 10.0, 9.0, 8.0, 7.0, 6.0, 5.0, 4.0, 3.0, 2.0, 1.0, 1.8194, 1.7961, 1.7872, 1.7872, 1.7872, 1.7648, 1.7644, 1.7508, 1.7426, 1.737, 1.7183, 1.7182, 1.7182, 1.7182, 1.7182, 1.7182, 1.7114, 1.7114, 1.7075, 1.6911, 1.6827, 1.6827, 1.6827, 1.6779, 1.6742, 1.6742, 1.6742, 1.6742, 1.6742, 1.6742, 1.6596, 1.5991, 1.5117, 1.6201, 1.5191, 1.6582, 1.4201, 1.5935, 1.297, 1.5731, 1.479, 1.1863, 1.427, 1.1385, 1.3316, 1.0283, 1.0039, 1.3246, 1.2299, 1.1589, 0.8509, 0.6521, 0.5526, 0.9078, 1.0774, 1.0657, 0.6737, 0.9355, 0.8869, 0.6677, 0.7067, 0.5115, 0.7467, 0.5191, 0.3816, 0.8899, -0.0658, 0.1865, 0.4431, 0.2072, 0.2239, 0.1656, 0.3999, -0.1818, 0.2262, -0.0208, 2.0726, 2.0318, 2.0318, 2.0318, 2.0318, 2.02, 2.0126, 1.9786, 1.9766, 1.9684, 1.9683, 1.9683, 1.9683, 1.9594, 1.9594, 1.9594, 1.9594, 1.9398, 1.9261, 1.9119, 1.9119, 1.9035, 1.9035, 1.9035, 1.9032, 1.9032, 1.8948, 1.8948, 1.8948, 1.8948, 1.8948, 1.8948, 1.5924, 1.8287, 1.7175, 1.3639, 1.6946, 1.1168, 1.603, 1.7272, 1.7979, 1.7212, 1.5263, 1.4816, 1.5081, 1.2818, 0.8275, 0.8284, 1.4868, 0.8852, 0.7498, 0.8754, 1.3044, 1.1376, 0.9887, 0.3527, 0.3118, 0.9082, 0.3095, 0.6706, 0.0059, 0.1569, 0.3857, 0.5282, 0.612, -0.1026, -0.0379, 0.9331, 0.1957, 0.6405, 0.772, 0.9994, 0.6488, 0.4025, -0.2121, -0.2062, 2.3975, 2.3829, 2.3829, 2.3829, 2.3771, 2.3727, 2.3682, 2.323, 2.323, 2.2795, 2.2795, 2.2795, 2.279, 2.2758, 2.2635, 2.2574, 2.2431, 2.243, 2.2424, 2.2343, 2.2343, 2.2342, 2.2342, 2.2342, 2.2342, 2.2253, 2.2253, 2.225, 2.225, 2.2061, 2.1607, 2.1358, 2.0386, 2.1472, 1.9292, 2.0853, 2.1458, 1.9609, 1.7234, 2.1871, 1.7886, 1.3891, 1.7833, 1.3988, 1.3184, 1.4999, 1.2029, 1.2952, 0.8088, 1.213, 0.4231, 0.9897, 1.0172, 0.1982, 0.2728, -0.039, 0.5065, 0.3376, 0.3938, 0.3366, 1.0761, 0.9056, 2.1445, 2.1434, 2.1434, 2.1434, 2.1434, 2.1412, 2.1229, 2.1229, 2.1178, 2.1005, 2.1, 2.1, 2.061, 2.0559, 2.0413, 2.0287, 2.0234, 2.0234, 2.0218, 2.0217, 2.0217, 2.0216, 2.0216, 2.0216, 2.0216, 2.0216, 2.0145, 2.0073, 2.0073, 2.0073, 1.9953, 1.8315, 1.5759, 1.2086, 1.8733, 1.8686, 1.2338, 1.494, 1.27, 1.5355, 1.3191, 0.9444, 1.3745, 0.9033, 0.6734, 1.1421, 1.0193, 1.0053, 0.2878, 0.1993, 0.5168, 0.8253, 0.2664, -0.0091, 0.3572, 0.9022, 0.2713, 0.3881, 0.0501, 0.0732, 0.637, 0.3877, 2.003, 2.003, 1.9922, 1.9875, 1.9802, 1.9662, 1.963, 1.963, 1.9621, 1.9597, 1.9597, 1.9597, 1.95, 1.948, 1.9304, 1.9266, 1.9207, 1.9207, 1.9207, 1.9193, 1.8839, 1.8833, 1.8772, 1.8769, 1.8769, 1.8765, 1.871, 1.8699, 1.8679, 1.8583, 1.8364, 1.7903, 1.7503, 1.7768, 1.7524, 1.452, 1.4276, 1.6651, 1.4805, 0.96, 0.9455, 1.171, 0.8537, 0.8171, 0.5746, 0.5227, 0.9717, 0.9667, 1.1295, 0.3337, 0.5751, 0.4607, 0.8898, 0.0797, 0.8375, 1.0315, 0.1998, 0.0412, -0.303, 0.0749, 1.9197, 1.9197, 1.9197, 1.9183, 1.8757, 1.8757, 1.8746, 1.8689, 1.8595, 1.849, 1.8283, 1.8152, 1.807, 1.7952, 1.7944, 1.7944, 1.7944, 1.7944, 1.7944, 1.7807, 1.7693, 1.76, 1.7515, 1.7515, 1.7513, 1.7513, 1.7485, 1.7432, 1.7426, 1.7426, 1.6901, 1.4645, 1.547, 1.3209, 1.4752, 1.4712, 1.1923, 1.6087, 1.2798, 1.2112, 0.8514, 1.1248, 1.2856, 0.7384, 1.0481, 0.8841, 0.9703, 0.6123, 1.0503, 0.7248, 0.5168, 0.3464, 0.5485, 0.8686, 0.5424, 1.0466, 0.471, 0.3218, -0.0219, 0.1873, 0.3222, 0.269, 0.4751, 1.9807, 1.9807, 1.9801, 1.9801, 1.9154, 1.9154, 1.9154, 1.9032, 1.9027, 1.8792, 1.8735, 1.8675, 1.8675, 1.8674, 1.8611, 1.8541, 1.8541, 1.8541, 1.8266, 1.8218, 1.8183, 1.8183, 1.8183, 1.8183, 1.8183, 1.8183, 1.8182, 1.8181, 1.8181, 1.8181, 1.8035, 1.7832, 1.6341, 1.3216, 1.7253, 1.6018, 1.6709, 1.3699, 1.4241, 1.3756, 1.441, 0.8171, 1.3318, 1.0446, 1.2202, 1.0859, 0.9773, 1.2445, 0.7414, 1.0742, 1.177, 0.7177, 0.9565, 1.267, 0.9592, 0.2916, 0.6636, 0.9531, 0.9116, 0.5176, 0.393, 0.6017, 0.2865, -0.0829, 0.7602, 0.4161, 0.1046, 0.1746, 0.3886, 0.4437, 2.0557, 2.0131, 1.9998, 1.9973, 1.9913, 1.9913, 1.9913, 1.9911, 1.9832, 1.9799, 1.9799, 1.9799, 1.9716, 1.9672, 1.9562, 1.9393, 1.9393, 1.9393, 1.9393, 1.9391, 1.9185, 1.9185, 1.9185, 1.9134, 1.9007, 1.8972, 1.8972, 1.8972, 1.8757, 1.8706, 1.8614, 1.8267, 1.7214, 1.6702, 1.7103, 1.8014, 1.6589, 1.1041, 1.411, 1.7416, 1.3336, 1.6599, 1.1426, 1.1597, 1.0747, 0.7669, 0.7708, 0.381, 1.1932, 1.2077, 0.9968, 0.7367, 0.5893, 1.3616, 1.3753, 0.6102, 1.0672, 0.1916, 0.4125, -0.0164, 0.9081, 0.3658, 0.4116, -0.6147, 0.0924]}, \"token.table\": {\"Topic\": [1, 3, 4, 1, 2, 3, 4, 5, 6, 7, 8, 1, 4, 5, 7, 6, 6, 1, 5, 7, 8, 8, 7, 1, 2, 3, 4, 5, 6, 4, 6, 8, 8, 6, 5, 3, 8, 1, 2, 3, 4, 5, 6, 7, 8, 1, 3, 4, 5, 6, 7, 8, 2, 1, 2, 4, 5, 6, 7, 8, 1, 4, 4, 4, 8, 1, 2, 3, 4, 5, 6, 7, 8, 1, 3, 1, 4, 4, 8, 1, 6, 7, 2, 3, 5, 6, 7, 8, 7, 4, 5, 6, 1, 2, 3, 4, 5, 6, 7, 8, 3, 7, 1, 2, 5, 6, 7, 8, 7, 2, 5, 8, 6, 7, 3, 1, 2, 3, 4, 6, 7, 8, 3, 4, 3, 6, 7, 2, 7, 1, 3, 4, 7, 8, 1, 2, 3, 4, 5, 6, 7, 8, 1, 2, 4, 6, 8, 4, 5, 6, 1, 2, 3, 4, 7, 8, 7, 1, 5, 1, 3, 4, 6, 8, 1, 6, 8, 1, 2, 3, 4, 5, 6, 7, 8, 8, 1, 2, 4, 5, 6, 7, 8, 1, 3, 6, 8, 1, 2, 3, 4, 5, 6, 7, 8, 1, 2, 5, 6, 7, 8, 2, 5, 2, 3, 8, 1, 2, 3, 6, 7, 1, 2, 3, 4, 5, 6, 7, 8, 3, 5, 6, 1, 2, 3, 4, 6, 1, 2, 3, 5, 6, 7, 8, 6, 1, 1, 2, 3, 4, 5, 6, 7, 8, 1, 2, 3, 4, 5, 6, 8, 3, 1, 2, 4, 5, 6, 7, 8, 1, 2, 5, 6, 8, 5, 1, 2, 3, 4, 5, 6, 7, 8, 1, 4, 5, 7, 8, 5, 8, 3, 1, 3, 2, 3, 4, 5, 1, 2, 3, 4, 5, 6, 2, 8, 4, 1, 2, 5, 6, 1, 2, 3, 4, 6, 7, 8, 1, 2, 3, 4, 5, 6, 7, 8, 1, 1, 2, 4, 5, 6, 7, 8, 1, 2, 3, 1, 4, 5, 6, 7, 8, 4, 8, 3, 5, 7, 2, 3, 2, 1, 1, 4, 6, 3, 2, 5, 7, 6, 7, 4, 5, 7, 7, 1, 2, 3, 4, 5, 6, 7, 1, 2, 4, 6, 7, 8, 4, 5, 7, 8, 6, 1, 2, 3, 4, 5, 6, 7, 8, 4, 2, 3, 4, 6, 2, 4, 1, 7, 4, 1, 2, 3, 4, 5, 6, 7, 8, 1, 2, 4, 5, 6, 7, 1, 2, 4, 5, 6, 7, 8, 4, 7, 2, 6, 1, 4, 1, 2, 4, 5, 6, 7, 8, 6, 3, 1, 3, 8, 1, 2, 3, 4, 6, 7, 8, 1, 8, 2, 3, 6, 8, 1, 2, 3, 4, 5, 6, 7, 8, 2, 1, 2, 3, 4, 5, 6, 7, 8, 2, 1, 5, 6, 8, 1, 2, 3, 4, 5, 6, 7, 8, 5, 2, 4, 1, 5, 6, 7, 4, 1, 2, 3, 4, 5, 6, 7, 8, 7, 5, 1, 2, 3, 4, 5, 6, 7, 8, 1, 2, 3, 4, 5, 6, 7, 8, 7, 1, 2, 3, 4, 5, 6, 7, 8, 6, 6, 5, 1, 1, 2, 3, 4, 5, 6, 7, 8, 4, 3, 4, 6, 8, 1, 2, 3, 4, 5, 6, 7, 8, 1, 2, 2, 7, 1, 2, 3, 4, 5, 6, 7, 8, 1, 2, 5, 6, 7, 1, 2, 3, 4, 5, 6, 7, 8, 1, 2, 7, 2, 3, 4, 5, 6, 7, 2, 5, 8, 5, 3, 5, 7, 2, 1, 2, 3, 4, 5, 6, 7, 8, 6, 7, 1, 3, 4, 6, 8, 4, 1, 2, 4, 5, 1, 3, 4, 5, 6, 7, 8, 3, 5, 2, 1, 2, 4, 5, 6, 8, 1, 2, 4, 5, 6, 7, 8, 1, 2, 4, 5, 6, 7, 8, 2, 1, 1, 2, 5, 6, 7, 8, 1, 2, 3, 4, 5, 6, 7, 8, 1, 1, 2, 3, 4, 5, 6, 8, 1, 3, 4, 6, 7, 1, 1, 2, 4, 5, 6, 7, 8, 3, 3, 5, 6, 7, 8, 1, 2, 3, 5, 6, 7, 8, 1, 2, 3, 4, 5, 6, 7, 8, 4, 7, 8, 2, 4, 5, 7, 8, 1, 2, 3, 4, 5, 6, 7, 8, 3, 7, 8, 4, 3, 2, 1, 2, 3, 4, 5, 6, 8, 7, 8, 1, 2, 3, 7, 8, 7, 2, 4, 8, 5, 7, 2, 2, 3, 8, 3, 1, 2, 3, 5, 6, 7, 1, 2, 3, 4, 5, 6, 7, 8, 8, 6, 1, 5, 5, 6, 1, 2, 3, 4, 5, 7, 8, 1, 2, 3, 4, 5, 6, 7, 8, 3, 3, 4, 5, 6, 7, 1, 2, 3, 5, 7, 8, 1, 2, 3, 4, 5, 6, 7, 8, 8, 2, 1, 2, 4, 5, 6, 7, 8, 1, 1, 2, 3, 4, 5, 6, 7, 8, 6, 1, 1, 2, 3, 4, 5, 6, 7, 3, 6, 1, 2, 3, 4, 5, 6, 7, 8, 1, 4, 6, 2, 1, 2, 3, 4, 5, 6, 7, 8, 2, 7, 7, 1, 4, 1, 3, 5, 1, 4, 5, 6, 7, 8, 1, 8, 7, 1, 2, 4, 5, 6, 7, 8, 1, 2, 3, 4, 5, 6, 7, 8, 7, 8, 3, 1, 7, 5, 6, 8, 1, 4, 7, 8, 7, 1, 3, 4, 5, 6, 7, 8, 2, 3, 1, 2, 5, 7, 2, 3, 4, 6, 7, 8, 2, 1, 2, 3, 4, 5, 6, 7, 8, 8, 5, 7, 3, 5, 5, 2, 3, 4, 5, 6, 7, 8, 5, 1, 2, 4, 5, 6, 7, 8, 1, 8, 1, 4, 5, 6, 7, 8, 2, 4, 6, 8, 3, 5, 6, 7, 8, 1, 5, 7, 3, 4, 8, 2, 3, 5, 6, 7, 8, 3, 8, 4, 4, 7, 1, 2, 3, 4, 5, 6, 7, 8, 1, 2, 3, 4, 5, 6, 7, 8, 1, 3, 4, 5, 6, 7, 8, 2, 1, 2, 3, 4, 5, 6, 7, 1, 8, 1, 2, 4, 8, 3, 5, 1, 2, 3, 4, 5, 6, 7, 8, 4, 5, 7, 8, 6, 5, 5, 2, 1, 2, 3, 4, 5, 6, 7, 8, 3, 6, 7, 1, 2, 3, 4, 5, 6, 7, 8, 4, 1, 2, 3, 4, 5, 6, 7, 8, 1, 2, 4, 5, 6, 7, 3, 1, 2, 3, 4, 5, 6, 7, 8, 1, 7, 7, 5, 5, 3, 1, 2, 3, 4, 5, 6, 7, 8, 1, 2, 3, 4, 5, 6, 7, 8, 2, 3, 1, 2, 4, 5, 6, 7, 8, 1, 4, 6, 5, 1, 1, 2, 3, 4, 5, 7, 8, 6, 4, 1, 3, 4, 5, 6, 7, 8, 3, 6, 1, 6, 3, 7, 2, 4, 3, 5, 6, 7, 2, 3, 6, 4, 1, 2, 3, 4, 5, 6, 7, 8, 1, 2, 3, 4, 5, 6, 7, 8, 1, 2, 3, 4, 5, 6, 7, 8, 4, 1, 2, 3, 4, 5, 6, 7, 8, 1, 2, 3, 7, 8, 1, 1, 2, 4, 7, 8, 1, 2, 3, 4, 5, 6, 7, 8, 1, 2, 4, 7, 8, 4, 2, 3, 4, 5, 7, 8, 3, 1, 2, 3, 4, 5, 6, 7, 8, 8, 1, 2, 3, 4, 5, 6, 8, 1, 2, 3, 4, 5, 6, 7, 8, 1, 2, 3, 4, 5, 6, 7, 8, 2, 3, 5, 6, 8, 8, 2, 1, 2, 3, 4, 5, 6, 1, 3, 5, 6, 7, 8, 8, 4, 1, 2, 3, 4, 5, 6, 7, 8, 6, 6, 2, 3, 8, 1, 2, 3, 4, 5, 6, 7, 8, 8, 1, 2, 4, 5, 6, 7, 8, 3, 1, 2, 3, 4, 5, 6, 7, 8, 2, 3, 4, 6, 7, 3, 2, 2, 6, 1, 2, 3, 4, 5, 6, 7, 8, 5, 8, 2, 1, 2, 3, 4, 5, 6, 7, 8, 5, 1, 2, 3, 4, 5, 6, 7, 8, 2, 4, 1, 2, 3, 6, 7, 8, 2, 7, 6, 3, 1, 1, 2, 3, 4, 5, 6, 7, 8, 5, 1, 2, 6, 8, 1, 2, 3, 4, 6, 7, 8, 1, 2, 3, 4, 5, 6, 7, 8, 8, 1, 3, 5, 7, 1, 3, 4, 5, 7, 8, 8, 1, 2, 3, 5, 6, 7, 8, 3, 4, 6, 3, 1, 5, 1, 4, 6, 8, 1, 2, 4, 5, 6, 7, 8, 5, 5, 8, 1, 2, 3, 4, 5, 6, 7, 8, 7, 7, 5, 6, 4, 1, 2, 3, 4, 5, 6, 7, 8, 3, 1, 1, 6, 1, 2, 3, 4, 8, 8], \"Freq\": [0.8775207212856315, 0.048751151182535084, 0.048751151182535084, 0.11037515696319214, 0.031535759132340614, 0.12614303652936246, 0.12614303652936246, 0.04730363869851092, 0.15767879566170306, 0.2838218321910655, 0.11037515696319214, 0.04845082992775085, 0.6783116189885119, 0.0969016598555017, 0.14535248978325255, 0.922189659028564, 0.7904610003415532, 0.0703184847030145, 0.5391083827231111, 0.16407646430703382, 0.21095545410904348, 0.8990690989243167, 0.8512219034100835, 0.30607430448267076, 0.051012384080445124, 0.25506192040222564, 0.07651857612066769, 0.17854334428155794, 0.15303715224133538, 0.9746001562031279, 0.13306850046732008, 0.7984110028039204, 0.7992909126074708, 0.9666749043102754, 0.9496631486615241, 0.7401170197165605, 0.719160145251268, 0.10876705286829344, 0.30454774803122164, 0.06526023172097607, 0.10876705286829344, 0.08701364229463475, 0.13052046344195214, 0.1740272845892695, 0.021753410573658687, 0.15512386858108773, 0.14478227734234855, 0.13444068610360937, 0.1654654598198269, 0.0620495474324351, 0.19649023353604447, 0.13444068610360937, 0.720210341545727, 0.17344993134060335, 0.07708885837360148, 0.2698110043076052, 0.11563328756040223, 0.21199436052740409, 0.09636107296700186, 0.05781664378020111, 0.7799342477141118, 0.9539263263593515, 0.9472079935835817, 0.9418496330422264, 0.8990303959520684, 0.1526888029006193, 0.09716560184584866, 0.11104640210954132, 0.06940400131846332, 0.006940400131846333, 0.333139206328624, 0.145748402768773, 0.07634440145030966, 0.9369527785230992, 0.8817998898607526, 0.835233851110735, 0.9745957063591151, 0.8111367825468012, 0.7193587605244329, 0.9216311607120049, 0.061442077380800326, 0.9424687074828871, 0.12240370324122045, 0.2448074064824409, 0.061201851620610224, 0.28560864089618104, 0.1632049376549606, 0.12240370324122045, 0.8660997454692995, 0.09999727765817373, 0.6999809436072161, 0.09999727765817373, 0.02849944664617156, 0.37049280640023025, 0.1353723715693149, 0.12112264824622912, 0.03562430830771445, 0.04274916996925734, 0.19949612652320092, 0.07837347827697179, 0.7400291822571381, 0.8511268296899949, 0.23693876017019716, 0.0729042338985222, 0.05467817542389165, 0.20048664322093607, 0.32806905254334995, 0.1093563508477833, 0.8512638183945784, 0.09594451399431632, 0.7675561119545306, 0.14391677099147449, 0.7909653216025831, 0.794427758639352, 0.8818984784204303, 0.3141240175260983, 0.06282480350521966, 0.1256496070104393, 0.16753280934725243, 0.08376640467362621, 0.19894521109986227, 0.052354002921016385, 0.823286949913893, 0.8107885934039474, 0.04770286335277931, 0.09540572670555862, 0.8109486769972483, 0.23859573673455856, 0.7157872102036756, 0.1356775759915124, 0.6105490919618057, 0.0678387879957562, 0.0678387879957562, 0.0678387879957562, 0.029970987082387962, 0.2247824031179097, 0.04495648062358194, 0.04495648062358194, 0.34466635144746155, 0.10489845478835787, 0.04495648062358194, 0.1498549354119398, 0.22087102517922202, 0.13252261510753321, 0.13252261510753321, 0.044174205035844405, 0.48591625539428845, 0.8108787882911869, 0.9594339585014543, 0.7911918056929266, 0.1533524307306062, 0.38338107682651545, 0.1789111691857072, 0.05111747691020206, 0.10223495382040412, 0.12779369227550516, 0.95238982266946, 0.9440753340886706, 0.8995447827006592, 0.6970599911629984, 0.05361999932023065, 0.13404999830057662, 0.026809999660115325, 0.08042999898034597, 0.5665453343422393, 0.17432164133607364, 0.26148246200411046, 0.41759088844147874, 0.2218451594845356, 0.03914914579138863, 0.11744743737416591, 0.06524857631898105, 0.03914914579138863, 0.06524857631898105, 0.02609943052759242, 0.8564095362599426, 0.30188985612389624, 0.04312712230341375, 0.14663221583160677, 0.33639155396662723, 0.0517525467640965, 0.069003395685462, 0.0517525467640965, 0.17080042608120818, 0.08540021304060409, 0.08540021304060409, 0.5978014912842287, 0.19144676332532362, 0.1037003301345503, 0.03988474235944242, 0.15953896943776968, 0.3430087842912048, 0.03988474235944242, 0.047861690831330905, 0.07976948471888484, 0.48003267990847653, 0.10000680831426594, 0.040002723325706376, 0.06000408498855957, 0.20001361662853187, 0.10000680831426594, 0.7201306503761089, 0.968595815715977, 0.7201821394638256, 0.08012994122085594, 0.8012994122085594, 0.09912601507812693, 0.04956300753906347, 0.09912601507812693, 0.644319098007825, 0.1486890226171904, 0.3263075111701348, 0.1986219633209516, 0.04256184928306106, 0.12768554784918318, 0.11349826475482949, 0.04256184928306106, 0.04256184928306106, 0.0993109816604758, 0.5134742722556735, 0.32092142015979597, 0.1283685680639184, 0.6494977655034732, 0.05904525140940665, 0.05904525140940665, 0.1180905028188133, 0.05904525140940665, 0.08324982794630548, 0.1456871989060346, 0.3329993117852219, 0.1456871989060346, 0.12487474191945822, 0.12487474191945822, 0.04162491397315274, 0.9312051396951541, 0.7802129714568532, 0.12431868765195411, 0.07650380778581792, 0.07650380778581792, 0.047814879866136195, 0.13388166362518136, 0.22951142335745375, 0.047814879866136195, 0.2582003512771355, 0.13857824387171924, 0.29447876822740343, 0.05196684145189472, 0.05196684145189472, 0.12125596338775435, 0.13857824387171924, 0.19054508532361397, 0.8228036317306392, 0.14438797906144804, 0.08250741660654175, 0.2887759581228961, 0.08250741660654175, 0.15470140613726577, 0.14438797906144804, 0.10313427075817719, 0.6971672108418793, 0.07338602219388203, 0.036693011096941015, 0.036693011096941015, 0.11007903329082304, 0.8996198919472227, 0.23918069354308133, 0.4517857544702647, 0.1063025304635917, 0.05315126523179585, 0.07972689784769377, 0.026575632615897925, 0.026575632615897925, 0.026575632615897925, 0.18025344763417303, 0.07210137905366922, 0.03605068952683461, 0.5407603429025191, 0.18025344763417303, 0.7998282036777985, 0.7992743194506396, 0.739816026183354, 0.28092221614114654, 0.6554851709960086, 0.03476378780239652, 0.03476378780239652, 0.8343309072575166, 0.10429136340718957, 0.052323262971467, 0.575555892686137, 0.052323262971467, 0.209293051885868, 0.052323262971467, 0.052323262971467, 0.1711974367606555, 0.7703884654229497, 0.8107848038437856, 0.09200890102299428, 0.64406230716096, 0.09200890102299428, 0.09200890102299428, 0.1599059944964939, 0.11070415003603423, 0.04920184446045966, 0.0861032278058044, 0.0861032278058044, 0.35671337233833256, 0.14760553338137897, 0.09683922855468842, 0.061624963625710814, 0.12324992725142163, 0.061624963625710814, 0.14085705971591045, 0.19367845710937684, 0.22008915580611005, 0.09683922855468842, 0.9371886057941531, 0.09287447627428885, 0.4759816909057304, 0.046437238137144426, 0.046437238137144426, 0.05804654767143053, 0.05804654767143053, 0.22057688115143603, 0.27167758126361796, 0.5433551625272359, 0.10867103250544718, 0.18424517052314401, 0.345459694730895, 0.115153231576965, 0.046061292630786003, 0.161214524207751, 0.115153231576965, 0.8107817321374984, 0.7194327546038813, 0.09250760596250676, 0.8325684536625609, 0.866102581435568, 0.09489354268585218, 0.8540418841726696, 0.8001745761160384, 0.7027898396776152, 0.8765013936579723, 0.07416383370138459, 0.8899660044166151, 0.7395139220056505, 0.9681372555669865, 0.013635735993901218, 0.013635735993901218, 0.11908706252481663, 0.8336094376737164, 0.1242595043539461, 0.828396695692974, 0.0414198347846487, 0.7945699717697502, 0.12410127867390297, 0.12410127867390297, 0.024820255734780597, 0.07446076720434179, 0.07446076720434179, 0.14892153440868358, 0.4467646032260507, 0.07470740574214334, 0.44824443445286, 0.07470740574214334, 0.112061108613215, 0.14941481148428667, 0.14941481148428667, 0.017881791260642668, 0.08940895630321334, 0.08940895630321334, 0.7867988154682773, 0.9666864296668589, 0.43674517363744036, 0.16637911376664397, 0.062392167662491484, 0.04159477844166099, 0.04159477844166099, 0.08318955688332198, 0.062392167662491484, 0.10398694610415248, 0.9122130088621874, 0.09738933924597046, 0.5356413658528375, 0.04869466962298523, 0.29216801773791135, 0.7514290805532498, 0.15028581611064995, 0.9369493438222869, 0.9265025782887404, 0.8108992106078717, 0.04125425794449773, 0.28877980561148414, 0.013751419314832578, 0.11001135451866062, 0.06875709657416289, 0.26127696698181896, 0.08250851588899547, 0.13751419314832578, 0.5282035937866637, 0.09321239890352889, 0.09321239890352889, 0.09321239890352889, 0.12428319853803853, 0.062141599269019264, 0.0645611684937222, 0.0968417527405833, 0.0645611684937222, 0.32280584246861105, 0.11298204486401386, 0.2582446739748888, 0.08070146061715276, 0.9551616670195684, 0.7154759626348849, 0.6527419431989235, 0.21758064773297453, 0.7491363202834835, 0.21403894865242387, 0.2562745924103726, 0.0388294836985413, 0.12425434783533215, 0.062127173917666076, 0.0077658967397082595, 0.4970173913413286, 0.02329769021912478, 0.8889108519513722, 0.957552607830804, 0.03994800797068319, 0.03994800797068319, 0.9188041833257133, 0.11693358015708134, 0.11693358015708134, 0.08770018511781101, 0.11693358015708134, 0.08770018511781101, 0.1461669751963517, 0.35080074047124404, 0.8978248727377902, 0.7193485306724301, 0.1362527504333356, 0.0340631876083339, 0.5109478141250084, 0.30656868847500507, 0.28737488898750474, 0.04105355556964353, 0.02736903704642902, 0.15052970375535962, 0.06842259261607256, 0.1231606667089306, 0.10947614818571608, 0.17789874080178864, 0.9230375307905995, 0.15680545579139282, 0.031361091158278565, 0.07840272789569641, 0.04704163673741785, 0.12544436463311426, 0.40769418505762134, 0.06272218231655713, 0.0940832734748357, 0.8998984149535029, 0.022547833939689562, 0.09019133575875825, 0.1803826715175165, 0.6764350181906869, 0.4465270222196904, 0.06378957460281291, 0.17010553227416778, 0.06378957460281291, 0.08505276613708389, 0.06378957460281291, 0.06378957460281291, 0.042526383068541944, 0.7996460280459549, 0.8572815544865934, 0.9539108651078744, 0.0594557694958679, 0.0594557694958679, 0.1783673084876037, 0.6540134644545469, 0.8105445604232255, 0.23761878091304686, 0.11880939045652343, 0.19441536620158378, 0.07560597574506037, 0.1620128051679865, 0.0648051220671946, 0.09720768310079189, 0.054004268389328834, 0.7152980768777185, 0.9226073197253052, 0.18730032861141688, 0.07203858792746803, 0.014407717585493605, 0.021611576378240408, 0.10805788189120204, 0.17289261102592327, 0.2809504929171253, 0.14407717585493607, 0.12358444703147027, 0.061792223515735135, 0.04634416763680135, 0.030896111757867568, 0.07724027939466892, 0.4634416763680135, 0.07724027939466892, 0.10813639115253648, 0.9267841694388307, 0.2642753069540751, 0.12256246119609279, 0.0191503845618895, 0.045960922948534794, 0.045960922948534794, 0.20299407635602867, 0.12256246119609279, 0.17618353796938338, 0.7122103911932902, 0.8891964572149914, 0.8723144754766111, 0.7799386162220233, 0.12974991394731836, 0.11893742111837516, 0.04324997131577278, 0.15137489960520475, 0.21624985657886392, 0.2973435527959379, 0.02162498565788639, 0.02703123207235799, 0.9370739749662524, 0.7398549925502891, 0.0409536207582636, 0.7781187944070085, 0.1228608622747908, 0.15094389274391354, 0.07547194637195677, 0.03354308727642523, 0.03354308727642523, 0.15932966456301983, 0.18448698002033875, 0.27673047003050816, 0.09224349001016938, 0.7801353639716206, 0.9230361106901228, 0.7201619939392647, 0.8660942111621849, 0.01566667330810061, 0.07833336654050305, 0.14100005977290547, 0.1880000796972073, 0.29766679285391157, 0.09400003984860365, 0.06266669323240244, 0.12533338646480488, 0.31523950534588957, 0.026269958778824133, 0.07880987633647239, 0.13134979389412066, 0.42031934046118613, 0.16271919982489383, 0.08678357323994339, 0.043391786619971694, 0.16271919982489383, 0.010847946654992923, 0.1952630397898726, 0.23865482640984428, 0.0976315198949363, 0.8978261233954987, 0.7493329491340844, 0.1498665898268169, 0.022210479925116516, 0.022210479925116516, 0.11105239962558258, 0.5552619981279129, 0.06663143977534955, 0.22210479925116516, 0.9230404095833504, 0.8996152769516239, 0.7991490971545252, 0.9594288549461018, 0.6613704819690043, 0.18896299484828694, 0.09448149742414347, 0.7201865039199241, 0.17344143426884526, 0.07708508189726455, 0.05781381142294842, 0.0963563523715807, 0.01927127047431614, 0.11562762284589684, 0.134898893320213, 0.32761159806337437, 0.7909405244626849, 0.7152553180529625, 0.16221538406202593, 0.05407179468734198, 0.10814358937468396, 0.5947897415607618, 0.05407179468734198, 0.8105524007755227, 0.6624167513031496, 0.07360186125590551, 0.07360186125590551, 0.14720372251181102, 0.10147745221404039, 0.11839036091638046, 0.11839036091638046, 0.42282271755850165, 0.11839036091638046, 0.050738726107020196, 0.050738726107020196, 0.190409087851373, 0.761636351405492, 0.8566905373217263, 0.5693356722536635, 0.04379505171182028, 0.1751802068472811, 0.04379505171182028, 0.04379505171182028, 0.08759010342364056, 0.2260461471343076, 0.1453153803006263, 0.024219230050104384, 0.13724230361725817, 0.24219230050104384, 0.16146153366736257, 0.0565115367835769, 0.056805359225382705, 0.22722143690153082, 0.028402679612691353, 0.056805359225382705, 0.11361071845076541, 0.45444287380306164, 0.028402679612691353, 0.9001928410158346, 0.7812140166840084, 0.152949787398516, 0.611799149594064, 0.0917698724391096, 0.030589957479703198, 0.0917698724391096, 0.030589957479703198, 0.08409120647102336, 0.16818241294204672, 0.10811726546274433, 0.3724039143716749, 0.036039088487581444, 0.018019544243790722, 0.09009772121895361, 0.1201302949586048, 0.7800623964532376, 0.11001982583322979, 0.20170301402758797, 0.055009912916614896, 0.018336637638871632, 0.09168318819435817, 0.40340602805517595, 0.11001982583322979, 0.12776657330473679, 0.479124649892763, 0.06388328665236839, 0.159708216630921, 0.159708216630921, 0.8978846260267141, 0.09954700061864072, 0.3235277520105823, 0.12443375077330089, 0.02488675015466018, 0.14932050092796106, 0.17420725108262125, 0.07466025046398053, 0.9575651071138498, 0.16455871739746467, 0.16455871739746467, 0.3996425993938428, 0.07052516459891343, 0.1880671055971025, 0.12182783262115054, 0.09475498092756153, 0.05414570338717802, 0.02707285169358901, 0.18950996185512306, 0.3790199237102461, 0.12182783262115054, 0.2576056433033065, 0.06440141082582662, 0.21467136941942205, 0.19320423247747986, 0.08586854776776882, 0.04293427388388441, 0.06440141082582662, 0.06440141082582662, 0.7720806333262648, 0.11029723333232354, 0.11029723333232354, 0.07030691668716627, 0.03515345834358313, 0.14061383337433253, 0.4921484168101638, 0.2460742084050819, 0.08998613884787937, 0.1752361651248177, 0.08525002627693835, 0.10893058913164345, 0.17997227769575874, 0.13734726455728957, 0.17997227769575874, 0.04262501313846918, 0.12010140303270934, 0.12010140303270934, 0.7206084181962561, 0.8107874593885113, 0.7397139297138058, 0.8572785946095564, 0.07994586159136793, 0.1332431026522799, 0.02664862053045598, 0.1332431026522799, 0.18654034371319184, 0.02664862053045598, 0.3997293079568397, 0.7153021105749471, 0.932707102737443, 0.1170542895587287, 0.2341085791174574, 0.3901809651957623, 0.19509048259788114, 0.03901809651957623, 0.7154795080986408, 0.6559199728807416, 0.10931999548012358, 0.10931999548012358, 0.7996633968501428, 0.8513329043540951, 0.9230279603302642, 0.6334966669551952, 0.12669933339103903, 0.25339866678207806, 0.8225379606067702, 0.1279462014978722, 0.08529746766524814, 0.04264873383262407, 0.5544335398241129, 0.1279462014978722, 0.04264873383262407, 0.029350261878833845, 0.08805078563650154, 0.11740104751533538, 0.05870052375766769, 0.11740104751533538, 0.05870052375766769, 0.11740104751533538, 0.4109036663036738, 0.9327148067593324, 0.9312119704466848, 0.7799378960873459, 0.7996812378432165, 0.8995728474375455, 0.7122508975583657, 0.36560760139826437, 0.09621252668375378, 0.13469753735725531, 0.09621252668375378, 0.13469753735725531, 0.07697002134700304, 0.07697002134700304, 0.19760022695366514, 0.08320009555943796, 0.12480014333915693, 0.07280008361450821, 0.1664001911188759, 0.12480014333915693, 0.12480014333915693, 0.10400011944929743, 0.7396526733740367, 0.12516143293750168, 0.5006457317500067, 0.04172047764583389, 0.16688191058333557, 0.20860238822916946, 0.6271063221425147, 0.03800644376621301, 0.03800644376621301, 0.07601288753242602, 0.03800644376621301, 0.17102899694795856, 0.14134189299438527, 0.16571118488996894, 0.0292431502747004, 0.004873858379116734, 0.09747716758233467, 0.23881906057671995, 0.30217921950523746, 0.019495433516466935, 0.7193581986624178, 0.720222953520854, 0.055170123478295155, 0.33102074086977096, 0.07356016463772687, 0.036780082318863434, 0.018390041159431717, 0.3861908643480661, 0.11034024695659031, 0.7028831041036214, 0.12195358827651023, 0.09756287062120818, 0.04878143531060409, 0.09756287062120818, 0.04878143531060409, 0.07317215296590614, 0.21951645889771843, 0.29268861186362455, 0.8477474809738111, 0.9368514176432069, 0.10094607137403211, 0.2355408332060749, 0.01682434522900535, 0.11777041660303746, 0.050473035687016055, 0.08412172614502675, 0.38695994026712305, 0.7399151985516382, 0.712177508440028, 0.557884066334346, 0.007642247484032137, 0.007642247484032137, 0.007642247484032137, 0.2063406820688677, 0.19869843458483555, 0.007642247484032137, 0.007642247484032137, 0.7802170390117773, 0.9128299896714048, 0.7124322489855983, 0.900017112615256, 0.07449286122180146, 0.018623215305450365, 0.05586964591635109, 0.05586964591635109, 0.03724643061090073, 0.4469571673308087, 0.14898572244360292, 0.14898572244360292, 0.8998962881722433, 0.7152988248836426, 0.9652716734092176, 0.7643946996206628, 0.17639877683553756, 0.8351727230682993, 0.04804367865930938, 0.9128298945268782, 0.04864301232297598, 0.09728602464595196, 0.2675365677763679, 0.4864301232297598, 0.04864301232297598, 0.07296451848446397, 0.702880395765773, 0.8994232425612634, 0.7944140923596199, 0.18579340629820476, 0.1672140656683843, 0.09289670314910238, 0.018579340629820477, 0.14863472503856381, 0.35300747196658905, 0.055738021889461434, 0.22749190546377676, 0.031021623472333195, 0.020681082314888796, 0.12408649388933278, 0.09306487041699958, 0.18612974083399916, 0.25851352893610996, 0.06204324694466639, 0.7154696748273479, 0.7992796027139996, 0.739850731347838, 0.8202656813991138, 0.11718081162844483, 0.7374167131635747, 0.09217708914544684, 0.09217708914544684, 0.1913760354575983, 0.1913760354575983, 0.14353202659319872, 0.4784400886439958, 0.8511406715033443, 0.1359436738973755, 0.23304629810978655, 0.21362577326730434, 0.019420524842482214, 0.2913078726372332, 0.019420524842482214, 0.07768209936992886, 0.7200508932907241, 0.8818144521288411, 0.16986710200022256, 0.12740032650016692, 0.12740032650016692, 0.5520680815007233, 0.25864533910046034, 0.028738371011162257, 0.4310755651674339, 0.057476742022324515, 0.11495348404464903, 0.11495348404464903, 0.7199863465646378, 0.23004198937948117, 0.030672265250597488, 0.04600839787589623, 0.26071425463007863, 0.1686974588782862, 0.07668066312649371, 0.1073529283770912, 0.09201679575179246, 0.8990422014669683, 0.9082369014750871, 0.07265895211800696, 0.769159571424187, 0.15383191428483742, 0.9595043146463414, 0.9000531301186546, 0.06161408934156152, 0.06161408934156152, 0.21564931269546533, 0.06161408934156152, 0.06161408934156152, 0.49291271473249215, 0.7997787415392127, 0.025497123886262983, 0.10198849554505193, 0.12748561943131492, 0.07649137165878896, 0.1784798672038409, 0.025497123886262983, 0.4589482299527337, 0.06298164928959435, 0.8817430900543209, 0.02265493382737256, 0.4077888088927061, 0.06796480148211768, 0.31716907358321583, 0.09061973530949025, 0.06796480148211768, 0.12021521211723848, 0.18032281817585774, 0.06010760605861924, 0.6611836666448117, 0.05409149006043592, 0.05409149006043592, 0.649097880725231, 0.10818298012087184, 0.10818298012087184, 0.17049955809902084, 0.6819982323960834, 0.08524977904951042, 0.11071574947203783, 0.7750102463042648, 0.11071574947203783, 0.06290316263926887, 0.09435474395890331, 0.031451581319634436, 0.503225301114151, 0.06290316263926887, 0.18870948791780662, 0.9292227541439104, 0.7194222788423683, 0.8109992582527547, 0.13279598527768538, 0.7967759116661123, 0.08949640868907634, 0.17899281737815267, 0.0639260062064831, 0.28127442730852564, 0.05114080496518648, 0.0639260062064831, 0.17899281737815267, 0.08949640868907634, 0.23811662724529695, 0.04329393222641763, 0.021646966113208814, 0.06494089833962643, 0.41129235615096743, 0.19482269501887933, 0.021646966113208814, 0.021646966113208814, 0.07537376539285155, 0.3014950615714062, 0.07537376539285155, 0.05024917692856771, 0.05024917692856771, 0.3768688269642578, 0.07537376539285155, 0.8572815993444071, 0.10465388649796811, 0.026163471624492028, 0.3139616594939043, 0.052326943248984056, 0.026163471624492028, 0.3139616594939043, 0.15698082974695216, 0.7466205857364087, 0.21332016735325962, 0.20936346319916543, 0.20936346319916543, 0.5234086579979136, 0.05234086579979136, 0.7177209051313408, 0.20506311575181166, 0.03936044494590117, 0.03936044494590117, 0.059040667418851764, 0.21648244720245646, 0.059040667418851764, 0.07872088989180234, 0.35424400451311056, 0.17712200225655528, 0.13289930901160277, 0.06644965450580138, 0.6644965450580138, 0.06644965450580138, 0.8895090050418626, 0.899565582339046, 0.8393617843877165, 0.8572692846168587, 0.5074142119873043, 0.10148284239746086, 0.08456903533121739, 0.05074142119873043, 0.01691380706624348, 0.10148284239746086, 0.06765522826497392, 0.08456903533121739, 0.8193358466295251, 0.13655597443825418, 0.7944035473081624, 0.11057863758190659, 0.12637558580789324, 0.12637558580789324, 0.07898474112993327, 0.3475328609717064, 0.09478168935591992, 0.06318779290394662, 0.03159389645197331, 0.8689517954565388, 0.3547587942248411, 0.10006017273008339, 0.027289138017295468, 0.027289138017295468, 0.027289138017295468, 0.34566241488574256, 0.054578276034590936, 0.06367465537368942, 0.06436734605350344, 0.06436734605350344, 0.06436734605350344, 0.03218367302675172, 0.22528571118726204, 0.5149387684280275, 0.8656055010482611, 0.19014120574933333, 0.18187419680371014, 0.05786906261936232, 0.22320924153182609, 0.23147625047744927, 0.033068035782492754, 0.041335044728115944, 0.04960205367373913, 0.11887606798133273, 0.8321324758693291, 0.7154796702275723, 0.799640125453955, 0.8996190067516745, 0.7399243860035803, 0.022190014506468965, 0.21080513781145518, 0.03328502175970345, 0.16642510879851724, 0.011095007253234482, 0.23299515231792414, 0.14423509429204828, 0.17752011605175172, 0.2971608312464411, 0.09905361041548037, 0.013207148055397383, 0.1452786286093712, 0.0792428883323843, 0.11886433249857645, 0.17829649874786468, 0.06603574027698692, 0.7201825685050145, 0.9471762224063589, 0.07505029182874824, 0.056287718871561185, 0.3940140321009283, 0.15010058365749648, 0.22515087548624474, 0.07505029182874824, 0.03752514591437412, 0.11870556042108302, 0.11870556042108302, 0.7122333625264982, 0.9465606067639206, 0.7027865352801396, 0.04182031752865039, 0.18819142887892676, 0.2927422227005527, 0.10455079382162598, 0.2927422227005527, 0.020910158764325195, 0.04182031752865039, 0.7122162701062312, 0.8108739359334322, 0.018205338788836914, 0.018205338788836914, 0.3094907594102276, 0.1274373715218584, 0.18205338788836917, 0.1456427103106953, 0.20025872667720607, 0.8818054911260108, 0.7122526492097225, 0.7029189027682126, 0.7909604764560157, 0.9733436117640356, 0.7154337292258813, 0.8998998171817331, 0.8107902478478084, 0.5983982443035297, 0.23415583472746815, 0.10406925987887473, 0.05203462993943737, 0.12305360334034013, 0.7383216200420408, 0.8475997656002249, 0.9122139797917812, 0.3902524386281417, 0.16967497331658335, 0.08483748665829167, 0.016967497331658334, 0.152707475984925, 0.06786998932663334, 0.03393499466331667, 0.08483748665829167, 0.42435177061061125, 0.09901541314247596, 0.028290118040707416, 0.21217588530530562, 0.08487035412212225, 0.05658023608141483, 0.05658023608141483, 0.042435177061061126, 0.37479478132638167, 0.11993433002444212, 0.02998358250611053, 0.0899507475183316, 0.02998358250611053, 0.23986866004888424, 0.10494253877138686, 0.014991791253055265, 0.9127029984416624, 0.20381179321492163, 0.07838915123650832, 0.06271132098920665, 0.015677830247301662, 0.21948962346222328, 0.031355660494603324, 0.3449122654406366, 0.06271132098920665, 0.05203703269051851, 0.20814813076207403, 0.10407406538103701, 0.5724073595957037, 0.05203703269051851, 0.7029248276211614, 0.7028108823237473, 0.0999971666751918, 0.0999971666751918, 0.0999971666751918, 0.6999801667263427, 0.07333572098489287, 0.24445240328297624, 0.08555834114904169, 0.06111310082074406, 0.15889406213393456, 0.2077845427905298, 0.06111310082074406, 0.12222620164148812, 0.09212891674400898, 0.5527735004640539, 0.13819337511601348, 0.18425783348801797, 0.04606445837200449, 0.9539110549288283, 0.10586744182547048, 0.10586744182547048, 0.03528914727515682, 0.10586744182547048, 0.4587589145770387, 0.17644573637578412, 0.9480965937149103, 0.258156072873727, 0.09929079725912576, 0.01985815945182515, 0.10921987698503834, 0.2978723917773773, 0.10921987698503834, 0.009929079725912575, 0.09929079725912576, 0.932705109950728, 0.21617409785240002, 0.1572175257108364, 0.05895657214156365, 0.3144350514216728, 0.0786087628554182, 0.09826095356927274, 0.0786087628554182, 0.11322964177234116, 0.0943580348102843, 0.3396889253170235, 0.01887160696205686, 0.05661482088617058, 0.11322964177234116, 0.13210124873439802, 0.13210124873439802, 0.38349675288060725, 0.10785846174767079, 0.03595282058255693, 0.10785846174767079, 0.023968547055037953, 0.07190564116511386, 0.20373264996782262, 0.05992136763759488, 0.5768281491660707, 0.15731676795438293, 0.05243892265146098, 0.05243892265146098, 0.15731676795438293, 0.7992806693273089, 0.8999763938904868, 0.07124700789143307, 0.10687051183714961, 0.1781175197285827, 0.42748204734859846, 0.07124700789143307, 0.14249401578286613, 0.057740671630413846, 0.023096268652165537, 0.11548134326082769, 0.5312141789998074, 0.023096268652165537, 0.25405895517382093, 0.9326816004725371, 0.9539178373998948, 0.10143396736321728, 0.2535849184080432, 0.07100377715425209, 0.040573586945286906, 0.3043019020896518, 0.07100377715425209, 0.14200755430850417, 0.010143396736321727, 0.9772218759273106, 0.7909634453515874, 0.12646839088865122, 0.06323419544432561, 0.7588103453319073, 0.1481938369437525, 0.2822739751309571, 0.042341096269643566, 0.035284246891369636, 0.13408013818720463, 0.24698972823958748, 0.049397945647917496, 0.07056849378273927, 0.8990221726657521, 0.1932366773972032, 0.0878348533623651, 0.18445319206096672, 0.12296879470731115, 0.07026788268989208, 0.07026788268989208, 0.26350456008709533, 0.8656063391539873, 0.05436544082218037, 0.2718272041109019, 0.03624362721478692, 0.01812181360739346, 0.01812181360739346, 0.14497450885914767, 0.10873088164436075, 0.3805580857552626, 0.6412049624783281, 0.08015062030979102, 0.08015062030979102, 0.08015062030979102, 0.08015062030979102, 0.8212885766911897, 0.7202042106050979, 0.9230317701684607, 0.7909713292132523, 0.09626802247763062, 0.2888040674328919, 0.05501029855864607, 0.06876287319830758, 0.04125772391898455, 0.1650308956759382, 0.06876287319830758, 0.2200411942345843, 0.7996521570827165, 0.7193503142851331, 0.7201828290664136, 0.16538652719752595, 0.018376280799725107, 0.036752561599450215, 0.11025768479835063, 0.07350512319890043, 0.11025768479835063, 0.14701024639780086, 0.34914933519477703, 0.9226091663935314, 0.11151521114806484, 0.14337670004751193, 0.00531024814990785, 0.0743434740987099, 0.1380664518976041, 0.10089471484824915, 0.0637229777988942, 0.36640712234364164, 0.7201752938893092, 0.8105434582014202, 0.17977163963079829, 0.08988581981539914, 0.04494290990769957, 0.11235727476924892, 0.17977163963079829, 0.38201473421544635, 0.720192226302307, 0.9652573316511486, 0.7121354666296209, 0.7395107548784351, 0.780067791473752, 0.10467491537168239, 0.05981423735524708, 0.08972135603287062, 0.11962847471049416, 0.13458203404930594, 0.34393186479267074, 0.02990711867762354, 0.11962847471049416, 0.9685768659621267, 0.01622546655112362, 0.01622546655112362, 0.9248515934140462, 0.03245093310224724, 0.16193386952334568, 0.046266819863813057, 0.023133409931906528, 0.5320684284338502, 0.18506727945525223, 0.023133409931906528, 0.023133409931906528, 0.16088072929986078, 0.012375440715373907, 0.024750881430747815, 0.04950176286149563, 0.03712632214612172, 0.3712632214612172, 0.1732561700152347, 0.1732561700152347, 0.9321667067148651, 0.339976105972257, 0.3626411797037409, 0.18132058985187044, 0.11332536865741902, 0.49387502412453393, 0.07408125361868009, 0.024693751206226695, 0.14816250723736019, 0.07408125361868009, 0.19755000964981356, 0.8986233028067955, 0.17744241454177245, 0.27773595319581773, 0.007714887588772716, 0.05400421312140901, 0.2931657283733632, 0.08486376347649986, 0.09257865106527259, 0.7398228143456124, 0.9366039232155519, 0.9667005699960534, 0.9575571594385438, 0.8199961216186806, 0.11714230308838296, 0.06293476646329185, 0.06293476646329185, 0.18880429938987556, 0.6922824310962103, 0.06529810207499036, 0.011872382195452794, 0.01780857329317919, 0.23151145281132945, 0.6173638741635452, 0.053425719879537564, 0.005936191097726397, 0.7996199596893975, 0.8997392768985817, 0.05998261845990544, 0.2912513951231473, 0.10804487238439335, 0.037580825177180296, 0.13623049126727857, 0.018790412588590148, 0.26306577624026206, 0.07516165035436059, 0.06576644406006552, 0.715472303664215, 0.7154740228540863, 0.8995738605549127, 0.7122527226168112, 0.9366124448789297, 0.06680524096057153, 0.06680524096057153, 0.13361048192114305, 0.13361048192114305, 0.3562946184563815, 0.11134206826761922, 0.06680524096057153, 0.06680524096057153, 0.7393383815571087, 0.8978138759542139, 0.7799451995413437, 0.7912596057721997, 0.03887582875541324, 0.03887582875541324, 0.07775165751082648, 0.19437914377706622, 0.6608890888420251, 0.9325494683024048], \"Term\": [\"abortion\", \"abortion\", \"abortion\", \"access\", \"access\", \"access\", \"access\", \"access\", \"access\", \"access\", \"access\", \"accessibility\", \"accessibility\", \"accessibility\", \"accessibility\", \"according_bobby_leave_deal\", \"achievement\", \"acquisition\", \"acquisition\", \"acquisition\", \"acquisition\", \"active_directory\", \"ad_flight_simulator\", \"add\", \"add\", \"add\", \"add\", \"add\", \"add\", \"adobe_tuts_unlock_premium\", \"affordable_premium\", \"affordable_premium\", \"after_announcement\", \"aggressor_kill\", \"air_fire_must_water\", \"all_free\", \"ally\", \"already\", \"already\", \"already\", \"already\", \"already\", \"already\", \"already\", \"already\", \"also\", \"also\", \"also\", \"also\", \"also\", \"also\", \"also\", \"also_add\", \"always\", \"always\", \"always\", \"always\", \"always\", \"always\", \"always\", \"among_great\", \"and_sniper\", \"and_technology_from_kille\", \"and_telegram\", \"another_massive_gaming_company\", \"apple\", \"apple\", \"apple\", \"apple\", \"apple\", \"apple\", \"apple\", \"apple\", \"apple_business\", \"apple_music_go_cracked\", \"apple_music_office_zoom\", \"apple_music_unlock_zoom\", \"apple_puma\", \"applied_got\", \"associate\", \"associate\", \"audit_unauthorized_dominion\", \"available\", \"available\", \"available\", \"available\", \"available\", \"available\", \"available_customer_service_specialist\", \"award\", \"award\", \"award\", \"azure\", \"azure\", \"azure\", \"azure\", \"azure\", \"azure\", \"azure\", \"azure\", \"azure_analytic\", \"babbling_talke\", \"back\", \"back\", \"back\", \"back\", \"back\", \"back\", \"banjo_crash\", \"bank\", \"bank\", \"bank\", \"beholden_giant\", \"ben_ke\", \"best_graduating_student_best\", \"big\", \"big\", \"big\", \"big\", \"big\", \"big\", \"big\", \"big_breake\", \"big_payday\", \"big_tech\", \"big_tech\", \"big_tech\", \"billion_billion\", \"billion_billion\", \"bing\", \"bing\", \"bing\", \"bing\", \"bing\", \"blizzard\", \"blizzard\", \"blizzard\", \"blizzard\", \"blizzard\", \"blizzard\", \"blizzard\", \"blizzard\", \"block\", \"block\", \"block\", \"block\", \"block\", \"bobby_continue\", \"boss_how_good_power\", \"bought_crash\", \"break\", \"break\", \"break\", \"break\", \"break\", \"break\", \"breaking_new\", \"breaking_pay_travel_seeke\", \"breaking_spied_via_seale\", \"bring\", \"bring\", \"bring\", \"bring\", \"bring\", \"bug\", \"bug\", \"bug\", \"build\", \"build\", \"build\", \"build\", \"build\", \"build\", \"build\", \"build\", \"bullish\", \"business\", \"business\", \"business\", \"business\", \"business\", \"business\", \"business\", \"button\", \"button\", \"button\", \"button\", \"buy\", \"buy\", \"buy\", \"buy\", \"buy\", \"buy\", \"buy\", \"buy\", \"call_duty\", \"call_duty\", \"call_duty\", \"call_duty\", \"call_duty\", \"call_duty\", \"can_learn\", \"can_wait_really\", \"cash_advantage\", \"certificate\", \"certificate\", \"chat\", \"chat\", \"chat\", \"chat\", \"chat\", \"check\", \"check\", \"check\", \"check\", \"check\", \"check\", \"check\", \"check\", \"choice\", \"choice\", \"choice\", \"class\", \"class\", \"class\", \"class\", \"class\", \"cloud\", \"cloud\", \"cloud\", \"cloud\", \"cloud\", \"cloud\", \"cloud\", \"cofounder_apple_cofounder_cofounder\", \"cofounder_followe\", \"come\", \"come\", \"come\", \"come\", \"come\", \"come\", \"come\", \"come\", \"community\", \"community\", \"community\", \"community\", \"community\", \"community\", \"community\", \"community_game\", \"company\", \"company\", \"company\", \"company\", \"company\", \"company\", \"company\", \"computer\", \"computer\", \"computer\", \"computer\", \"computer\", \"concealed_possession_privileged_federal\", \"console\", \"console\", \"console\", \"console\", \"console\", \"console\", \"console\", \"console\", \"content\", \"content\", \"content\", \"content\", \"content\", \"contest_giveaway\", \"continue_good\", \"continue_put\", \"controller\", \"controller\", \"course\", \"course\", \"course\", \"course\", \"cover\", \"cover\", \"cover\", \"cover\", \"cover\", \"cover\", \"credit\", \"credit\", \"culture_several\", \"custom\", \"custom\", \"custom\", \"custom\", \"datum\", \"datum\", \"datum\", \"datum\", \"datum\", \"datum\", \"datum\", \"day\", \"day\", \"day\", \"day\", \"day\", \"day\", \"day\", \"day\", \"day_poste\", \"deal\", \"deal\", \"deal\", \"deal\", \"deal\", \"deal\", \"deal\", \"default\", \"default\", \"default\", \"design\", \"design\", \"design\", \"design\", \"design\", \"design\", \"determination_keep\", \"di_save\", \"dick\", \"dick\", \"digital_marketer_it_support\", \"discord\", \"discord\", \"doc\", \"document_later\", \"domain_for_sale_markete\", \"donate\", \"donate\", \"donated_federal\", \"dont_know_use_here\", \"dont_know_use_here\", \"dont_know_use_here\", \"draw\", \"draw\", \"drop\", \"drop\", \"drop\", \"duty_overwatch\", \"dynamic\", \"dynamic\", \"dynamic\", \"dynamic\", \"dynamic\", \"dynamic\", \"dynamic\", \"early\", \"early\", \"early\", \"early\", \"early\", \"early\", \"edge\", \"edge\", \"edge\", \"edge\", \"either_peace_support_bloody\", \"end\", \"end\", \"end\", \"end\", \"end\", \"end\", \"end\", \"end\", \"ended_showcase_extended_beginne\", \"engineer\", \"engineer\", \"engineer\", \"engineer\", \"entrepreneur\", \"entrepreneur\", \"entrepreneur_python\", \"ether\", \"eu_grant\", \"even\", \"even\", \"even\", \"even\", \"even\", \"even\", \"even\", \"even\", \"event\", \"event\", \"event\", \"event\", \"event\", \"event\", \"ever\", \"ever\", \"ever\", \"ever\", \"ever\", \"ever\", \"ever\", \"ever_ever_ever_want\", \"everyone_ill\", \"evidence\", \"evidence\", \"evil\", \"evil\", \"excel\", \"excel\", \"excel\", \"excel\", \"excel\", \"excel\", \"excel\", \"excel_bliss\", \"excel_smoke\", \"explorer\", \"explorer\", \"explorer\", \"feature\", \"feature\", \"feature\", \"feature\", \"feature\", \"feature\", \"feature\", \"feel_like_dont_know\", \"final_twitter\", \"finally\", \"finally\", \"finally\", \"finally\", \"find\", \"find\", \"find\", \"find\", \"find\", \"find\", \"find\", \"find\", \"fine_but_state_tomorrow\", \"first\", \"first\", \"first\", \"first\", \"first\", \"first\", \"first\", \"first\", \"first_two\", \"fix\", \"fix\", \"fix\", \"fix\", \"follow\", \"follow\", \"follow\", \"follow\", \"follow\", \"follow\", \"follow\", \"follow\", \"follow_moss\", \"for_south_engineer_decision\", \"for_swap\", \"form\", \"form\", \"form\", \"form\", \"founder_bill\", \"free\", \"free\", \"free\", \"free\", \"free\", \"free\", \"free\", \"free\", \"funded_directe\", \"funky_competition_entire_so\", \"game\", \"game\", \"game\", \"game\", \"game\", \"game\", \"game\", \"game\", \"gaming\", \"gaming\", \"gaming\", \"gaming\", \"gaming\", \"gaming\", \"gaming\", \"gaming\", \"gaming_fun\", \"get\", \"get\", \"get\", \"get\", \"get\", \"get\", \"get\", \"get\", \"get_showe\", \"get_store\", \"give_space_heading_next\", \"globally_we\", \"go\", \"go\", \"go\", \"go\", \"go\", \"go\", \"go\", \"go\", \"go_zoom\", \"going_outside\", \"gold\", \"gold\", \"gold\", \"good\", \"good\", \"good\", \"good\", \"good\", \"good\", \"good\", \"good\", \"good_luck\", \"good_politics_state_deliver\", \"goods_russia\", \"graphic_designer_developer\", \"great\", \"great\", \"great\", \"great\", \"great\", \"great\", \"great\", \"great\", \"halo\", \"halo\", \"halo\", \"halo\", \"halo\", \"help\", \"help\", \"help\", \"help\", \"help\", \"help\", \"help\", \"help\", \"here_excel_that_will\", \"hide\", \"hide\", \"high\", \"high\", \"high\", \"high\", \"high\", \"high\", \"hire_state_doesnt_good\", \"how_repeatedly\", \"how_stock\", \"hulu_visa_meta_apple\", \"if_want\", \"if_want\", \"if_want\", \"indefinitely_sell\", \"industry\", \"industry\", \"industry\", \"industry\", \"industry\", \"industry\", \"industry\", \"industry\", \"input\", \"instant\", \"instead\", \"instead\", \"instead\", \"instead\", \"instead\", \"international_foundation\", \"invest\", \"invest\", \"invest\", \"invest\", \"join\", \"join\", \"join\", \"join\", \"join\", \"join\", \"join\", \"judge\", \"judge\", \"jump\", \"key\", \"key\", \"key\", \"key\", \"key\", \"key\", \"know\", \"know\", \"know\", \"know\", \"know\", \"know\", \"know\", \"last\", \"last\", \"last\", \"last\", \"last\", \"last\", \"last\", \"last_apple_spy_gold\", \"last_week\", \"lead\", \"lead\", \"lead\", \"lead\", \"lead\", \"lead\", \"learn\", \"learn\", \"learn\", \"learn\", \"learn\", \"learn\", \"learn\", \"learn\", \"learn_excel\", \"leave\", \"leave\", \"leave\", \"leave\", \"leave\", \"leave\", \"leave\", \"life\", \"life\", \"life\", \"life\", \"life\", \"like_office_proficiency_nee\", \"link\", \"link\", \"link\", \"link\", \"link\", \"link\", \"link\", \"little_wee\", \"long\", \"long\", \"long\", \"long\", \"long\", \"look\", \"look\", \"look\", \"look\", \"look\", \"look\", \"look\", \"love\", \"love\", \"love\", \"love\", \"love\", \"love\", \"love\", \"love\", \"lunch\", \"lunch\", \"lunch\", \"major\", \"major\", \"major\", \"major\", \"major\", \"make\", \"make\", \"make\", \"make\", \"make\", \"make\", \"make\", \"make\", \"make_happen\", \"make_happen\", \"make_happen\", \"management_positive\", \"many_more\", \"marked_end\", \"market\", \"market\", \"market\", \"market\", \"market\", \"market\", \"market\", \"media_complex\", \"media_marketing_language_classe\", \"medium\", \"medium\", \"medium\", \"medium\", \"medium\", \"meeting_amaze\", \"memory\", \"memory\", \"memory\", \"meta_dell\", \"military_worked_tandem_government\", \"misconduct_discrimination_seismic_game\", \"model\", \"model\", \"model\", \"modern_workplace\", \"monopoly\", \"monopoly\", \"monopoly\", \"monopoly\", \"monopoly\", \"monopoly\", \"more\", \"more\", \"more\", \"more\", \"more\", \"more\", \"more\", \"more\", \"more_and_end_get\", \"morgan\", \"most_influential\", \"most_suck\", \"move_image_go_hell\", \"movie_graduated\", \"much\", \"much\", \"much\", \"much\", \"much\", \"much\", \"much\", \"need\", \"need\", \"need\", \"need\", \"need\", \"need\", \"need\", \"need\", \"need_focus\", \"net\", \"net\", \"net\", \"net\", \"net\", \"never\", \"never\", \"never\", \"never\", \"never\", \"never\", \"new\", \"new\", \"new\", \"new\", \"new\", \"new\", \"new\", \"new\", \"new_geometry\", \"new_translator\", \"news\", \"news\", \"news\", \"news\", \"news\", \"news\", \"news\", \"news_basically\", \"next\", \"next\", \"next\", \"next\", \"next\", \"next\", \"next\", \"next\", \"no_one_acquisition\", \"north\", \"now\", \"now\", \"now\", \"now\", \"now\", \"now\", \"now\", \"now_guess\", \"of_payment\", \"office\", \"office\", \"office\", \"office\", \"office\", \"office\", \"office\", \"office\", \"official_twitter\", \"officially_ending_support_iconic\", \"one_bigg\", \"one_wasted_time_busy\", \"open\", \"open\", \"open\", \"open\", \"open\", \"open\", \"open\", \"open\", \"open_source_engine_that\", \"organization_wholly\", \"our_latest_technology_teste\", \"overwatch\", \"overwatch\", \"overwatch_blizzard\", \"paint\", \"paint\", \"part\", \"part\", \"part\", \"part\", \"part\", \"part\", \"part_absolutely\", \"partnership_cloud\", \"patriot_mobile\", \"pay\", \"pay\", \"pay\", \"pay\", \"pay\", \"pay\", \"pay\", \"people\", \"people\", \"people\", \"people\", \"people\", \"people\", \"people\", \"people\", \"people_learne\", \"people_u\", \"per_analysis\", \"physical\", \"physical\", \"picture\", \"picture\", \"picture\", \"place\", \"place\", \"place\", \"place\", \"place_dropout_cant_later\", \"platform\", \"platform\", \"platform\", \"platform\", \"platform\", \"platform\", \"platform\", \"plus_discovery\", \"plus_unlock\", \"position\", \"position\", \"position\", \"position\", \"post\", \"post\", \"post\", \"post\", \"post\", \"post\", \"post_tutor\", \"power\", \"power\", \"power\", \"power\", \"power\", \"power\", \"power\", \"power\", \"power_play_console_war\", \"premium\", \"premium\", \"premium_account\", \"premium_account\", \"premium_go\", \"premium_pro_plus_fam\", \"price\", \"price\", \"price\", \"price\", \"price\", \"price\", \"private_order\", \"product\", \"product\", \"product\", \"product\", \"product\", \"product\", \"product\", \"productivity\", \"productivity\", \"project\", \"project\", \"project\", \"project\", \"project\", \"project\", \"protect\", \"protect\", \"protect\", \"protect\", \"public\", \"public\", \"public\", \"public\", \"public\", \"publisher\", \"publisher\", \"publisher\", \"pull\", \"pull\", \"pull\", \"put\", \"put\", \"put\", \"put\", \"put\", \"put\", \"python\", \"quake\", \"quantum\", \"rank\", \"rank\", \"read\", \"read\", \"read\", \"read\", \"read\", \"read\", \"read\", \"read\", \"really\", \"really\", \"really\", \"really\", \"really\", \"really\", \"really\", \"really\", \"register\", \"register\", \"register\", \"register\", \"register\", \"register\", \"register\", \"relationship_technology\", \"release\", \"release\", \"release\", \"release\", \"release\", \"release\", \"release\", \"reminder\", \"reminder\", \"remote\", \"remote\", \"remote\", \"remote\", \"removed_article_protection_older\", \"removed_article_protection_older\", \"report\", \"report\", \"report\", \"report\", \"report\", \"report\", \"report\", \"report\", \"reportedly\", \"reportedly\", \"reportedly\", \"reportedly\", \"reset\", \"respect_longevity_word_nothe\", \"retire\", \"retire_explorer_web_browser\", \"right\", \"right\", \"right\", \"right\", \"right\", \"right\", \"right\", \"right\", \"round\", \"round\", \"rumble_pizza\", \"run\", \"run\", \"run\", \"run\", \"run\", \"run\", \"run\", \"run\", \"russia_the_company_large\", \"s\", \"s\", \"s\", \"s\", \"s\", \"s\", \"s\", \"s\", \"sale\", \"sale\", \"sale\", \"sale\", \"sale\", \"sale\", \"saved_countless\", \"say\", \"say\", \"say\", \"say\", \"say\", \"say\", \"say\", \"say\", \"schedule\", \"schedule\", \"science_intern\", \"scorn\", \"search_nondisclosure_legal_reveal\", \"sector_apple\", \"security\", \"security\", \"security\", \"security\", \"security\", \"security\", \"security\", \"security\", \"see\", \"see\", \"see\", \"see\", \"see\", \"see\", \"see\", \"see\", \"seem_think\", \"seismic_gaming_deal_come\", \"sell\", \"sell\", \"sell\", \"sell\", \"sell\", \"sell\", \"sell\", \"selling_premium\", \"selling_premium\", \"selling_premium\", \"senate_lot_information_take\", \"senior_civil\", \"series\", \"series\", \"series\", \"series\", \"series\", \"series\", \"series\", \"serum_institute\", \"serve_blizzard\", \"service\", \"service\", \"service\", \"service\", \"service\", \"service\", \"service\", \"service_tutor\", \"she_business\", \"she_clock\", \"slack\", \"slack_billion_billion_billion\", \"so_bought\", \"so_really_cool_new\", \"soft_exit\", \"soon\", \"soon\", \"soon\", \"soon\", \"speaker\", \"speaker\", \"spend_billion\", \"stalker_theyre_living_war\", \"start\", \"start\", \"start\", \"start\", \"start\", \"start\", \"start\", \"start\", \"still\", \"still\", \"still\", \"still\", \"still\", \"still\", \"still\", \"still\", \"stop\", \"stop\", \"stop\", \"stop\", \"stop\", \"stop\", \"stop\", \"stop\", \"stopping_many_business_russia\", \"store\", \"store\", \"store\", \"store\", \"store\", \"store\", \"store\", \"store\", \"subscription\", \"subscription\", \"subscription\", \"subscription\", \"subscription\", \"sue_gray\", \"suffer\", \"suite\", \"suite\", \"suite\", \"suite\", \"support\", \"support\", \"support\", \"support\", \"support\", \"support\", \"support\", \"support\", \"surface\", \"surface\", \"surface\", \"surface\", \"surface\", \"swap_focal\", \"switch\", \"switch\", \"switch\", \"switch\", \"switch\", \"switch\", \"tab_word\", \"take\", \"take\", \"take\", \"take\", \"take\", \"take\", \"take\", \"take\", \"take_free_they_social\", \"talk\", \"talk\", \"talk\", \"talk\", \"talk\", \"talk\", \"talk\", \"team\", \"team\", \"team\", \"team\", \"team\", \"team\", \"team\", \"team\", \"tech\", \"tech\", \"tech\", \"tech\", \"tech\", \"tech\", \"tech\", \"tech\", \"tech_community\", \"tech_community\", \"tech_community\", \"tech_community\", \"tech_community\", \"technology_many\", \"terrible\", \"test\", \"test\", \"test\", \"test\", \"test\", \"test\", \"thank\", \"thank\", \"thank\", \"thank\", \"thank\", \"thank\", \"the_first_ai_token\", \"the_next_future_of\", \"think\", \"think\", \"think\", \"think\", \"think\", \"think\", \"think\", \"think\", \"this_building_like_designe\", \"this_shocke\", \"thread\", \"thread\", \"thread\", \"time\", \"time\", \"time\", \"time\", \"time\", \"time\", \"time\", \"time\", \"time_climax_meanwhile\", \"today\", \"today\", \"today\", \"today\", \"today\", \"today\", \"today\", \"today_erased_history_also\", \"top\", \"top\", \"top\", \"top\", \"top\", \"top\", \"top\", \"top\", \"train\", \"train\", \"train\", \"train\", \"train\", \"translate\", \"translate_adde\", \"trillion_million_total_population\", \"true_privacy\", \"try\", \"try\", \"try\", \"try\", \"try\", \"try\", \"try\", \"try\", \"twitter_killer\", \"two_later\", \"undercutting_industry\", \"update\", \"update\", \"update\", \"update\", \"update\", \"update\", \"update\", \"update\", \"us_get_sweet_wallet\", \"use\", \"use\", \"use\", \"use\", \"use\", \"use\", \"use\", \"use\", \"use_massive\", \"various_way\", \"version\", \"version\", \"version\", \"version\", \"version\", \"version\", \"video_believe\", \"video_unique\", \"volume\", \"voting\", \"waiting_theyre\", \"want\", \"want\", \"want\", \"want\", \"want\", \"want\", \"want\", \"want\", \"want_say_please_take\", \"war\", \"war\", \"war\", \"war\", \"watch\", \"watch\", \"watch\", \"watch\", \"watch\", \"watch\", \"watch\", \"way\", \"way\", \"way\", \"way\", \"way\", \"way\", \"way\", \"way\", \"we_announce_strategic_collaboration\", \"web\", \"web\", \"web\", \"web\", \"week\", \"week\", \"week\", \"week\", \"week\", \"week\", \"weekly\", \"well\", \"well\", \"well\", \"well\", \"well\", \"well\", \"well\", \"well_legal\", \"well_paralyze_country_effectively\", \"white_good_evil_you\", \"whoever_designe\", \"window\", \"window\", \"wonder\", \"wonder\", \"wonder\", \"wonder\", \"word\", \"word\", \"word\", \"word\", \"word\", \"word\", \"word\", \"word_add\", \"word_excel\", \"word_excel\", \"work\", \"work\", \"work\", \"work\", \"work\", \"work\", \"work\", \"work\", \"working_data\", \"working_explore\", \"works_still_standard_want\", \"world_investment\", \"worst_virus\", \"write\", \"write\", \"write\", \"write\", \"write\", \"write\", \"write\", \"write\", \"wrote_post\", \"you_excel_long_time\", \"you_time\", \"your_phone\", \"zoom\", \"zoom\", \"zoom\", \"zoom\", \"zoom\", \"zoom_pro_learn_mop\"]}, \"R\": 30, \"lambda.step\": 0.01, \"plot.opts\": {\"xlab\": \"PC1\", \"ylab\": \"PC2\"}, \"topic.order\": [1, 2, 3, 4, 5, 6, 7, 8]};\n",
       "\n",
       "function LDAvis_load_lib(url, callback){\n",
       "  var s = document.createElement('script');\n",
       "  s.src = url;\n",
       "  s.async = true;\n",
       "  s.onreadystatechange = s.onload = callback;\n",
       "  s.onerror = function(){console.warn(\"failed to load library \" + url);};\n",
       "  document.getElementsByTagName(\"head\")[0].appendChild(s);\n",
       "}\n",
       "\n",
       "if(typeof(LDAvis) !== \"undefined\"){\n",
       "   // already loaded: just create the visualization\n",
       "   !function(LDAvis){\n",
       "       new LDAvis(\"#\" + \"ldavis_el24404132097412166017904191\", ldavis_el24404132097412166017904191_data);\n",
       "   }(LDAvis);\n",
       "}else if(typeof define === \"function\" && define.amd){\n",
       "   // require.js is available: use it to load d3/LDAvis\n",
       "   require.config({paths: {d3: \"https://d3js.org/d3.v5\"}});\n",
       "   require([\"d3\"], function(d3){\n",
       "      window.d3 = d3;\n",
       "      LDAvis_load_lib(\"https://cdn.jsdelivr.net/gh/bmabey/pyLDAvis@3.4.0/pyLDAvis/js/ldavis.v3.0.0.js\", function(){\n",
       "        new LDAvis(\"#\" + \"ldavis_el24404132097412166017904191\", ldavis_el24404132097412166017904191_data);\n",
       "      });\n",
       "    });\n",
       "}else{\n",
       "    // require.js not available: dynamically load d3 & LDAvis\n",
       "    LDAvis_load_lib(\"https://d3js.org/d3.v5.js\", function(){\n",
       "         LDAvis_load_lib(\"https://cdn.jsdelivr.net/gh/bmabey/pyLDAvis@3.4.0/pyLDAvis/js/ldavis.v3.0.0.js\", function(){\n",
       "                 new LDAvis(\"#\" + \"ldavis_el24404132097412166017904191\", ldavis_el24404132097412166017904191_data);\n",
       "            })\n",
       "         });\n",
       "}\n",
       "</script>"
      ],
      "text/plain": [
       "<IPython.core.display.HTML object>"
      ]
     },
     "execution_count": 123,
     "metadata": {},
     "output_type": "execute_result"
    }
   ],
   "source": [
    "lda_display = gensimvis.prepare(lda_model_tweets_8_topics, \n",
    "                                doc_term_matrix, \n",
    "                                dictionary, \n",
    "                                sort_topics=False, \n",
    "                                mds='mmds')\n",
    "pyLDAvis.display(lda_display)"
   ]
  },
  {
   "cell_type": "markdown",
   "metadata": {},
   "source": [
    "# Conclusions\n",
    "\n",
    "#### Both articles and tweets were cleaned, lemmatized, and had n-grams created before the dictionary corpus and document term matrix were made. Due to resource constraints, the grid search functions only iterated over varying values of *n* topics; more compute resoure could allow further tuning of LDA alpha and beta values as well as more topics (*n*). After running both LDA models for the corresonding ideal topics, the diagram indicated a distinct spread between the topic clusters (no overlap), meaning the topics are distinct from each other for both Tweets and Articles.\n",
    "\n",
    "### *Articles:*\n",
    "\n",
    "#### The article dataset was created by appending the article title to the front of the article text body. The grid search indicated number of topics set to *n=2* was most appropriate. The coherence value for the corresponding LDA model was 0.4195. Examining the diagram for these 2 news article topics indiates the following: \n",
    "\n",
    "1. Topic #1 (finance) - companies, markets, busines\n",
    "2. Topic #2 (music and videos) - videos, music, music videos\n",
    "\n",
    "### *Tweets:*\n",
    "\n",
    "#### The grid search indicated number of topics set to *n=8* was most appropriate. The coherence value for the corresponding LDA model was 0.4566. Examining the digram across these 8 tweet topics indicates the following:\n",
    "\n",
    "1. Topic #1 (Work & Tech) - office, work, technology\n",
    "2. Topic #2 (IT) - azure, support, security\n",
    "3. Topic #3 (Cloud & Programming) - team, cloud, python\n",
    "4. Topic #4 (Finanial Markets) - work, company, sell, buy\n",
    "5. Topic #5 (Business) - buy, business, premium, office, acquisition\n",
    "6. Topic #6 (War/Conflict) - agressor, evil, war\n",
    "7. Topic #7 (Gaming) - game, video, technology\n",
    "8. Topic #8 (Microsoft Products) - explorer, zoom, edge, update, product, version\n"
   ]
  }
 ],
 "metadata": {
  "kernelspec": {
   "display_name": "Python 3.10.10 ('base')",
   "language": "python",
   "name": "python3"
  },
  "language_info": {
   "codemirror_mode": {
    "name": "ipython",
    "version": 3
   },
   "file_extension": ".py",
   "mimetype": "text/x-python",
   "name": "python",
   "nbconvert_exporter": "python",
   "pygments_lexer": "ipython3",
   "version": "3.10.10"
  },
  "vscode": {
   "interpreter": {
    "hash": "a9739a3ee864b5f74d703657e4ddbfdf7f7ccbe6642a458f796596a18bcc5b2e"
   }
  }
 },
 "nbformat": 4,
 "nbformat_minor": 4
}
